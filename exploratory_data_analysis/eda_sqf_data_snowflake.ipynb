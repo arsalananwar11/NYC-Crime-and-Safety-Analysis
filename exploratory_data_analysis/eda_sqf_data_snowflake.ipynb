{
 "cells": [
  {
   "cell_type": "code",
   "execution_count": 13,
   "metadata": {},
   "outputs": [],
   "source": [
    "from snowflake.snowpark import Session\n",
    "import json\n",
    "import os"
   ]
  },
  {
   "cell_type": "code",
   "execution_count": 20,
   "metadata": {},
   "outputs": [],
   "source": [
    "#json.load('./../settings/snowflake/config.json')"
   ]
  },
  {
   "cell_type": "code",
   "execution_count": 19,
   "metadata": {},
   "outputs": [],
   "source": [
    "connection_parameters = {\n",
    "    \"account\": \"wyfmssh-kt01771\",\n",
    "    \"user\": \"DATA_DETECTIVES_ADMIN\",\n",
    "    \"password\": \"DataDetectives@2023\",\n",
    "    #\"role\": \"SYSADMIN\",  # optional\n",
    "    \"warehouse\": \"SAFEGUARDING_NYC_WH\",  # optional\n",
    "    \"database\": \"SAFEGUARDING_NYC_DB\"  # optional\n",
    "    #\"schema\": \"<your snowflake schema>\",  # optional\n",
    "  }  \n",
    "\n",
    "new_session = Session.builder.configs(connection_parameters).create()"
   ]
  },
  {
   "cell_type": "code",
   "execution_count": null,
   "metadata": {},
   "outputs": [],
   "source": []
  }
 ],
 "metadata": {
  "kernelspec": {
   "display_name": "Python 3",
   "language": "python",
   "name": "python3"
  },
  "language_info": {
   "codemirror_mode": {
    "name": "ipython",
    "version": 3
   },
   "file_extension": ".py",
   "mimetype": "text/x-python",
   "name": "python",
   "nbconvert_exporter": "python",
   "pygments_lexer": "ipython3",
   "version": "3.10.10"
  }
 },
 "nbformat": 4,
 "nbformat_minor": 2
}

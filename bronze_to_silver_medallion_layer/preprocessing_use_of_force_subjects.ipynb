{
 "cells": [
  {
   "cell_type": "markdown",
   "metadata": {},
   "source": [
    "## Imports"
   ]
  },
  {
   "cell_type": "code",
   "execution_count": 16,
   "metadata": {},
   "outputs": [],
   "source": [
    "import sys\n",
    "sys.path.append(\"..\")"
   ]
  },
  {
   "cell_type": "code",
   "execution_count": 17,
   "metadata": {},
   "outputs": [],
   "source": [
    "from snowflake.snowpark import Session\n",
    "from snowflake.snowpark.functions import when, col, count\n",
    "from datetime import date\n",
    "from helpers import SnowflakeHelper\n",
    "import json\n",
    "import os"
   ]
  },
  {
   "cell_type": "code",
   "execution_count": 18,
   "metadata": {},
   "outputs": [
    {
     "name": "stdout",
     "output_type": "stream",
     "text": [
      "[SUCCESS] Config file loaded successfully!\n",
      "[SUCCESS] Snowspark Session created successfully!\n"
     ]
    }
   ],
   "source": [
    "snowflake_helper = SnowflakeHelper()\n",
    "snowflake_config = './../helpers/snowflake_config.json'\n",
    "session = snowflake_helper.create_snowpark_session(snowflake_config)\n",
    "session.use_schema(\"SAFEGUARDING_NYC_SCHEMA_BRONZE\")"
   ]
  },
  {
   "cell_type": "markdown",
   "metadata": {},
   "source": [
    "## Extracting Data"
   ]
  },
  {
   "cell_type": "code",
   "execution_count": 19,
   "metadata": {},
   "outputs": [],
   "source": [
    "use_of_force_subjects = session.table('use_of_force_subjects')"
   ]
  },
  {
   "cell_type": "code",
   "execution_count": 20,
   "metadata": {},
   "outputs": [
    {
     "name": "stdout",
     "output_type": "stream",
     "text": [
      "----------------------------------------------------------------------------------------------------------------------------------------------------------------------------------------------------------------------------------------------------\n",
      "|\"_AIRBYTE_RAW_ID\"                     |\"_AIRBYTE_EXTRACTED_AT\"    |\"_AIRBYTE_META\"  |\"SUBJECT INJURED\"  |\"SUBJECT INJURY LEVEL\"  |\"SUBJECT RACE\"  |\"FORCE AGAINST MOS\"  |\"TRI INCIDENT NUMBER\"  |\"SUBJECT GENDER\"  |\"SUBJECT USED FORCE\"  |\"AGE\"  |\n",
      "----------------------------------------------------------------------------------------------------------------------------------------------------------------------------------------------------------------------------------------------------\n",
      "|ae4cc5ae-a408-4d2d-867d-93ffe47ebdec  |2023-12-02 23:15:31-08:00  |{                |N                  |No Injury               |BLACK           |Physical Force       |2020020962067          |MALE              |Y                     |NULL   |\n",
      "|                                      |                           |  \"errors\": []   |                   |                        |                |                     |                       |                  |                      |       |\n",
      "|                                      |                           |}                |                   |                        |                |                     |                       |                  |                      |       |\n",
      "|d0c02930-7f6f-4525-935b-24de8136b520  |2023-12-02 23:15:31-08:00  |{                |N                  |No Injury               |BLACK           |Physical Force       |2020020962143          |MALE              |Y                     |NULL   |\n",
      "|                                      |                           |  \"errors\": []   |                   |                        |                |                     |                       |                  |                      |       |\n",
      "|                                      |                           |}                |                   |                        |                |                     |                       |                  |                      |       |\n",
      "|c0dd970b-e2b3-4f29-9119-9efb9d058ffd  |2023-12-02 23:15:31-08:00  |{                |N                  |No Injury               |BLACK           |Physical Force       |2020024962080          |MALE              |Y                     |NULL   |\n",
      "|                                      |                           |  \"errors\": []   |                   |                        |                |                     |                       |                  |                      |       |\n",
      "|                                      |                           |}                |                   |                        |                |                     |                       |                  |                      |       |\n",
      "|f076faf9-1cd8-47f3-9b2a-68e91d2b9dbb  |2023-12-02 23:15:31-08:00  |{                |N                  |No Injury               |BLACK           |Physical Force       |2020025962038          |MALE              |Y                     |NULL   |\n",
      "|                                      |                           |  \"errors\": []   |                   |                        |                |                     |                       |                  |                      |       |\n",
      "|                                      |                           |}                |                   |                        |                |                     |                       |                  |                      |       |\n",
      "|9b02c183-1f47-4dc9-a57f-44a5ae26b6c2  |2023-12-02 23:15:31-08:00  |{                |N                  |No Injury               |BLACK           |Physical Force       |2020025962049          |MALE              |Y                     |NULL   |\n",
      "|                                      |                           |  \"errors\": []   |                   |                        |                |                     |                       |                  |                      |       |\n",
      "|                                      |                           |}                |                   |                        |                |                     |                       |                  |                      |       |\n",
      "|3d7ffcc3-1b76-4331-a1f6-29171c6de3da  |2023-12-02 23:15:31-08:00  |{                |N                  |No Injury               |BLACK           |Physical Force       |2020025962140          |MALE              |Y                     |NULL   |\n",
      "|                                      |                           |  \"errors\": []   |                   |                        |                |                     |                       |                  |                      |       |\n",
      "|                                      |                           |}                |                   |                        |                |                     |                       |                  |                      |       |\n",
      "|75070157-0fc3-4b37-b002-d580b2f52c79  |2023-12-02 23:15:31-08:00  |{                |N                  |No Injury               |BLACK           |Physical Force       |2020026962081          |MALE              |Y                     |NULL   |\n",
      "|                                      |                           |  \"errors\": []   |                   |                        |                |                     |                       |                  |                      |       |\n",
      "|                                      |                           |}                |                   |                        |                |                     |                       |                  |                      |       |\n",
      "|b81af564-91fc-4836-9a1a-2f5602234953  |2023-12-02 23:15:31-08:00  |{                |N                  |No Injury               |BLACK           |Physical Force       |2020032962033          |MALE              |Y                     |NULL   |\n",
      "|                                      |                           |  \"errors\": []   |                   |                        |                |                     |                       |                  |                      |       |\n",
      "|                                      |                           |}                |                   |                        |                |                     |                       |                  |                      |       |\n",
      "|abbdec61-977c-46e6-a5ea-2a44212fb671  |2023-12-02 23:15:31-08:00  |{                |N                  |No Injury               |BLACK           |Physical Force       |2020032962062          |MALE              |Y                     |NULL   |\n",
      "|                                      |                           |  \"errors\": []   |                   |                        |                |                     |                       |                  |                      |       |\n",
      "|                                      |                           |}                |                   |                        |                |                     |                       |                  |                      |       |\n",
      "|f942e217-ab99-496c-84b0-24856c6facaf  |2023-12-02 23:15:31-08:00  |{                |N                  |No Injury               |BLACK           |Physical Force       |2020032962112          |MALE              |Y                     |NULL   |\n",
      "|                                      |                           |  \"errors\": []   |                   |                        |                |                     |                       |                  |                      |       |\n",
      "|                                      |                           |}                |                   |                        |                |                     |                       |                  |                      |       |\n",
      "----------------------------------------------------------------------------------------------------------------------------------------------------------------------------------------------------------------------------------------------------\n",
      "\n"
     ]
    }
   ],
   "source": [
    "use_of_force_subjects.show()"
   ]
  },
  {
   "cell_type": "code",
   "execution_count": 21,
   "metadata": {},
   "outputs": [
    {
     "data": {
      "text/plain": [
       "29961"
      ]
     },
     "execution_count": 21,
     "metadata": {},
     "output_type": "execute_result"
    }
   ],
   "source": [
    "use_of_force_subjects.count()"
   ]
  },
  {
   "cell_type": "markdown",
   "metadata": {},
   "source": [
    "## Pre-processing"
   ]
  },
  {
   "cell_type": "markdown",
   "metadata": {},
   "source": [
    "### Dropping non-important columns"
   ]
  },
  {
   "cell_type": "code",
   "execution_count": 22,
   "metadata": {},
   "outputs": [],
   "source": [
    "use_of_force_subjects =use_of_force_subjects.drop([\"_AIRBYTE_RAW_ID\", \"_AIRBYTE_EXTRACTED_AT\", \"_AIRBYTE_META\", \"SUBJECT INJURED\", \"SUBJECT INJURY LEVEL\", \"SUBJECT USED FORCE\"])"
   ]
  },
  {
   "cell_type": "code",
   "execution_count": 23,
   "metadata": {},
   "outputs": [
    {
     "name": "stdout",
     "output_type": "stream",
     "text": [
      "-------------------------------------------------------------------------------------------\n",
      "|\"SUBJECT RACE\"  |\"FORCE AGAINST MOS\"  |\"TRI INCIDENT NUMBER\"  |\"SUBJECT GENDER\"  |\"AGE\"  |\n",
      "-------------------------------------------------------------------------------------------\n",
      "|BLACK           |Physical Force       |2020020962067          |MALE              |NULL   |\n",
      "|BLACK           |Physical Force       |2020020962143          |MALE              |NULL   |\n",
      "|BLACK           |Physical Force       |2020024962080          |MALE              |NULL   |\n",
      "|BLACK           |Physical Force       |2020025962038          |MALE              |NULL   |\n",
      "|BLACK           |Physical Force       |2020025962049          |MALE              |NULL   |\n",
      "|BLACK           |Physical Force       |2020025962140          |MALE              |NULL   |\n",
      "|BLACK           |Physical Force       |2020026962081          |MALE              |NULL   |\n",
      "|BLACK           |Physical Force       |2020032962033          |MALE              |NULL   |\n",
      "|BLACK           |Physical Force       |2020032962062          |MALE              |NULL   |\n",
      "|BLACK           |Physical Force       |2020032962112          |MALE              |NULL   |\n",
      "-------------------------------------------------------------------------------------------\n",
      "\n"
     ]
    }
   ],
   "source": [
    "use_of_force_subjects.show()"
   ]
  },
  {
   "cell_type": "code",
   "execution_count": 24,
   "metadata": {},
   "outputs": [
    {
     "name": "stdout",
     "output_type": "stream",
     "text": [
      "Distinct counts for SUBJECT GENDER:\n",
      "------------------------------\n",
      "|\"SUBJECT GENDER\"  |\"COUNT\"  |\n",
      "------------------------------\n",
      "|MALE              |24863    |\n",
      "|FEMALE            |4160     |\n",
      "|UNK               |938      |\n",
      "------------------------------\n",
      "\n",
      "Distinct counts for AGE:\n",
      "-------------------\n",
      "|\"AGE\"  |\"COUNT\"  |\n",
      "-------------------\n",
      "|NULL   |1229     |\n",
      "|27     |1147     |\n",
      "|28     |1138     |\n",
      "|30     |1136     |\n",
      "|24     |1132     |\n",
      "|25     |1121     |\n",
      "|31     |1110     |\n",
      "|29     |1102     |\n",
      "|26     |1102     |\n",
      "|23     |1047     |\n",
      "-------------------\n",
      "\n",
      "Distinct counts for FORCE AGAINST MOS:\n",
      "---------------------------------\n",
      "|\"FORCE AGAINST MOS\"  |\"COUNT\"  |\n",
      "---------------------------------\n",
      "|Physical Force       |26288    |\n",
      "|No Force             |3034     |\n",
      "|Displayed Weapon     |296      |\n",
      "|Impact Weapon        |255      |\n",
      "|Firearm              |46       |\n",
      "|Cutting Instrument   |42       |\n",
      "---------------------------------\n",
      "\n"
     ]
    }
   ],
   "source": [
    "def get_distinct_counts(dataframe, column_name):\n",
    "    return dataframe.groupBy(column_name).agg(count(\"*\").alias(\"count\")).sort(\"count\", ascending=False)\n",
    "\n",
    "columns_to_check = [\"SUBJECT GENDER\", \"AGE\", \"FORCE AGAINST MOS\"]  # List of columns you want to check\n",
    "for col_name in columns_to_check:\n",
    "    distinct_counts = get_distinct_counts(use_of_force_subjects, col_name)\n",
    "    print(f\"Distinct counts for {col_name}:\")\n",
    "    distinct_counts.show()"
   ]
  },
  {
   "cell_type": "markdown",
   "metadata": {},
   "source": [
    "## Exporting the processed data to Silver Medallion"
   ]
  },
  {
   "cell_type": "code",
   "execution_count": 25,
   "metadata": {},
   "outputs": [],
   "source": [
    "table_name = \"SAFEGUARDING_NYC_SCHEMA_SILVER.use_of_force_subjects\"\n",
    "use_of_force_subjects.write.saveAsTable(table_name, mode=\"overwrite\")"
   ]
  },
  {
   "cell_type": "code",
   "execution_count": null,
   "metadata": {},
   "outputs": [],
   "source": []
  }
 ],
 "metadata": {
  "kernelspec": {
   "display_name": "Python 3",
   "language": "python",
   "name": "python3"
  },
  "language_info": {
   "codemirror_mode": {
    "name": "ipython",
    "version": 3
   },
   "file_extension": ".py",
   "mimetype": "text/x-python",
   "name": "python",
   "nbconvert_exporter": "python",
   "pygments_lexer": "ipython3",
   "version": "3.11.5"
  }
 },
 "nbformat": 4,
 "nbformat_minor": 2
}

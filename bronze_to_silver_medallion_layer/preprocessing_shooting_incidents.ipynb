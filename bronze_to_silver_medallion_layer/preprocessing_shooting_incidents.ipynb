{
 "cells": [
  {
   "cell_type": "code",
   "execution_count": 1,
   "metadata": {},
   "outputs": [],
   "source": [
    "import sys\n",
    "sys.path.append(\"..\")"
   ]
  },
  {
   "cell_type": "code",
   "execution_count": 2,
   "metadata": {},
   "outputs": [],
   "source": [
    "from snowflake.snowpark import Session\n",
    "import snowflake.snowpark.functions as F\n",
    "from datetime import date\n",
    "from helpers import SnowflakeHelper\n",
    "import json\n",
    "import os"
   ]
  },
  {
   "cell_type": "code",
   "execution_count": 3,
   "metadata": {},
   "outputs": [
    {
     "name": "stdout",
     "output_type": "stream",
     "text": [
      "[SUCCESS] Config file loaded successfully!\n",
      "[SUCCESS] Snowspark Session created successfully!\n"
     ]
    }
   ],
   "source": [
    "snowflake_helper = SnowflakeHelper()\n",
    "snowflake_config = './../helpers/snowflake_config.json'\n",
    "session = snowflake_helper.create_snowpark_session(snowflake_config)"
   ]
  },
  {
   "cell_type": "code",
   "execution_count": 6,
   "metadata": {},
   "outputs": [],
   "source": [
    "sqf = session.sql('SELECT * FROM SHOOTING_INCIDENTS')"
   ]
  },
  {
   "cell_type": "code",
   "execution_count": 7,
   "metadata": {},
   "outputs": [
    {
     "name": "stdout",
     "output_type": "stream",
     "text": [
      "-----------------------------------------------------------------------------------------------------------------------------------------------------------------------------------------------------------------------------------------------------------------------------------------------------------------------------------------------------------------------------------------------------------------------------------------------------------\n",
      "|\"_AIRBYTE_RAW_ID\"                     |\"_AIRBYTE_EXTRACTED_AT\"    |\"_AIRBYTE_META\"  |\"VIC_RACE\"      |\"OCCUR_TIME\"  |\"X_COORD_CD\"  |\"INCIDENT_KEY\"  |\"VIC_AGE_GROUP\"  |\"LATITUDE\"   |\"PERP_RACE\"     |\"Y_COORD_CD\"  |\"STATISTICAL_MURDER_FLAG\"  |\"LONGITUDE\"   |\"VIC_SEX\"  |\"BORO\"         |\"LON_LAT\"                                      |\"PERP_SEX\"  |\"LOCATION_DESC\"            |\"OCCUR_DATE\"  |\"PRECINCT\"  |\"PERP_AGE_GROUP\"  |\"JURISDICTION_CODE\"  |\n",
      "-----------------------------------------------------------------------------------------------------------------------------------------------------------------------------------------------------------------------------------------------------------------------------------------------------------------------------------------------------------------------------------------------------------------------------------------------------------\n",
      "|65b62222-d6af-47bb-91ef-9238348fecb8  |2023-11-28 21:41:41-08:00  |{                |BLACK           |11:34:00      |1012339.188   |12835945        |18-24            |40.66805904  |BLACK           |182681.5469   |FALSE                      |-73.89874761  |M          |BROOKLYN       |POINT (-73.89874760599999 40.668059035000056)  |M           |MULTI DWELL - PUBLIC HOUS  |05/07/2006    |75          |25-44             |2                    |\n",
      "|                                      |                           |  \"errors\": []   |                |              |              |                |                 |             |                |              |                           |              |           |               |                                               |            |                           |              |            |                  |                     |\n",
      "|                                      |                           |}                |                |              |              |                |                 |             |                |              |                           |              |           |               |                                               |            |                           |              |            |                  |                     |\n",
      "|7048bf5f-ea99-46fa-aa01-c782affb29bc  |2023-11-28 21:41:41-08:00  |{                |BLACK           |19:45:00      |997084.375    |27275897        |18-24            |40.66504004  |NULL            |181568.7969   |TRUE                       |-73.95373913  |M          |BROOKLYN       |POINT (-73.95373913499998 40.665040039000075)  |NULL        |NULL                       |03/07/2007    |71          |NULL              |0                    |\n",
      "|                                      |                           |  \"errors\": []   |                |              |              |                |                 |             |                |              |                           |              |           |               |                                               |            |                           |              |            |                  |                     |\n",
      "|                                      |                           |}                |                |              |              |                |                 |             |                |              |                           |              |           |               |                                               |            |                           |              |            |                  |                     |\n",
      "|1e212d2e-539d-46e0-91ed-9bbbd1597ceb  |2023-11-28 21:41:41-08:00  |{                |BLACK           |22:39:00      |960020.8125   |186239403       |18-24            |40.63953612  |BLACK           |172285.7031   |FALSE                      |-74.0873037   |M          |STATEN ISLAND  |POINT (-74.08730369799997 40.63953612100005)   |M           |MULTI DWELL - APT BUILD    |08/09/2018    |120         |<18               |0                    |\n",
      "|                                      |                           |  \"errors\": []   |                |              |              |                |                 |             |                |              |                           |              |           |               |                                               |            |                           |              |            |                  |                     |\n",
      "|                                      |                           |}                |                |              |              |                |                 |             |                |              |                           |              |           |               |                                               |            |                           |              |            |                  |                     |\n",
      "|5a096c76-9e92-4aaa-8976-8d47d4691a10  |2023-11-28 21:41:41-08:00  |{                |BLACK           |0:25:00       |998730        |32723803        |18-24            |40.78926022  |BLACK           |226827        |FALSE                      |-73.94771     |NULL       |MANHATTAN      |POINT (-73.94771000099996 40.78926022400003)   |M           |NULL                       |06/23/2007    |23          |18-24             |0                    |\n",
      "|                                      |                           |  \"errors\": []   |                |              |              |                |                 |             |                |              |                           |              |           |               |                                               |            |                           |              |            |                  |                     |\n",
      "|                                      |                           |}                |                |              |              |                |                 |             |                |              |                           |              |           |               |                                               |            |                           |              |            |                  |                     |\n",
      "|13c56bef-c902-474d-872f-ef060b5f6286  |2023-11-28 21:41:41-08:00  |{                |BLACK           |1:15:00       |993228        |84716846        |25-44            |40.79787774  |NULL            |229964        |FALSE                      |-73.96757511  |M          |MANHATTAN      |POINT (-73.96757511099997 40.79787774400006)   |NULL        |NULL                       |05/12/2012    |24          |NULL              |0                    |\n",
      "|                                      |                           |  \"errors\": []   |                |              |              |                |                 |             |                |              |                           |              |           |               |                                               |            |                           |              |            |                  |                     |\n",
      "|                                      |                           |}                |                |              |              |                |                 |             |                |              |                           |              |           |               |                                               |            |                           |              |            |                  |                     |\n",
      "|ac5add7e-7cd8-4a2a-a5c8-18dfa1b17c87  |2023-11-28 21:41:41-08:00  |{                |WHITE HISPANIC  |2:30:00       |1005852.063   |84701796        |25-44            |40.84575241  |NULL            |247414.4375   |FALSE                      |-73.92192393  |M          |BRONX          |POINT (-73.92192392899995 40.84575240700008)   |NULL        |MULTI DWELL - PUBLIC HOUS  |05/13/2012    |46          |NULL              |2                    |\n",
      "|                                      |                           |  \"errors\": []   |                |              |              |                |                 |             |                |              |                           |              |           |               |                                               |            |                           |              |            |                  |                     |\n",
      "|                                      |                           |}                |                |              |              |                |                 |             |                |              |                           |              |           |               |                                               |            |                           |              |            |                  |                     |\n",
      "|cdf8b5c5-a047-4da3-912b-4b409ac362a0  |2023-11-28 21:41:41-08:00  |{                |BLACK           |20:40:00      |1012667.813   |74675085        |25-44            |40.66903345  |NULL            |183036.9375   |FALSE                      |-73.8975615   |M          |BROOKLYN       |POINT (-73.89756150499994 40.66903345400004)   |NULL        |NULL                       |09/19/2010    |75          |NULL              |0                    |\n",
      "|                                      |                           |  \"errors\": []   |                |              |              |                |                 |             |                |              |                           |              |           |               |                                               |            |                           |              |            |                  |                     |\n",
      "|                                      |                           |}                |                |              |              |                |                 |             |                |              |                           |              |           |               |                                               |            |                           |              |            |                  |                     |\n",
      "|9046e0ca-6468-4e7a-9583-9b6d5bebe1a5  |2023-11-28 21:41:41-08:00  |{                |WHITE HISPANIC  |14:23:00      |1019428.25    |142679416       |25-44            |40.74879379  |WHITE HISPANIC  |212104.9063   |TRUE                       |-73.87303979  |M          |QUEENS         |POINT (-73.87303978699998 40.74879378900005)   |M           |NULL                       |05/05/2015    |110         |25-44             |0                    |\n",
      "|                                      |                           |  \"errors\": []   |                |              |              |                |                 |             |                |              |                           |              |           |               |                                               |            |                           |              |            |                  |                     |\n",
      "|                                      |                           |}                |                |              |              |                |                 |             |                |              |                           |              |           |               |                                               |            |                           |              |            |                  |                     |\n",
      "|510629a0-231c-4f1c-b2c0-15df209e82a0  |2023-11-28 21:41:41-08:00  |{                |BLACK HISPANIC  |5:29:00       |1017119.438   |26562471        |18-24            |40.67141261  |BLACK HISPANIC  |183909.3438   |FALSE                      |-73.88151014  |F          |BROOKLYN       |POINT (-73.88151014499994 40.67141260500006)   |M           |BAR/NIGHT CLUB             |01/28/2007    |75          |18-24             |0                    |\n",
      "|                                      |                           |  \"errors\": []   |                |              |              |                |                 |             |                |              |                           |              |           |               |                                               |            |                           |              |            |                  |                     |\n",
      "|                                      |                           |}                |                |              |              |                |                 |             |                |              |                           |              |           |               |                                               |            |                           |              |            |                  |                     |\n",
      "|53cac6c1-821a-4d44-8ba0-f4d1fadbb24c  |2023-11-28 21:41:41-08:00  |{                |BLACK HISPANIC  |22:25:00      |1013666.688   |195102368       |25-44            |40.84264697  |NULL            |246291.2344   |FALSE                      |-73.89368405  |M          |BRONX          |POINT (-73.89368404899994 40.84264697100008)   |NULL        |MULTI DWELL - PUBLIC HOUS  |03/22/2019    |48          |NULL              |2                    |\n",
      "|                                      |                           |  \"errors\": []   |                |              |              |                |                 |             |                |              |                           |              |           |               |                                               |            |                           |              |            |                  |                     |\n",
      "|                                      |                           |}                |                |              |              |                |                 |             |                |              |                           |              |           |               |                                               |            |                           |              |            |                  |                     |\n",
      "-----------------------------------------------------------------------------------------------------------------------------------------------------------------------------------------------------------------------------------------------------------------------------------------------------------------------------------------------------------------------------------------------------------------------------------------------------------\n",
      "\n"
     ]
    }
   ],
   "source": [
    "sqf.show()"
   ]
  },
  {
   "cell_type": "code",
   "execution_count": null,
   "metadata": {},
   "outputs": [],
   "source": []
  }
 ],
 "metadata": {
  "kernelspec": {
   "display_name": "Python 3",
   "language": "python",
   "name": "python3"
  },
  "language_info": {
   "codemirror_mode": {
    "name": "ipython",
    "version": 3
   },
   "file_extension": ".py",
   "mimetype": "text/x-python",
   "name": "python",
   "nbconvert_exporter": "python",
   "pygments_lexer": "ipython3",
   "version": "3.11.4"
  }
 },
 "nbformat": 4,
 "nbformat_minor": 2
}

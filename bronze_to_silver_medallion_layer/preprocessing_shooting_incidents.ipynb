{
 "cells": [
  {
   "cell_type": "code",
   "execution_count": 1,
   "metadata": {},
   "outputs": [],
   "source": [
    "import sys\n",
    "sys.path.append(\"..\")"
   ]
  },
  {
   "cell_type": "code",
   "execution_count": 2,
   "metadata": {},
   "outputs": [],
   "source": [
    "from snowflake.snowpark import Session, dataframe\n",
    "import snowflake.snowpark.functions as F\n",
    "from snowflake.snowpark.functions import when, col\n",
    "from datetime import date\n",
    "from helpers import SnowflakeHelper\n",
    "from snowflake.snowpark.functions import col\n",
    "from snowflake.snowpark.functions import date_format\n",
    "import json\n",
    "import os"
   ]
  },
  {
   "cell_type": "code",
   "execution_count": 3,
   "metadata": {},
   "outputs": [],
   "source": [
    "null_value_mapping = {\n",
    "    '(null)': None,\n",
    "    'Nan': None,\n",
    "    'NONE': None,\n",
    "    'nan': None,\n",
    "    'U': None,\n",
    "    'UNKNOWN': None\n",
    "}\n",
    "\n",
    "age_mapping = {\n",
    "    '224': None, \n",
    "    '1020': None, \n",
    "    '940': None, \n",
    "    '1022': None\n",
    "}\n",
    "\n",
    "race_mapping = {\n",
    "    'ASIAN / PACIFIC ISLANDER' : 'ASIAN/PACIFIC ISLANDER'\n",
    "}"
   ]
  },
  {
   "cell_type": "code",
   "execution_count": 4,
   "metadata": {},
   "outputs": [
    {
     "name": "stdout",
     "output_type": "stream",
     "text": [
      "[SUCCESS] Config file loaded successfully!\n",
      "[SUCCESS] Snowspark Session created successfully!\n"
     ]
    }
   ],
   "source": [
    "snowflake_helper = SnowflakeHelper()\n",
    "snowflake_config = './../helpers/snowflake_config.json'\n",
    "session = snowflake_helper.create_snowpark_session(snowflake_config)\n",
    "session.use_schema(\"SAFEGUARDING_NYC_SCHEMA_BRONZE\")"
   ]
  },
  {
   "cell_type": "code",
   "execution_count": 5,
   "metadata": {},
   "outputs": [],
   "source": [
    "shooting_data = session.table('SHOOTING_INCIDENTS')"
   ]
  },
  {
   "cell_type": "code",
   "execution_count": 6,
   "metadata": {},
   "outputs": [
    {
     "name": "stdout",
     "output_type": "stream",
     "text": [
      "----------------------------------------------------------------------------------------------------------------------------------------------------------------------------------------------------------------------------------------------------------------------------------------------------------------------------------------------------------------------------------------------------------------------------------------------------------------------------------------------------\n",
      "|\"_AIRBYTE_RAW_ID\"                     |\"_AIRBYTE_EXTRACTED_AT\"    |\"_AIRBYTE_META\"  |\"VIC_RACE\"      |\"OCCUR_TIME\"  |\"X_COORD_CD\"  |\"INCIDENT_KEY\"  |\"VIC_AGE_GROUP\"  |\"LOC_OF_OCCUR_DESC\"  |\"LATITUDE\"   |\"PERP_RACE\"     |\"Y_COORD_CD\"  |\"STATISTICAL_MURDER_FLAG\"  |\"LONGITUDE\"   |\"VIC_SEX\"  |\"BORO\"     |\"LON_LAT\"                                      |\"PERP_SEX\"  |\"LOCATION_DESC\"            |\"OCCUR_DATE\"  |\"PRECINCT\"  |\"LOC_CLASSFCTN_DESC\"  |\"PERP_AGE_GROUP\"  |\"JURISDICTION_CODE\"  |\n",
      "----------------------------------------------------------------------------------------------------------------------------------------------------------------------------------------------------------------------------------------------------------------------------------------------------------------------------------------------------------------------------------------------------------------------------------------------------------------------------------------------------\n",
      "|971da082-0dd1-4987-9334-20a0ea7f39b1  |2023-12-02 23:16:15-08:00  |{                |BLACK           |19:13:00      |999983.25     |28832628        |<18              |NULL                 |40.70370632  |BLACK           |195657.75     |FALSE                      |-73.94325706  |F          |BROOKLYN   |POINT (-73.94325706499997 40.70370632200007)   |M           |MULTI DWELL - PUBLIC HOUS  |05/04/2007    |90          |NULL                  |<18               |2                    |\n",
      "|                                      |                           |  \"errors\": []   |                |              |              |                |                 |                     |             |                |              |                           |              |           |           |                                               |            |                           |              |            |                      |                  |                     |\n",
      "|                                      |                           |}                |                |              |              |                |                 |                     |             |                |              |                           |              |           |           |                                               |            |                           |              |            |                      |                  |                     |\n",
      "|d2687e68-3ce9-400f-b989-d8573c7de23c  |2023-12-02 23:16:15-08:00  |{                |BLACK HISPANIC  |20:39:00      |1011815.563   |211066103       |18-24            |NULL                 |40.85676552  |BLACK           |251432.9844   |FALSE                      |-73.90035321  |F          |BRONX      |POINT (-73.90035321499994 40.85676552000007)   |M           |NULL                       |03/15/2020    |46          |NULL                  |18-24             |0                    |\n",
      "|                                      |                           |  \"errors\": []   |                |              |              |                |                 |                     |             |                |              |                           |              |           |           |                                               |            |                           |              |            |                      |                  |                     |\n",
      "|                                      |                           |}                |                |              |              |                |                 |                     |             |                |              |                           |              |           |           |                                               |            |                           |              |            |                      |                  |                     |\n",
      "|85e0f541-3619-4b45-884e-a72882a1ccaa  |2023-12-02 23:16:15-08:00  |{                |WHITE           |17:15:00      |1007654       |52409037        |NULL             |NULL                 |40.76930609  |BLACK HISPANIC  |219564        |FALSE                      |-73.91550818  |M          |QUEENS     |POINT (-73.91550817999996 40.769306087000075)  |M           |NULL                       |10/21/2008    |114         |NULL                  |25-44             |1                    |\n",
      "|                                      |                           |  \"errors\": []   |                |              |              |                |                 |                     |             |                |              |                           |              |           |           |                                               |            |                           |              |            |                      |                  |                     |\n",
      "|                                      |                           |}                |                |              |              |                |                 |                     |             |                |              |                           |              |           |           |                                               |            |                           |              |            |                      |                  |                     |\n",
      "|9ab34373-ce5e-4385-92d9-dbacf222b985  |2023-12-02 23:16:15-08:00  |{                |BLACK           |19:35:00      |996279        |230190941       |25-44            |NULL                 |40.81300853  |BLACK           |235478        |TRUE                       |-73.95654577  |M          |MANHATTAN  |POINT (-73.95654576899994 40.81300852900005)   |M           |MULTI DWELL - PUBLIC HOUS  |06/28/2021    |26          |NULL                  |25-44             |2                    |\n",
      "|                                      |                           |  \"errors\": []   |                |              |              |                |                 |                     |             |                |              |                           |              |           |           |                                               |            |                           |              |            |                      |                  |                     |\n",
      "|                                      |                           |}                |                |              |              |                |                 |                     |             |                |              |                           |              |           |           |                                               |            |                           |              |            |                      |                  |                     |\n",
      "|b4a44292-466b-4232-83cd-c616adc8ab64  |2023-12-02 23:16:15-08:00  |{                |BLACK HISPANIC  |23:30:00      |1016057.875   |77154071        |<18              |NULL                 |40.84627293  |NULL            |247615.3281   |FALSE                      |-73.88503558  |M          |BRONX      |POINT (-73.88503557999996 40.846272928000076)  |NULL        |GROCERY/BODEGA             |02/04/2011    |48          |NULL                  |NULL              |0                    |\n",
      "|                                      |                           |  \"errors\": []   |                |              |              |                |                 |                     |             |                |              |                           |              |           |           |                                               |            |                           |              |            |                      |                  |                     |\n",
      "|                                      |                           |}                |                |              |              |                |                 |                     |             |                |              |                           |              |           |           |                                               |            |                           |              |            |                      |                  |                     |\n",
      "|d51580ba-2f80-4171-ac6a-b91d271646a1  |2023-12-02 23:16:15-08:00  |{                |WHITE HISPANIC  |23:55:00      |1014148       |62663564        |25-44            |NULL                 |40.8707175   |BLACK           |256519        |FALSE                      |-73.89189888  |M          |BRONX      |POINT (-73.89189888199996 40.870717496000054)  |M           |NULL                       |06/10/2009    |52          |NULL                  |25-44             |0                    |\n",
      "|                                      |                           |  \"errors\": []   |                |              |              |                |                 |                     |             |                |              |                           |              |           |           |                                               |            |                           |              |            |                      |                  |                     |\n",
      "|                                      |                           |}                |                |              |              |                |                 |                     |             |                |              |                           |              |           |           |                                               |            |                           |              |            |                      |                  |                     |\n",
      "|7173e6fb-8a39-43d1-b9bb-775a93804f89  |2023-12-02 23:16:15-08:00  |{                |BLACK           |1:15:00       |1010169.625   |158731888       |18-24            |NULL                 |40.65725616  |NULL            |178743.3438   |FALSE                      |-73.90658342  |F          |BROOKLYN   |POINT (-73.90658341799997 40.65725616000003)   |NULL        |NULL                       |11/23/2016    |73          |NULL                  |NULL              |0                    |\n",
      "|                                      |                           |  \"errors\": []   |                |              |              |                |                 |                     |             |                |              |                           |              |           |           |                                               |            |                           |              |            |                      |                  |                     |\n",
      "|                                      |                           |}                |                |              |              |                |                 |                     |             |                |              |                           |              |           |           |                                               |            |                           |              |            |                      |                  |                     |\n",
      "|7d1e2001-765a-4e2b-8854-59ffe538cdb4  |2023-12-02 23:16:15-08:00  |{                |BLACK           |3:50:00       |1040605.938   |27105895        |25-44            |NULL                 |40.70757964  |BLACK           |197129.2031   |FALSE                      |-73.79673313  |M          |QUEENS     |POINT (-73.79673312999995 40.70757963600005)   |M           |NULL                       |02/27/2007    |103         |NULL                  |18-24             |0                    |\n",
      "|                                      |                           |  \"errors\": []   |                |              |              |                |                 |                     |             |                |              |                           |              |           |           |                                               |            |                           |              |            |                      |                  |                     |\n",
      "|                                      |                           |}                |                |              |              |                |                 |                     |             |                |              |                           |              |           |           |                                               |            |                           |              |            |                      |                  |                     |\n",
      "|2caceb01-63d3-42cb-ba90-863d760fcdea  |2023-12-02 23:16:15-08:00  |{                |WHITE HISPANIC  |21:27:00      |1007528.563   |45898006        |18-24            |NULL                 |40.85170724  |BLACK           |249585.5625   |FALSE                      |-73.91585693  |M          |BRONX      |POINT (-73.91585692899997 40.85170724200003)   |M           |NULL                       |04/23/2008    |46          |NULL                  |18-24             |0                    |\n",
      "|                                      |                           |  \"errors\": []   |                |              |              |                |                 |                     |             |                |              |                           |              |           |           |                                               |            |                           |              |            |                      |                  |                     |\n",
      "|                                      |                           |}                |                |              |              |                |                 |                     |             |                |              |                           |              |           |           |                                               |            |                           |              |            |                      |                  |                     |\n",
      "|71813d06-7002-46d3-aa54-ab10ae3d65e7  |2023-12-02 23:16:15-08:00  |{                |BLACK           |23:53:00      |1001539.625   |216157963       |18-24            |NULL                 |40.82883982  |BLACK           |241249.0938   |FALSE                      |-73.9375265   |M          |MANHATTAN  |POINT (-73.93752649599998 40.82883982300007)   |M           |NULL                       |08/03/2020    |32          |NULL                  |<18               |0                    |\n",
      "|                                      |                           |  \"errors\": []   |                |              |              |                |                 |                     |             |                |              |                           |              |           |           |                                               |            |                           |              |            |                      |                  |                     |\n",
      "|                                      |                           |}                |                |              |              |                |                 |                     |             |                |              |                           |              |           |           |                                               |            |                           |              |            |                      |                  |                     |\n",
      "----------------------------------------------------------------------------------------------------------------------------------------------------------------------------------------------------------------------------------------------------------------------------------------------------------------------------------------------------------------------------------------------------------------------------------------------------------------------------------------------------\n",
      "\n"
     ]
    }
   ],
   "source": [
    "shooting_data.show()"
   ]
  },
  {
   "cell_type": "code",
   "execution_count": 7,
   "metadata": {},
   "outputs": [
    {
     "name": "stdout",
     "output_type": "stream",
     "text": [
      "--------------------------------------------------------------------------------------------------------------------------------------------------------------------------------------------------------------------------------------------------------------\n",
      "|\"VIC_RACE\"      |\"OCCUR_TIME\"  |\"INCIDENT_KEY\"  |\"VIC_AGE_GROUP\"  |\"LATITUDE\"   |\"PERP_RACE\"     |\"STATISTICAL_MURDER_FLAG\"  |\"LONGITUDE\"   |\"VIC_SEX\"  |\"BORO\"     |\"PERP_SEX\"  |\"LOCATION_DESC\"            |\"OCCUR_DATE\"  |\"PRECINCT\"  |\"PERP_AGE_GROUP\"  |\n",
      "--------------------------------------------------------------------------------------------------------------------------------------------------------------------------------------------------------------------------------------------------------------\n",
      "|BLACK           |19:13:00      |28832628        |<18              |40.70370632  |BLACK           |FALSE                      |-73.94325706  |F          |BROOKLYN   |M           |MULTI DWELL - PUBLIC HOUS  |05/04/2007    |90          |<18               |\n",
      "|BLACK HISPANIC  |20:39:00      |211066103       |18-24            |40.85676552  |BLACK           |FALSE                      |-73.90035321  |F          |BRONX      |M           |NULL                       |03/15/2020    |46          |18-24             |\n",
      "|WHITE           |17:15:00      |52409037        |NULL             |40.76930609  |BLACK HISPANIC  |FALSE                      |-73.91550818  |M          |QUEENS     |M           |NULL                       |10/21/2008    |114         |25-44             |\n",
      "|BLACK           |19:35:00      |230190941       |25-44            |40.81300853  |BLACK           |TRUE                       |-73.95654577  |M          |MANHATTAN  |M           |MULTI DWELL - PUBLIC HOUS  |06/28/2021    |26          |25-44             |\n",
      "|BLACK HISPANIC  |23:30:00      |77154071        |<18              |40.84627293  |NULL            |FALSE                      |-73.88503558  |M          |BRONX      |NULL        |GROCERY/BODEGA             |02/04/2011    |48          |NULL              |\n",
      "|WHITE HISPANIC  |23:55:00      |62663564        |25-44            |40.8707175   |BLACK           |FALSE                      |-73.89189888  |M          |BRONX      |M           |NULL                       |06/10/2009    |52          |25-44             |\n",
      "|BLACK           |1:15:00       |158731888       |18-24            |40.65725616  |NULL            |FALSE                      |-73.90658342  |F          |BROOKLYN   |NULL        |NULL                       |11/23/2016    |73          |NULL              |\n",
      "|BLACK           |3:50:00       |27105895        |25-44            |40.70757964  |BLACK           |FALSE                      |-73.79673313  |M          |QUEENS     |M           |NULL                       |02/27/2007    |103         |18-24             |\n",
      "|WHITE HISPANIC  |21:27:00      |45898006        |18-24            |40.85170724  |BLACK           |FALSE                      |-73.91585693  |M          |BRONX      |M           |NULL                       |04/23/2008    |46          |18-24             |\n",
      "|BLACK           |23:53:00      |216157963       |18-24            |40.82883982  |BLACK           |FALSE                      |-73.9375265   |M          |MANHATTAN  |M           |NULL                       |08/03/2020    |32          |<18               |\n",
      "--------------------------------------------------------------------------------------------------------------------------------------------------------------------------------------------------------------------------------------------------------------\n",
      "\n"
     ]
    }
   ],
   "source": [
    "# Dropping unnecessary columns\n",
    "\n",
    "columns_to_drop = [\"_AIRBYTE_RAW_ID\", \"_AIRBYTE_EXTRACTED_AT\", \"_AIRBYTE_META\", \"X_COORD_CD\", \"Y_COORD_CD\", \"LON_LAT\", \"JURISDICTION_CODE\", \"LOC_OF_OCCUR_DESC\", \"LOC_CLASSFCTN_DESC\"]\n",
    "shooting_data = shooting_data.drop(*columns_to_drop)\n",
    "shooting_data.show()"
   ]
  },
  {
   "cell_type": "code",
   "execution_count": 8,
   "metadata": {},
   "outputs": [
    {
     "name": "stdout",
     "output_type": "stream",
     "text": [
      "root\n",
      " |-- \"VIC_RACE\": StringType(16777216) (nullable = True)\n",
      " |-- \"OCCUR_TIME\": StringType(16777216) (nullable = True)\n",
      " |-- \"INCIDENT_KEY\": StringType(16777216) (nullable = True)\n",
      " |-- \"VIC_AGE_GROUP\": StringType(16777216) (nullable = True)\n",
      " |-- \"LATITUDE\": StringType(16777216) (nullable = True)\n",
      " |-- \"PERP_RACE\": StringType(16777216) (nullable = True)\n",
      " |-- \"STATISTICAL_MURDER_FLAG\": StringType(16777216) (nullable = True)\n",
      " |-- \"LONGITUDE\": StringType(16777216) (nullable = True)\n",
      " |-- \"VIC_SEX\": StringType(16777216) (nullable = True)\n",
      " |-- \"BORO\": StringType(16777216) (nullable = True)\n",
      " |-- \"PERP_SEX\": StringType(16777216) (nullable = True)\n",
      " |-- \"LOCATION_DESC\": StringType(16777216) (nullable = True)\n",
      " |-- \"OCCUR_DATE\": StringType(16777216) (nullable = True)\n",
      " |-- \"PRECINCT\": StringType(16777216) (nullable = True)\n",
      " |-- \"PERP_AGE_GROUP\": StringType(16777216) (nullable = True)\n"
     ]
    }
   ],
   "source": [
    "shooting_data.printSchema()"
   ]
  },
  {
   "cell_type": "code",
   "execution_count": 9,
   "metadata": {},
   "outputs": [
    {
     "name": "stdout",
     "output_type": "stream",
     "text": [
      "Distinct values in VIC_RACE:\n",
      "----------------------------------\n",
      "|\"VIC_RACE\"                      |\n",
      "----------------------------------\n",
      "|BLACK                           |\n",
      "|WHITE                           |\n",
      "|NULL                            |\n",
      "|BLACK HISPANIC                  |\n",
      "|WHITE HISPANIC                  |\n",
      "|ASIAN / PACIFIC ISLANDER        |\n",
      "|AMERICAN INDIAN/ALASKAN NATIVE  |\n",
      "----------------------------------\n",
      "\n",
      "Distinct values in VIC_AGE_GROUP:\n",
      "-------------------\n",
      "|\"VIC_AGE_GROUP\"  |\n",
      "-------------------\n",
      "|<18              |\n",
      "|25-44            |\n",
      "|45-64            |\n",
      "|1022             |\n",
      "|NULL             |\n",
      "|65+              |\n",
      "|18-24            |\n",
      "-------------------\n",
      "\n",
      "Distinct values in PERP_RACE:\n",
      "----------------------------------\n",
      "|\"PERP_RACE\"                     |\n",
      "----------------------------------\n",
      "|BLACK HISPANIC                  |\n",
      "|ASIAN / PACIFIC ISLANDER        |\n",
      "|WHITE HISPANIC                  |\n",
      "|AMERICAN INDIAN/ALASKAN NATIVE  |\n",
      "|NULL                            |\n",
      "|BLACK                           |\n",
      "|WHITE                           |\n",
      "----------------------------------\n",
      "\n",
      "Distinct values in STATISTICAL_MURDER_FLAG:\n",
      "-----------------------------\n",
      "|\"STATISTICAL_MURDER_FLAG\"  |\n",
      "-----------------------------\n",
      "|TRUE                       |\n",
      "|FALSE                      |\n",
      "-----------------------------\n",
      "\n",
      "Distinct values in VIC_SEX:\n",
      "-------------\n",
      "|\"VIC_SEX\"  |\n",
      "-------------\n",
      "|F          |\n",
      "|M          |\n",
      "|NULL       |\n",
      "-------------\n",
      "\n",
      "Distinct values in BORO:\n",
      "-----------------\n",
      "|\"BORO\"         |\n",
      "-----------------\n",
      "|BROOKLYN       |\n",
      "|BRONX          |\n",
      "|QUEENS         |\n",
      "|MANHATTAN      |\n",
      "|STATEN ISLAND  |\n",
      "-----------------\n",
      "\n",
      "Distinct values in PERP_SEX:\n",
      "--------------\n",
      "|\"PERP_SEX\"  |\n",
      "--------------\n",
      "|M           |\n",
      "|NULL        |\n",
      "|F           |\n",
      "--------------\n",
      "\n",
      "Distinct values in LOCATION_DESC:\n",
      "-----------------------------\n",
      "|\"LOCATION_DESC\"            |\n",
      "-----------------------------\n",
      "|NULL                       |\n",
      "|MULTI DWELL - APT BUILD    |\n",
      "|MULTI DWELL - PUBLIC HOUS  |\n",
      "|JEWELRY STORE              |\n",
      "|GAS STATION                |\n",
      "|BAR/NIGHT CLUB             |\n",
      "|PVT HOUSE                  |\n",
      "|COMMERCIAL BLDG            |\n",
      "|HOSPITAL                   |\n",
      "|GROCERY/BODEGA             |\n",
      "-----------------------------\n",
      "\n",
      "Distinct values in PERP_AGE_GROUP:\n",
      "--------------------\n",
      "|\"PERP_AGE_GROUP\"  |\n",
      "--------------------\n",
      "|<18               |\n",
      "|25-44             |\n",
      "|45-64             |\n",
      "|224               |\n",
      "|1020              |\n",
      "|NULL              |\n",
      "|18-24             |\n",
      "|65+               |\n",
      "|940               |\n",
      "--------------------\n",
      "\n"
     ]
    }
   ],
   "source": [
    "# Distinct Values\n",
    "check_columns = [\"VIC_RACE\", \"VIC_AGE_GROUP\", \"PERP_RACE\", \"STATISTICAL_MURDER_FLAG\", \"VIC_SEX\", \"BORO\", \"PERP_SEX\", \"LOCATION_DESC\", \"PERP_AGE_GROUP\"]\n",
    "\n",
    "for column in check_columns:\n",
    "    distinct_values = shooting_data.select(column).distinct()\n",
    "    print(f\"Distinct values in {column}:\")\n",
    "    distinct_values.show()\n"
   ]
  },
  {
   "cell_type": "code",
   "execution_count": 10,
   "metadata": {},
   "outputs": [],
   "source": [
    "# Null Value Mapping\n",
    "\n",
    "for column in shooting_data.columns:\n",
    "    for key, value in null_value_mapping.items():\n",
    "        shooting_data = shooting_data.withColumn(column, when(col(column) == key, value).otherwise(col(column)))"
   ]
  },
  {
   "cell_type": "code",
   "execution_count": 11,
   "metadata": {},
   "outputs": [],
   "source": [
    "# Age Mapping\n",
    "\n",
    "age_columns = [\"PERP_AGE_GROUP\", \"VIC_AGE_GROUP\"]\n",
    "\n",
    "for column in age_columns:\n",
    "    for key, value in age_mapping.items():\n",
    "        shooting_data = shooting_data.withColumn(column, when(col(column) == key, value).otherwise(col(column)))"
   ]
  },
  {
   "cell_type": "code",
   "execution_count": 12,
   "metadata": {},
   "outputs": [],
   "source": [
    "# Race Mapping\n",
    "\n",
    "race_columns = [\"VIC_RACE\", \"PERP_RACE\" ]\n",
    "\n",
    "for column in race_columns:\n",
    "    for key, value in race_mapping.items():\n",
    "        shooting_data = shooting_data.withColumn(column, when(col(column) == key, value).otherwise(col(column)))"
   ]
  },
  {
   "cell_type": "code",
   "execution_count": 13,
   "metadata": {},
   "outputs": [
    {
     "name": "stdout",
     "output_type": "stream",
     "text": [
      "Distinct values in VIC_RACE:\n",
      "----------------------------------\n",
      "|\"VIC_RACE\"                      |\n",
      "----------------------------------\n",
      "|BLACK HISPANIC                  |\n",
      "|WHITE HISPANIC                  |\n",
      "|AMERICAN INDIAN/ALASKAN NATIVE  |\n",
      "|BLACK                           |\n",
      "|WHITE                           |\n",
      "|ASIAN/PACIFIC ISLANDER          |\n",
      "|NULL                            |\n",
      "----------------------------------\n",
      "\n",
      "Distinct values in VIC_AGE_GROUP:\n",
      "-------------------\n",
      "|\"VIC_AGE_GROUP\"  |\n",
      "-------------------\n",
      "|<18              |\n",
      "|25-44            |\n",
      "|45-64            |\n",
      "|18-24            |\n",
      "|NULL             |\n",
      "|65+              |\n",
      "-------------------\n",
      "\n",
      "Distinct values in PERP_RACE:\n",
      "----------------------------------\n",
      "|\"PERP_RACE\"                     |\n",
      "----------------------------------\n",
      "|NULL                            |\n",
      "|BLACK                           |\n",
      "|ASIAN/PACIFIC ISLANDER          |\n",
      "|WHITE                           |\n",
      "|BLACK HISPANIC                  |\n",
      "|WHITE HISPANIC                  |\n",
      "|AMERICAN INDIAN/ALASKAN NATIVE  |\n",
      "----------------------------------\n",
      "\n",
      "Distinct values in STATISTICAL_MURDER_FLAG:\n",
      "-----------------------------\n",
      "|\"STATISTICAL_MURDER_FLAG\"  |\n",
      "-----------------------------\n",
      "|FALSE                      |\n",
      "|TRUE                       |\n",
      "-----------------------------\n",
      "\n",
      "Distinct values in VIC_SEX:\n",
      "-------------\n",
      "|\"VIC_SEX\"  |\n",
      "-------------\n",
      "|F          |\n",
      "|M          |\n",
      "|NULL       |\n",
      "-------------\n",
      "\n",
      "Distinct values in BORO:\n",
      "-----------------\n",
      "|\"BORO\"         |\n",
      "-----------------\n",
      "|BRONX          |\n",
      "|BROOKLYN       |\n",
      "|QUEENS         |\n",
      "|MANHATTAN      |\n",
      "|STATEN ISLAND  |\n",
      "-----------------\n",
      "\n",
      "Distinct values in PERP_SEX:\n",
      "--------------\n",
      "|\"PERP_SEX\"  |\n",
      "--------------\n",
      "|M           |\n",
      "|NULL        |\n",
      "|F           |\n",
      "--------------\n",
      "\n",
      "Distinct values in LOCATION_DESC:\n",
      "-----------------------------\n",
      "|\"LOCATION_DESC\"            |\n",
      "-----------------------------\n",
      "|GROCERY/BODEGA             |\n",
      "|CLOTHING BOUTIQUE          |\n",
      "|SMALL MERCHANT             |\n",
      "|BEAUTY/NAIL SALON          |\n",
      "|VARIETY STORE              |\n",
      "|STORE UNCLASSIFIED         |\n",
      "|MULTI DWELL - PUBLIC HOUS  |\n",
      "|NULL                       |\n",
      "|COMMERCIAL BLDG            |\n",
      "|PVT HOUSE                  |\n",
      "-----------------------------\n",
      "\n",
      "Distinct values in PERP_AGE_GROUP:\n",
      "--------------------\n",
      "|\"PERP_AGE_GROUP\"  |\n",
      "--------------------\n",
      "|<18               |\n",
      "|25-44             |\n",
      "|45-64             |\n",
      "|18-24             |\n",
      "|NULL              |\n",
      "|65+               |\n",
      "--------------------\n",
      "\n"
     ]
    }
   ],
   "source": [
    "# Distinct Values of Preprocessed Data\n",
    "\n",
    "for column in check_columns:\n",
    "    distinct_values = shooting_data.select(column).distinct()\n",
    "    print(f\"Distinct values in {column}:\")\n",
    "    distinct_values.show() "
   ]
  },
  {
   "cell_type": "code",
   "execution_count": 14,
   "metadata": {},
   "outputs": [
    {
     "name": "stdout",
     "output_type": "stream",
     "text": [
      "Number of distinct values in OCCUR_TIME: 1421\n",
      "Number of distinct values in INCIDENT_KEY: 21420\n",
      "Number of distinct values in LATITUDE: 12552\n",
      "Number of distinct values in STATISTICAL_MURDER_FLAG: 2\n",
      "Number of distinct values in LONGITUDE: 12537\n",
      "Number of distinct values in VIC_SEX: 3\n",
      "Number of distinct values in BORO: 5\n",
      "Number of distinct values in PERP_SEX: 3\n",
      "Number of distinct values in LOCATION_DESC: 39\n",
      "Number of distinct values in OCCUR_DATE: 5761\n",
      "Number of distinct values in PRECINCT: 77\n",
      "Number of distinct values in PERP_AGE_GROUP: 6\n",
      "Number of distinct values in VIC_AGE_GROUP: 6\n",
      "Number of distinct values in VIC_RACE: 7\n",
      "Number of distinct values in PERP_RACE: 7\n"
     ]
    }
   ],
   "source": [
    "# Count of Distinct Values\n",
    "\n",
    "for column in shooting_data.columns:\n",
    "    distinct_count = shooting_data.select(column).distinct().count()\n",
    "    print(f\"Number of distinct values in {column}: {distinct_count}\")"
   ]
  },
  {
   "cell_type": "code",
   "execution_count": 15,
   "metadata": {},
   "outputs": [
    {
     "name": "stdout",
     "output_type": "stream",
     "text": [
      "--------------------------------------------------------------------------------------------------------------------------------------------------------------------------------------------------------------------------------------------------------------\n",
      "|\"OCCUR_TIME\"  |\"INCIDENT_KEY\"  |\"LATITUDE\"   |\"STATISTICAL_MURDER_FLAG\"  |\"LONGITUDE\"   |\"VIC_SEX\"  |\"BORO\"     |\"PERP_SEX\"  |\"LOCATION_DESC\"            |\"OCCUR_DATE\"  |\"PRECINCT\"  |\"PERP_AGE_GROUP\"  |\"VIC_AGE_GROUP\"  |\"VIC_RACE\"      |\"PERP_RACE\"     |\n",
      "--------------------------------------------------------------------------------------------------------------------------------------------------------------------------------------------------------------------------------------------------------------\n",
      "|19:13:00      |28832628        |40.70370632  |FALSE                      |-73.94325706  |F          |BROOKLYN   |M           |MULTI DWELL - PUBLIC HOUS  |05/04/2007    |90          |<18               |<18              |BLACK           |BLACK           |\n",
      "|20:39:00      |211066103       |40.85676552  |FALSE                      |-73.90035321  |F          |BRONX      |M           |NULL                       |03/15/2020    |46          |18-24             |18-24            |BLACK HISPANIC  |BLACK           |\n",
      "|17:15:00      |52409037        |40.76930609  |FALSE                      |-73.91550818  |M          |QUEENS     |M           |NULL                       |10/21/2008    |114         |25-44             |NULL             |WHITE           |BLACK HISPANIC  |\n",
      "|19:35:00      |230190941       |40.81300853  |TRUE                       |-73.95654577  |M          |MANHATTAN  |M           |MULTI DWELL - PUBLIC HOUS  |06/28/2021    |26          |25-44             |25-44            |BLACK           |BLACK           |\n",
      "|23:30:00      |77154071        |40.84627293  |FALSE                      |-73.88503558  |M          |BRONX      |NULL        |GROCERY/BODEGA             |02/04/2011    |48          |NULL              |<18              |BLACK HISPANIC  |NULL            |\n",
      "|23:55:00      |62663564        |40.8707175   |FALSE                      |-73.89189888  |M          |BRONX      |M           |NULL                       |06/10/2009    |52          |25-44             |25-44            |WHITE HISPANIC  |BLACK           |\n",
      "|1:15:00       |158731888       |40.65725616  |FALSE                      |-73.90658342  |F          |BROOKLYN   |NULL        |NULL                       |11/23/2016    |73          |NULL              |18-24            |BLACK           |NULL            |\n",
      "|3:50:00       |27105895        |40.70757964  |FALSE                      |-73.79673313  |M          |QUEENS     |M           |NULL                       |02/27/2007    |103         |18-24             |25-44            |BLACK           |BLACK           |\n",
      "|21:27:00      |45898006        |40.85170724  |FALSE                      |-73.91585693  |M          |BRONX      |M           |NULL                       |04/23/2008    |46          |18-24             |18-24            |WHITE HISPANIC  |BLACK           |\n",
      "|23:53:00      |216157963       |40.82883982  |FALSE                      |-73.9375265   |M          |MANHATTAN  |M           |NULL                       |08/03/2020    |32          |<18               |18-24            |BLACK           |BLACK           |\n",
      "--------------------------------------------------------------------------------------------------------------------------------------------------------------------------------------------------------------------------------------------------------------\n",
      "\n"
     ]
    }
   ],
   "source": [
    "shooting_data.show()"
   ]
  },
  {
   "cell_type": "code",
   "execution_count": 16,
   "metadata": {},
   "outputs": [],
   "source": [
    "# Uploading data to Silver Schema\n",
    "\n",
    "table_name = \"SAFEGUARDING_NYC_SCHEMA_SILVER.shooting_incidents\"\n",
    "shooting_data.write.saveAsTable(table_name, mode=\"overwrite\")"
   ]
  }
 ],
 "metadata": {
  "kernelspec": {
   "display_name": "Python 3",
   "language": "python",
   "name": "python3"
  },
  "language_info": {
   "codemirror_mode": {
    "name": "ipython",
    "version": 3
   },
   "file_extension": ".py",
   "mimetype": "text/x-python",
   "name": "python",
   "nbconvert_exporter": "python",
   "pygments_lexer": "ipython3",
   "version": "3.10.12"
  }
 },
 "nbformat": 4,
 "nbformat_minor": 2
}

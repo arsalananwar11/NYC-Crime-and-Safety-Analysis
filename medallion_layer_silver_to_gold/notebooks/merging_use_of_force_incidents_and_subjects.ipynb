{
 "cells": [
  {
   "cell_type": "markdown",
   "metadata": {},
   "source": [
    "## Imports"
   ]
  },
  {
   "cell_type": "code",
   "execution_count": 11,
   "metadata": {},
   "outputs": [],
   "source": [
    "import sys\n",
    "sys.path.append(\"..\")"
   ]
  },
  {
   "cell_type": "code",
   "execution_count": 12,
   "metadata": {},
   "outputs": [],
   "source": [
    "from snowflake.snowpark import Session\n",
    "from snowflake.snowpark.functions import when, col, count\n",
    "from datetime import date\n",
    "from helpers import SnowflakeHelper\n",
    "import json\n",
    "import os"
   ]
  },
  {
   "cell_type": "code",
   "execution_count": 13,
   "metadata": {},
   "outputs": [
    {
     "name": "stdout",
     "output_type": "stream",
     "text": [
      "[INFO] No schema passed, using default schema SAFEGUARDING_NYC_SCHEMA_BRONZE for the session\n",
      "[SUCCESS] Config file loaded successfully!\n",
      "[SUCCESS] Snowspark Session created successfully on schema SAFEGUARDING_NYC_SCHEMA_BRONZE!\n"
     ]
    }
   ],
   "source": [
    "snowflake_helper = SnowflakeHelper()\n",
    "snowflake_config = './../helpers/snowflake_config.json'\n",
    "session = snowflake_helper.create_snowpark_session(snowflake_config)\n",
    "session.use_schema(\"SAFEGUARDING_NYC_SCHEMA_SILVER\")"
   ]
  },
  {
   "cell_type": "markdown",
   "metadata": {},
   "source": [
    "## Extracting Data"
   ]
  },
  {
   "cell_type": "code",
   "execution_count": 14,
   "metadata": {},
   "outputs": [],
   "source": [
    "use_of_force_incidents = session.table('use_of_force_incidents')\n",
    "use_of_force_subjects = session.table('use_of_force_subjects')"
   ]
  },
  {
   "cell_type": "code",
   "execution_count": 15,
   "metadata": {},
   "outputs": [
    {
     "name": "stdout",
     "output_type": "stream",
     "text": [
      "--------------------------------------------------------------------------------------------------\n",
      "|\"FORCETYPE\"     |\"INCIDENT PCT\"  |\"TRI INCIDENT NUMBER\"  |\"PATROL BOROUGH\"  |\"OCCURRENCE DATE\"  |\n",
      "--------------------------------------------------------------------------------------------------\n",
      "|Physical Force  |75              |2023094962399          |BROOKLYN          |2023-09-21         |\n",
      "|Physical Force  |40              |2023059962344          |BRONX             |2023-09-13         |\n",
      "|Physical Force  |45              |2023064962120          |BRONX             |2023-09-13         |\n",
      "|Physical Force  |121             |2023140962087          |STATEN ISLAND     |2023-09-08         |\n",
      "|Physical Force  |34              |2023053962127          |MANHATTAN         |2023-08-27         |\n",
      "|Physical Force  |48              |2023067962183          |BRONX             |2023-08-24         |\n",
      "|Physical Force  |42              |2023061962210          |BRONX             |2023-08-23         |\n",
      "|Physical Force  |79              |2023098962153          |BROOKLYN          |2023-08-21         |\n",
      "|Physical Force  |6               |2023025962107          |MANHATTAN         |2023-08-20         |\n",
      "|Physical Force  |71              |2023090962093          |BROOKLYN          |2023-08-16         |\n",
      "--------------------------------------------------------------------------------------------------\n",
      "\n"
     ]
    }
   ],
   "source": [
    "use_of_force_incidents.show()"
   ]
  },
  {
   "cell_type": "code",
   "execution_count": 16,
   "metadata": {},
   "outputs": [
    {
     "name": "stdout",
     "output_type": "stream",
     "text": [
      "-------------------------------------------------------------------------------------------\n",
      "|\"FORCE AGAINST MOS\"  |\"TRI INCIDENT NUMBER\"  |\"AGE\"  |\"SUBJECT GENDER\"  |\"SUBJECT RACE\"  |\n",
      "-------------------------------------------------------------------------------------------\n",
      "|Physical Force       |2020020962067          |NULL   |MALE              |BLACK           |\n",
      "|Physical Force       |2020020962143          |NULL   |MALE              |BLACK           |\n",
      "|Physical Force       |2020024962080          |NULL   |MALE              |BLACK           |\n",
      "|Physical Force       |2020025962038          |NULL   |MALE              |BLACK           |\n",
      "|Physical Force       |2020025962049          |NULL   |MALE              |BLACK           |\n",
      "|Physical Force       |2020025962140          |NULL   |MALE              |BLACK           |\n",
      "|Physical Force       |2020026962081          |NULL   |MALE              |BLACK           |\n",
      "|Physical Force       |2020032962033          |NULL   |MALE              |BLACK           |\n",
      "|Physical Force       |2020032962062          |NULL   |MALE              |BLACK           |\n",
      "|Physical Force       |2020032962112          |NULL   |MALE              |BLACK           |\n",
      "-------------------------------------------------------------------------------------------\n",
      "\n"
     ]
    }
   ],
   "source": [
    "use_of_force_subjects.show()"
   ]
  },
  {
   "cell_type": "markdown",
   "metadata": {},
   "source": [
    "## Joining Use Of Forces Tables"
   ]
  },
  {
   "cell_type": "code",
   "execution_count": 17,
   "metadata": {},
   "outputs": [
    {
     "name": "stdout",
     "output_type": "stream",
     "text": [
      "-------------------------------------------------------------------------------------------------------------------------------------------------------------------------------------------------------------\n",
      "|\"FORCETYPE\"        |\"INCIDENT PCT\"  |\"l_d90k_TRI INCIDENT NUMBER\"  |\"PATROL BOROUGH\"  |\"OCCURRENCE DATE\"  |\"FORCE AGAINST MOS\"  |\"r_cgks_TRI INCIDENT NUMBER\"  |\"AGE\"  |\"SUBJECT GENDER\"  |\"SUBJECT RACE\"  |\n",
      "-------------------------------------------------------------------------------------------------------------------------------------------------------------------------------------------------------------\n",
      "|Physical Force     |1               |2020020962067                 |MANHATTAN         |2020-05-06         |Physical Force       |2020020962067                 |NULL   |MALE              |BLACK           |\n",
      "|Physical Force     |1               |2020020962143                 |MANHATTAN         |2020-10-11         |Physical Force       |2020020962143                 |NULL   |MALE              |BLACK           |\n",
      "|Physical Force     |5               |2020024962080                 |MANHATTAN         |2020-06-30         |Physical Force       |2020024962080                 |NULL   |MALE              |BLACK           |\n",
      "|Electrical Weapon  |6               |2020025962038                 |MANHATTAN         |2020-03-02         |Physical Force       |2020025962038                 |NULL   |MALE              |BLACK           |\n",
      "|Physical Force     |6               |2020025962049                 |MANHATTAN         |2020-03-25         |Physical Force       |2020025962049                 |NULL   |MALE              |BLACK           |\n",
      "|Physical Force     |6               |2020025962140                 |MANHATTAN         |2020-11-02         |Physical Force       |2020025962140                 |NULL   |MALE              |BLACK           |\n",
      "|Physical Force     |7               |2020026962081                 |MANHATTAN         |2020-11-27         |Physical Force       |2020026962081                 |NULL   |MALE              |BLACK           |\n",
      "|Electrical Weapon  |13              |2020032962033                 |MANHATTAN         |2020-03-06         |Physical Force       |2020032962033                 |NULL   |MALE              |BLACK           |\n",
      "|Electrical Weapon  |13              |2020032962062                 |MANHATTAN         |2020-04-26         |Physical Force       |2020032962062                 |NULL   |MALE              |BLACK           |\n",
      "|Physical Force     |13              |2020032962112                 |MANHATTAN         |2020-06-25         |Physical Force       |2020032962112                 |NULL   |MALE              |BLACK           |\n",
      "-------------------------------------------------------------------------------------------------------------------------------------------------------------------------------------------------------------\n",
      "\n"
     ]
    }
   ],
   "source": [
    "use_of_force_combined = use_of_force_incidents.join(\n",
    "    use_of_force_subjects, \n",
    "    use_of_force_incidents['TRI INCIDENT NUMBER'] == use_of_force_subjects['TRI INCIDENT NUMBER'],\n",
    "    how=\"inner\"\n",
    ")\n",
    "use_of_force_combined.show()"
   ]
  },
  {
   "cell_type": "code",
   "execution_count": 19,
   "metadata": {},
   "outputs": [
    {
     "name": "stdout",
     "output_type": "stream",
     "text": [
      "-----------------------------------------------------------------------------------------------------------------------------------------------------------------------\n",
      "|\"FORCETYPE\"        |\"INCIDENT PCT\"  |\"TRI INCIDENT NUMBER\"  |\"PATROL BOROUGH\"  |\"OCCURRENCE DATE\"  |\"FORCE AGAINST MOS\"  |\"AGE\"  |\"SUBJECT GENDER\"  |\"SUBJECT RACE\"  |\n",
      "-----------------------------------------------------------------------------------------------------------------------------------------------------------------------\n",
      "|Physical Force     |1               |2020020962067          |MANHATTAN         |2020-05-06         |Physical Force       |NULL   |MALE              |BLACK           |\n",
      "|Physical Force     |1               |2020020962143          |MANHATTAN         |2020-10-11         |Physical Force       |NULL   |MALE              |BLACK           |\n",
      "|Physical Force     |5               |2020024962080          |MANHATTAN         |2020-06-30         |Physical Force       |NULL   |MALE              |BLACK           |\n",
      "|Electrical Weapon  |6               |2020025962038          |MANHATTAN         |2020-03-02         |Physical Force       |NULL   |MALE              |BLACK           |\n",
      "|Physical Force     |6               |2020025962049          |MANHATTAN         |2020-03-25         |Physical Force       |NULL   |MALE              |BLACK           |\n",
      "|Physical Force     |6               |2020025962140          |MANHATTAN         |2020-11-02         |Physical Force       |NULL   |MALE              |BLACK           |\n",
      "|Physical Force     |7               |2020026962081          |MANHATTAN         |2020-11-27         |Physical Force       |NULL   |MALE              |BLACK           |\n",
      "|Electrical Weapon  |13              |2020032962033          |MANHATTAN         |2020-03-06         |Physical Force       |NULL   |MALE              |BLACK           |\n",
      "|Electrical Weapon  |13              |2020032962062          |MANHATTAN         |2020-04-26         |Physical Force       |NULL   |MALE              |BLACK           |\n",
      "|Physical Force     |13              |2020032962112          |MANHATTAN         |2020-06-25         |Physical Force       |NULL   |MALE              |BLACK           |\n",
      "-----------------------------------------------------------------------------------------------------------------------------------------------------------------------\n",
      "\n"
     ]
    }
   ],
   "source": [
    "use_of_force_combined = use_of_force_combined.drop(['r_cgks_TRI INCIDENT NUMBER'])\n",
    "use_of_force_combined = use_of_force_combined.withColumnRenamed(\"l_d90k_TRI INCIDENT NUMBER\", \"TRI INCIDENT NUMBER\")\n",
    "use_of_force_combined.show()"
   ]
  },
  {
   "cell_type": "code",
   "execution_count": 20,
   "metadata": {},
   "outputs": [
    {
     "data": {
      "text/plain": [
       "29723"
      ]
     },
     "execution_count": 20,
     "metadata": {},
     "output_type": "execute_result"
    }
   ],
   "source": [
    "use_of_force_combined.count()"
   ]
  },
  {
   "cell_type": "markdown",
   "metadata": {},
   "source": [
    "## Exporting Data to Gold Medallion"
   ]
  },
  {
   "cell_type": "code",
   "execution_count": 10,
   "metadata": {},
   "outputs": [],
   "source": [
    "table_name = \"SAFEGUARDING_NYC_SCHEMA_GOLD.use_of_force_combined\"\n",
    "use_of_force_combined.write.saveAsTable(table_name, mode=\"overwrite\")"
   ]
  },
  {
   "cell_type": "code",
   "execution_count": null,
   "metadata": {},
   "outputs": [],
   "source": []
  }
 ],
 "metadata": {
  "kernelspec": {
   "display_name": "Python 3",
   "language": "python",
   "name": "python3"
  },
  "language_info": {
   "codemirror_mode": {
    "name": "ipython",
    "version": 3
   },
   "file_extension": ".py",
   "mimetype": "text/x-python",
   "name": "python",
   "nbconvert_exporter": "python",
   "pygments_lexer": "ipython3",
   "version": "3.11.5"
  }
 },
 "nbformat": 4,
 "nbformat_minor": 2
}

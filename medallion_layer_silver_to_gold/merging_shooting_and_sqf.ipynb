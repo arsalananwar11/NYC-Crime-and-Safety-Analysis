{
 "cells": [
  {
   "cell_type": "code",
   "execution_count": 25,
   "metadata": {},
   "outputs": [],
   "source": [
    "import sys\n",
    "sys.path.append(\"..\")"
   ]
  },
  {
   "cell_type": "code",
   "execution_count": 26,
   "metadata": {},
   "outputs": [],
   "source": [
    "from snowflake.snowpark import Session\n",
    "from snowflake.snowpark.functions import when, col, count\n",
    "from datetime import date\n",
    "from helpers import SnowflakeHelper\n",
    "import json\n",
    "import os"
   ]
  },
  {
   "cell_type": "code",
   "execution_count": 27,
   "metadata": {},
   "outputs": [
    {
     "name": "stdout",
     "output_type": "stream",
     "text": [
      "[INFO] Using the schema SAFEGUARDING_NYC_SCHEMA_SILVER for the session\n",
      "[SUCCESS] Config file loaded successfully!\n",
      "[SUCCESS] Snowspark Session created successfully on schema SAFEGUARDING_NYC_SCHEMA_SILVER!\n"
     ]
    }
   ],
   "source": [
    "schema_name = \"SAFEGUARDING_NYC_SCHEMA_SILVER\"\n",
    "snowflake_helper = SnowflakeHelper(schema_name)\n",
    "snowflake_config = './../helpers/snowflake_config.json'\n",
    "session = snowflake_helper.create_snowpark_session(snowflake_config)"
   ]
  },
  {
   "cell_type": "markdown",
   "metadata": {},
   "source": [
    "## Extracting Data"
   ]
  },
  {
   "cell_type": "code",
   "execution_count": 28,
   "metadata": {},
   "outputs": [],
   "source": [
    "shooting_incidents = session.table('shooting_incidents')\n",
    "sqf_data = session.table('SQF')"
   ]
  },
  {
   "cell_type": "code",
   "execution_count": 29,
   "metadata": {},
   "outputs": [
    {
     "name": "stdout",
     "output_type": "stream",
     "text": [
      "--------------------------------------------------------------------------------------------------------------------------------------------------------------------------------------------------------------------------------------------------------\n",
      "|\"OCCUR_DATE\"  |\"OCCUR_TIME\"  |\"INCIDENT_KEY\"  |\"LATITUDE\"   |\"STATISTICAL_MURDER_FLAG\"  |\"LONGITUDE\"   |\"BORO\"    |\"LOCATION_DESC\"          |\"PRECINCT\"  |\"PERP_AGE_GROUP\"  |\"VIC_AGE_GROUP\"  |\"VIC_RACE\"      |\"PERP_RACE\"  |\"PERP_SEX\"  |\"VIC_SEX\"  |\n",
      "--------------------------------------------------------------------------------------------------------------------------------------------------------------------------------------------------------------------------------------------------------\n",
      "|2021-05-27    |21:30:00      |228798151       |40.66296462  |FALSE                      |-73.73083869  |QUEENS    |NULL                     |105         |NULL              |18-24            |BLACK           |NULL         |NULL        |MALE       |\n",
      "|2014-06-27    |17:40:00      |137471050       |40.81035186  |FALSE                      |-73.92494233  |BRONX     |NULL                     |40          |NULL              |18-24            |BLACK           |NULL         |NULL        |MALE       |\n",
      "|2015-11-21    |3:56:00       |147998800       |40.74260663  |TRUE                       |-73.91549174  |QUEENS    |NULL                     |108         |NULL              |25-44            |WHITE           |NULL         |NULL        |MALE       |\n",
      "|2015-10-09    |18:30:00      |146837977       |40.837782    |FALSE                      |-73.91945661  |BRONX     |NULL                     |44          |NULL              |<18              |WHITE HISPANIC  |NULL         |NULL        |MALE       |\n",
      "|2009-02-19    |22:58:00      |58921844        |40.88623792  |TRUE                       |-73.85290951  |BRONX     |NULL                     |47          |25-44             |45-64            |BLACK           |BLACK        |MALE        |MALE       |\n",
      "|2020-10-21    |21:36:00      |219559682       |40.67845672  |TRUE                       |-73.92795224  |BROOKLYN  |NULL                     |81          |NULL              |25-44            |BLACK           |NULL         |NULL        |MALE       |\n",
      "|2012-06-17    |22:47:00      |85295722        |40.75648234  |FALSE                      |-73.94726649  |QUEENS    |NULL                     |114         |NULL              |25-44            |BLACK           |NULL         |NULL        |MALE       |\n",
      "|2010-03-08    |19:41:00      |71662474        |40.69426406  |TRUE                       |-73.93280864  |BROOKLYN  |NULL                     |81          |NULL              |18-24            |BLACK           |NULL         |NULL        |MALE       |\n",
      "|2012-02-05    |5:45:00       |83002139        |40.70610673  |FALSE                      |-73.74710654  |QUEENS    |NULL                     |105         |NULL              |25-44            |BLACK           |NULL         |NULL        |MALE       |\n",
      "|2012-08-26    |1:10:00       |86437261        |40.5976972   |FALSE                      |-73.74906464  |QUEENS    |MULTI DWELL - APT BUILD  |101         |25-44             |25-44            |BLACK           |BLACK        |MALE        |MALE       |\n",
      "--------------------------------------------------------------------------------------------------------------------------------------------------------------------------------------------------------------------------------------------------------\n",
      "\n"
     ]
    }
   ],
   "source": [
    "shooting_incidents.show()"
   ]
  },
  {
   "cell_type": "code",
   "execution_count": 23,
   "metadata": {},
   "outputs": [
    {
     "name": "stdout",
     "output_type": "stream",
     "text": [
      "Distinct values in VIC_RACE:\n",
      "----------------------------------\n",
      "|\"VIC_RACE\"                      |\n",
      "----------------------------------\n",
      "|WHITE HISPANIC                  |\n",
      "|BLACK HISPANIC                  |\n",
      "|AMERICAN INDIAN/ALASKAN NATIVE  |\n",
      "|BLACK                           |\n",
      "|WHITE                           |\n",
      "|ASIAN/PACIFIC ISLANDER          |\n",
      "|NULL                            |\n",
      "----------------------------------\n",
      "\n",
      "Distinct values in VIC_AGE_GROUP:\n",
      "-------------------\n",
      "|\"VIC_AGE_GROUP\"  |\n",
      "-------------------\n",
      "|25-44            |\n",
      "|45-64            |\n",
      "|<18              |\n",
      "|18-24            |\n",
      "|65+              |\n",
      "|NULL             |\n",
      "-------------------\n",
      "\n",
      "Distinct values in PERP_RACE:\n",
      "----------------------------------\n",
      "|\"PERP_RACE\"                     |\n",
      "----------------------------------\n",
      "|BLACK HISPANIC                  |\n",
      "|WHITE HISPANIC                  |\n",
      "|AMERICAN INDIAN/ALASKAN NATIVE  |\n",
      "|BLACK                           |\n",
      "|NULL                            |\n",
      "|ASIAN/PACIFIC ISLANDER          |\n",
      "|WHITE                           |\n",
      "----------------------------------\n",
      "\n",
      "Distinct values in STATISTICAL_MURDER_FLAG:\n",
      "-----------------------------\n",
      "|\"STATISTICAL_MURDER_FLAG\"  |\n",
      "-----------------------------\n",
      "|FALSE                      |\n",
      "|TRUE                       |\n",
      "-----------------------------\n",
      "\n",
      "Distinct values in VIC_SEX:\n",
      "-------------\n",
      "|\"VIC_SEX\"  |\n",
      "-------------\n",
      "|FEMALE     |\n",
      "|MALE       |\n",
      "|NULL       |\n",
      "-------------\n",
      "\n",
      "Distinct values in BORO:\n",
      "-----------------\n",
      "|\"BORO\"         |\n",
      "-----------------\n",
      "|BRONX          |\n",
      "|BROOKLYN       |\n",
      "|QUEENS         |\n",
      "|MANHATTAN      |\n",
      "|STATEN ISLAND  |\n",
      "-----------------\n",
      "\n",
      "Distinct values in PERP_SEX:\n",
      "--------------\n",
      "|\"PERP_SEX\"  |\n",
      "--------------\n",
      "|MALE        |\n",
      "|NULL        |\n",
      "|FEMALE      |\n",
      "--------------\n",
      "\n",
      "Distinct values in LOCATION_DESC:\n",
      "-----------------------------\n",
      "|\"LOCATION_DESC\"            |\n",
      "-----------------------------\n",
      "|MULTI DWELL - PUBLIC HOUS  |\n",
      "|NULL                       |\n",
      "|PVT HOUSE                  |\n",
      "|BAR/NIGHT CLUB             |\n",
      "|HOSPITAL                   |\n",
      "|COMMERCIAL BLDG            |\n",
      "|MULTI DWELL - APT BUILD    |\n",
      "|JEWELRY STORE              |\n",
      "|GAS STATION                |\n",
      "|GROCERY/BODEGA             |\n",
      "-----------------------------\n",
      "\n",
      "Distinct values in PERP_AGE_GROUP:\n",
      "--------------------\n",
      "|\"PERP_AGE_GROUP\"  |\n",
      "--------------------\n",
      "|NULL              |\n",
      "|18-24             |\n",
      "|65+               |\n",
      "|<18               |\n",
      "|25-44             |\n",
      "|45-64             |\n",
      "--------------------\n",
      "\n"
     ]
    }
   ],
   "source": [
    "check_columns = [\"VIC_RACE\", \"VIC_AGE_GROUP\", \"PERP_RACE\", \"STATISTICAL_MURDER_FLAG\", \"VIC_SEX\", \"BORO\", \"PERP_SEX\", \"LOCATION_DESC\", \"PERP_AGE_GROUP\"]\n",
    "\n",
    "for column in check_columns:\n",
    "    distinct_values = shooting_incidents.select(column).distinct()\n",
    "    print(f\"Distinct values in {column}:\")\n",
    "    distinct_values.show() "
   ]
  },
  {
   "cell_type": "code",
   "execution_count": 24,
   "metadata": {},
   "outputs": [
    {
     "name": "stdout",
     "output_type": "stream",
     "text": [
      "-------------------------------------------------------------------------------------------------------------------------------------------------------------------------------------------------------------------------------------------------------------------------------------------------------------------------------------------------------------------------------------------------------------------------------------------------------------------------------------------------------------------------------------------------------------------------------------------------------------------------------------------------------------------------------------------------------------------------------------------------------------------------------------------------------------------------------------------------------------------------------------------------------------------------------------------------------------------------------------------------------------------------------------------------------------------------------------------------------------------------------------------------------------------------------------------------------------------------------------------------------------------------------------------------------------------------------------------------------------------------------------------------------------------------------------------------------------------------------------------------------------------------------------------------------------------------------------------------------------------------------------------------------------------------------------------------------------------------------------------------------------------------\n",
      "|\"PHYSICAL_FORCE_OC_SPRAY_USED_FLAG\"  |\"SEARCH_BASIS_HARD_OBJECT_FLAG\"  |\"SUSPECT_WEIGHT\"  |\"STOP_LOCATION_SECTOR_CODE\"  |\"OTHER_WEAPON_FLAG\"  |\"PHYSICAL_FORCE_WEAPON_IMPACT_FLAG\"  |\"STOP_LOCATION_STREET_NAME\"  |\"STOP_DURATION_MINUTES\"  |\"PHYSICAL_FORCE_OTHER_FLAG\"  |\"SUSPECT_SEX\"  |\"ASK_FOR_CONSENT_FLG\"  |\"SUMMONS_OFFENSE_DESCRIPTION\"  |\"STOP_LOCATION_X\"  |\"SUSPECTS_ACTIONS_CONCEALED_POSSESSION_WEAPON_F...  |\"SUSPECTS_ACTIONS_OTHER_FLAG\"  |\"PHYSICAL_FORCE_CEW_FLAG\"  |\"STOP_LOCATION_Y\"  |\"DAY2\"     |\"FIREARM_FLAG\"  |\"WEAPON_FOUND_FLAG\"  |\"MONTH2\"  |\"SEARCH_BASIS_INCIDENTAL_TO_ARREST_FLAG\"  |\"SUSPECTS_ACTIONS_DRUG_TRANSACTIONS_FLAG\"  |\"BACKROUND_CIRCUMSTANCES_VIOLENT_CRIME_FLAG\"  |\"FRISKED_FLAG\"  |\"SUSPECT_HAIR_COLOR\"  |\"SUSPECT_ARREST_OFFENSE\"  |\"OFFICER_IN_UNIFORM_FLAG\"  |\"STOP_LOCATION_APARTMENT\"  |\"JURISDICTION_CODE\"  |\"SEARCHED_FLAG\"  |\"SUSPECTED_CRIME_DESCRIPTION\"  |\"SUSPECT_HEIGHT\"  |\"SUSPECTS_ACTIONS_DECRIPTION_FLAG\"  |\"KNIFE_CUTTER_FLAG\"  |\"SUPERVISING_OFFICER_RANK\"  |\"STOP_LOCATION_FULL_ADDRESS\"  |\"OTHER_CONTRABAND_FLAG\"  |\"SUSPECT_BODY_BUILD_TYPE\"  |\"PHYSICAL_FORCE_DRAW_POINT_FIREARM_FLAG\"  |\"DEMEANOR_OF_PERSON_STOPPED\"  |\"SUSPECT_ARRESTED_FLAG\"  |\"SUSPECT_RACE_DESCRIPTION\"  |\"SUSPECT_REPORTED_AGE\"  |\"SUSPECT_EYE_COLOR\"  |\"STOP_FRISK_TIME\"  |\"OBSERVED_DURATION_MINUTES\"  |\"CONSENT_GIVEN_FLG\"  |\"STOP_WAS_INITIATED\"   |\"SEARCH_BASIS_OUTLINE_FLAG\"  |\"SHIELD_IDENTIFIES_OFFICER_FLAG\"  |\"ISSUING_OFFICER_RANK\"  |\"OFFICER_EXPLAINED_STOP_FLAG\"  |\"STOP_LOCATION_PRECINCT\"  |\"SUSPECT_OTHER_DESCRIPTION\"    |\"SUSPECTS_ACTIONS_IDENTIFY_CRIME_PATTERN_FLAG\"  |\"SUSPECTS_ACTIONS_LOOKOUT_FLAG\"  |\"STOP_LOCATION_PATROL_BORO_NAME\"  |\"STOP_LOCATION_BORO_NAME\"  |\"YEAR2\"  |\"STOP_FRISK_DATE\"  |\n",
      "-------------------------------------------------------------------------------------------------------------------------------------------------------------------------------------------------------------------------------------------------------------------------------------------------------------------------------------------------------------------------------------------------------------------------------------------------------------------------------------------------------------------------------------------------------------------------------------------------------------------------------------------------------------------------------------------------------------------------------------------------------------------------------------------------------------------------------------------------------------------------------------------------------------------------------------------------------------------------------------------------------------------------------------------------------------------------------------------------------------------------------------------------------------------------------------------------------------------------------------------------------------------------------------------------------------------------------------------------------------------------------------------------------------------------------------------------------------------------------------------------------------------------------------------------------------------------------------------------------------------------------------------------------------------------------------------------------------------------------------------------------------------------\n",
      "|NULL                                 |NULL                             |160               |D                            |NULL                 |NULL                                 |SEAVER WAY                   |7                        |NULL                         |MALE           |N                      |NULL                           |1027679            |NULL                                                |NULL                           |NULL                       |214505             |Friday     |NULL            |N                    |June      |Y                                         |NULL                                       |NULL                                          |N               |BRO                   |ROBBERY                   |Y                          |NULL                       |P                    |Y                |ROBBERY                        |5.11              |Y                                   |NULL                 |SGT                         |SEAVER WAY && ROOSEVELT AVE   |N                        |THN                        |NULL                                      |CALM                          |Y                        |WHITE HISPANIC              |40                      |BRO                  |17:24:00           |1                            |N                    |Based on Radio Run     |NULL                         |NULL                              |POM                     |Y                              |110                       |GREY SHIRT KHAKI PANTS DARK B  |NULL                                            |NULL                             |QUEENS                            |QUEENS                     |2020     |2020-06-19         |\n",
      "|NULL                                 |NULL                             |110               |D                            |NULL                 |NULL                                 |1 AVE                        |33                       |NULL                         |FEMALE         |Y                      |NULL                           |999396             |NULL                                                |NULL                           |NULL                       |224456             |Sunday     |NULL            |N                    |June      |NULL                                      |NULL                                       |NULL                                          |N               |RED                   |NULL                      |Y                          |NULL                       |P                    |Y                |PETIT LARCENY                  |5.3               |Y                                   |NULL                 |SGT                         |1841 1 AVE                    |N                        |THN                        |NULL                                      |NOT ABLE TO SIT STILL         |N                        |WHITE                       |NULL                    |BRO                  |11:50:00           |1                            |Y                    |Based on Radio Run     |NULL                         |NULL                              |POM                     |Y                              |19                        |ORANGE SHIRT                   |NULL                                            |NULL                             |MANHATTAN                         |MANHATTAN                  |2020     |2020-06-07         |\n",
      "|NULL                                 |NULL                             |130               |D                            |NULL                 |NULL                                 |SHORE PKWY                   |14                       |NULL                         |MALE           |N                      |NULL                           |1003694            |NULL                                                |NULL                           |NULL                       |152650             |Monday     |NULL            |N                    |June      |NULL                                      |NULL                                       |NULL                                          |N               |BLK                   |NULL                      |Y                          |NULL                       |P                    |N                |OTHER                          |5.7               |Y                                   |NULL                 |SGT                         |SHORE PKWY && KNAPP ST        |N                        |THN                        |NULL                                      |NERVOUS, LOOKING AROUND.      |N                        |MIDDLE EASTERN/SOUTHWEST    |17                      |BLK                  |1:09:00            |0                            |N                    |Based on C/W on Scene  |NULL                         |NULL                              |POM                     |Y                              |61                        |N/A                            |NULL                                            |NULL                             |BROOKLYN                          |BROOKLYN                   |2020     |2020-06-15         |\n",
      "|NULL                                 |NULL                             |170               |B                            |NULL                 |NULL                                 |W 13 ST                      |22                       |NULL                         |MALE           |Y                      |NULL                           |984603             |NULL                                                |NULL                           |NULL                       |207840             |Friday     |NULL            |N                    |June      |NULL                                      |NULL                                       |NULL                                          |N               |BLK                   |NULL                      |Y                          |NULL                       |NULL                 |N                |PETIT LARCENY                  |6                 |Y                                   |NULL                 |SSA                         |130 W 13 ST                   |N                        |THN                        |NULL                                      |COMPLIANT                     |N                        |WHITE HISPANIC              |42                      |BLK                  |22:20:00           |1                            |Y                    |Based on Radio Run     |NULL                         |NULL                              |POM                     |Y                              |6                         |GREEN LEOTARD  BLACK SHORTS R  |NULL                                            |NULL                             |MANHATTAN                         |MANHATTAN                  |2020     |2020-06-19         |\n",
      "|NULL                                 |NULL                             |140               |C                            |NULL                 |NULL                                 |E 128 ST                     |3                        |NULL                         |MALE           |N                      |NULL                           |1001515            |NULL                                                |NULL                           |NULL                       |233286             |Monday     |NULL            |N                    |June      |NULL                                      |NULL                                       |Y                                             |Y               |BLK                   |NULL                      |Y                          |NULL                       |P                    |N                |ROBBERY                        |5.1               |Y                                   |NULL                 |SGT                         |E 128 ST && PARK AVE          |N                        |THN                        |NULL                                      |NERVOUS                       |N                        |BLACK HISPANIC              |30                      |BRO                  |4:05:00            |1                            |N                    |Based on Radio Run     |NULL                         |NULL                              |POF                     |Y                              |25                        |NULL                           |NULL                                            |NULL                             |MANHATTAN                         |MANHATTAN                  |2020     |2020-06-15         |\n",
      "|NULL                                 |NULL                             |110               |A                            |NULL                 |NULL                                 |FULTON ST                    |10                       |NULL                         |FEMALE         |N                      |NULL                           |994019             |NULL                                                |Y                              |NULL                       |188128             |Wednesday  |NULL            |N                    |June      |Y                                         |NULL                                       |NULL                                          |N               |BRO                   |NULL                      |Y                          |NULL                       |P                    |Y                |PETIT LARCENY                  |5.4               |Y                                   |NULL                 |SGT                         |FULTON ST && WASHINGTON AVE   |N                        |THN                        |NULL                                      |APOLOGETIC                    |N                        |WHITE HISPANIC              |51                      |BRO                  |11:30:00           |1                            |N                    |Based on C/W on Scene  |NULL                         |NULL                              |POM                     |Y                              |88                        |NULL                           |NULL                                            |NULL                             |BROOKLYN                          |BROOKLYN                   |2020     |2020-06-03         |\n",
      "|NULL                                 |NULL                             |165               |B                            |NULL                 |NULL                                 |E 125 ST                     |5                        |NULL                         |MALE           |N                      |NULL                           |1001575            |NULL                                                |NULL                           |NULL                       |232339             |Sunday     |NULL            |N                    |June      |NULL                                      |NULL                                       |NULL                                          |N               |BLK                   |NULL                      |Y                          |NULL                       |NULL                 |N                |ASSAULT                        |5.7               |Y                                   |NULL                 |SGT                         |E 125 ST && LEXINGTON AVE     |N                        |THN                        |NULL                                      |#N/A                          |N                        |WHITE HISPANIC              |25                      |BRO                  |0:42:00            |5                            |N                    |Based on C/W on Scene  |NULL                         |NULL                              |POM                     |Y                              |25                        |NULL                           |NULL                                            |NULL                             |MANHATTAN                         |MANHATTAN                  |2020     |2020-06-21         |\n",
      "|NULL                                 |NULL                             |NULL              |A                            |NULL                 |NULL                                 |WASHINGTON AVE               |10                       |NULL                         |MALE           |N                      |NULL                           |1010168            |NULL                                                |NULL                           |NULL                       |243011             |Sunday     |NULL            |N                    |June      |NULL                                      |NULL                                       |Y                                             |Y               |BLK                   |NULL                      |Y                          |NULL                       |H                    |N                |OTHER                          |NULL              |Y                                   |NULL                 |SGT                         |1309 WASHINGTON AVE           |N                        |MED                        |NULL                                      |UPSET                         |N                        |BLACK                       |NULL                    |BRO                  |18:38:00           |3                            |N                    |Based on C/W on Scene  |NULL                         |NULL                              |POM                     |Y                              |42                        |NEON GREEN SWEATER             |NULL                                            |NULL                             |BRONX                             |BRONX                      |2020     |2020-06-14         |\n",
      "|NULL                                 |NULL                             |170               |C                            |NULL                 |NULL                                 |MERMAID AVE                  |7                        |NULL                         |NULL           |Y                      |NULL                           |988480             |NULL                                                |NULL                           |NULL                       |149357             |Monday     |NULL            |N                    |June      |NULL                                      |NULL                                       |NULL                                          |N               |BLK                   |NULL                      |Y                          |NULL                       |NULL                 |N                |BURGLARY                       |6.4               |Y                                   |NULL                 |SGT                         |MERMAID AVE && W 17 ST        |N                        |THN                        |NULL                                      |UPSET                         |N                        |BLACK                       |NULL                    |BRO                  |4:30:00            |1                            |Y                    |Based on Radio Run     |NULL                         |NULL                              |POM                     |Y                              |60                        |NULL                           |NULL                                            |NULL                             |BROOKLYN                          |BROOKLYN                   |2020     |2020-06-15         |\n",
      "|NULL                                 |NULL                             |120               |D                            |NULL                 |NULL                                 |HARWAY AVE                   |10                       |NULL                         |MALE           |N                      |NULL                           |986616             |NULL                                                |NULL                           |NULL                       |154918             |Thursday   |NULL            |N                    |June      |Y                                         |NULL                                       |NULL                                          |Y               |BLK                   |PETIT LARCENY             |Y                          |NULL                       |P                    |Y                |PETIT LARCENY                  |5.6               |Y                                   |NULL                 |SGT                         |2544 HARWAY AVE               |N                        |THN                        |NULL                                      |CALM                          |Y                        |WHITE HISPANIC              |44                      |BRO                  |11:50:00           |1                            |N                    |Based on Radio Run     |NULL                         |NULL                              |POM                     |Y                              |62                        |NULL                           |NULL                                            |NULL                             |BROOKLYN                          |BROOKLYN                   |2020     |2020-06-04         |\n",
      "-------------------------------------------------------------------------------------------------------------------------------------------------------------------------------------------------------------------------------------------------------------------------------------------------------------------------------------------------------------------------------------------------------------------------------------------------------------------------------------------------------------------------------------------------------------------------------------------------------------------------------------------------------------------------------------------------------------------------------------------------------------------------------------------------------------------------------------------------------------------------------------------------------------------------------------------------------------------------------------------------------------------------------------------------------------------------------------------------------------------------------------------------------------------------------------------------------------------------------------------------------------------------------------------------------------------------------------------------------------------------------------------------------------------------------------------------------------------------------------------------------------------------------------------------------------------------------------------------------------------------------------------------------------------------------------------------------------------------------------------------------------------------\n",
      "\n"
     ]
    }
   ],
   "source": [
    "sqf_data.show()"
   ]
  },
  {
   "cell_type": "markdown",
   "metadata": {},
   "source": [
    "## Joining Shooting incidents with SQF"
   ]
  },
  {
   "cell_type": "code",
   "execution_count": null,
   "metadata": {},
   "outputs": [],
   "source": []
  }
 ],
 "metadata": {
  "kernelspec": {
   "display_name": "tensorflow",
   "language": "python",
   "name": "python3"
  },
  "language_info": {
   "codemirror_mode": {
    "name": "ipython",
    "version": 3
   },
   "file_extension": ".py",
   "mimetype": "text/x-python",
   "name": "python",
   "nbconvert_exporter": "python",
   "pygments_lexer": "ipython3",
   "version": "3.10.12"
  }
 },
 "nbformat": 4,
 "nbformat_minor": 2
}

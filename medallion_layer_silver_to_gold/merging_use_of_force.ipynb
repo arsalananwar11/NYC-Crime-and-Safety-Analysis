{
 "cells": [
  {
   "cell_type": "markdown",
   "metadata": {},
   "source": [
    "## Imports"
   ]
  },
  {
   "cell_type": "code",
   "execution_count": 25,
   "metadata": {},
   "outputs": [],
   "source": [
    "import sys\n",
    "sys.path.append(\"..\")"
   ]
  },
  {
   "cell_type": "code",
   "execution_count": 26,
   "metadata": {},
   "outputs": [],
   "source": [
    "from snowflake.snowpark import Session\n",
    "from snowflake.snowpark.functions import when, col, count\n",
    "from datetime import date\n",
    "from helpers import SnowflakeHelper\n",
    "import json\n",
    "import os"
   ]
  },
  {
   "cell_type": "code",
   "execution_count": 27,
   "metadata": {},
   "outputs": [
    {
     "name": "stdout",
     "output_type": "stream",
     "text": [
      "[SUCCESS] Config file loaded successfully!\n",
      "[SUCCESS] Snowspark Session created successfully!\n"
     ]
    }
   ],
   "source": [
    "snowflake_helper = SnowflakeHelper()\n",
    "snowflake_config = './../helpers/snowflake_config.json'\n",
    "session = snowflake_helper.create_snowpark_session(snowflake_config)\n",
    "session.use_schema(\"SAFEGUARDING_NYC_SCHEMA_SILVER\")"
   ]
  },
  {
   "cell_type": "markdown",
   "metadata": {},
   "source": [
    "## Extracting Data"
   ]
  },
  {
   "cell_type": "code",
   "execution_count": 28,
   "metadata": {},
   "outputs": [],
   "source": [
    "use_of_force_incidents = session.table('use_of_force_incidents')\n",
    "use_of_force_subjects = session.table('use_of_force_subjects')"
   ]
  },
  {
   "cell_type": "code",
   "execution_count": 29,
   "metadata": {},
   "outputs": [
    {
     "name": "stdout",
     "output_type": "stream",
     "text": [
      "--------------------------------------------------------------------------------------------------\n",
      "|\"FORCETYPE\"     |\"INCIDENT PCT\"  |\"OCCURRENCE DATE\"  |\"TRI INCIDENT NUMBER\"  |\"PATROL BOROUGH\"  |\n",
      "--------------------------------------------------------------------------------------------------\n",
      "|Physical Force  |75              |09/21/2023         |2023094962399          |Brooklyn          |\n",
      "|Physical Force  |40              |09/13/2023         |2023059962344          |Bronx             |\n",
      "|Physical Force  |45              |09/13/2023         |2023064962120          |Bronx             |\n",
      "|Physical Force  |121             |09/08/2023         |2023140962087          |Staten Island     |\n",
      "|Physical Force  |34              |08/27/2023         |2023053962127          |Manhattan         |\n",
      "|Physical Force  |48              |08/24/2023         |2023067962183          |Bronx             |\n",
      "|Physical Force  |42              |08/23/2023         |2023061962210          |Bronx             |\n",
      "|Physical Force  |79              |08/21/2023         |2023098962153          |Brooklyn          |\n",
      "|Physical Force  |6               |08/20/2023         |2023025962107          |Manhattan         |\n",
      "|Physical Force  |71              |08/16/2023         |2023090962093          |Brooklyn          |\n",
      "--------------------------------------------------------------------------------------------------\n",
      "\n"
     ]
    }
   ],
   "source": [
    "use_of_force_incidents.show()"
   ]
  },
  {
   "cell_type": "code",
   "execution_count": 30,
   "metadata": {},
   "outputs": [
    {
     "name": "stdout",
     "output_type": "stream",
     "text": [
      "-------------------------------------------------------------------------------------------\n",
      "|\"SUBJECT RACE\"  |\"FORCE AGAINST MOS\"  |\"TRI INCIDENT NUMBER\"  |\"SUBJECT GENDER\"  |\"AGE\"  |\n",
      "-------------------------------------------------------------------------------------------\n",
      "|BLACK           |Physical Force       |2020020962067          |MALE              |NULL   |\n",
      "|BLACK           |Physical Force       |2020020962143          |MALE              |NULL   |\n",
      "|BLACK           |Physical Force       |2020024962080          |MALE              |NULL   |\n",
      "|BLACK           |Physical Force       |2020025962038          |MALE              |NULL   |\n",
      "|BLACK           |Physical Force       |2020025962049          |MALE              |NULL   |\n",
      "|BLACK           |Physical Force       |2020025962140          |MALE              |NULL   |\n",
      "|BLACK           |Physical Force       |2020026962081          |MALE              |NULL   |\n",
      "|BLACK           |Physical Force       |2020032962033          |MALE              |NULL   |\n",
      "|BLACK           |Physical Force       |2020032962062          |MALE              |NULL   |\n",
      "|BLACK           |Physical Force       |2020032962112          |MALE              |NULL   |\n",
      "-------------------------------------------------------------------------------------------\n",
      "\n"
     ]
    }
   ],
   "source": [
    "use_of_force_subjects.show()"
   ]
  },
  {
   "cell_type": "markdown",
   "metadata": {},
   "source": [
    "## Joining Use Of Forces Tables"
   ]
  },
  {
   "cell_type": "code",
   "execution_count": 31,
   "metadata": {},
   "outputs": [
    {
     "name": "stdout",
     "output_type": "stream",
     "text": [
      "-------------------------------------------------------------------------------------------------------------------------------------------------------------------------------------------------------------\n",
      "|\"FORCETYPE\"        |\"INCIDENT PCT\"  |\"OCCURRENCE DATE\"  |\"l_6k1v_TRI INCIDENT NUMBER\"  |\"PATROL BOROUGH\"  |\"SUBJECT RACE\"  |\"FORCE AGAINST MOS\"  |\"r_fuo3_TRI INCIDENT NUMBER\"  |\"SUBJECT GENDER\"  |\"AGE\"  |\n",
      "-------------------------------------------------------------------------------------------------------------------------------------------------------------------------------------------------------------\n",
      "|Electrical Weapon  |67              |03/28/2022         |2022086962065                 |Brooklyn          |BLACK           |Physical Force       |2020020962067                 |MALE              |NULL   |\n",
      "|Electrical Weapon  |1               |03/13/2022         |2022020962038                 |Manhattan         |BLACK           |Physical Force       |2020020962067                 |MALE              |NULL   |\n",
      "|Electrical Weapon  |106             |03/08/2022         |2022125962036                 |Queens            |BLACK           |Physical Force       |2020020962067                 |MALE              |NULL   |\n",
      "|Electrical Weapon  |88              |02/28/2022         |2022107962030                 |Brooklyn          |BLACK           |Physical Force       |2020020962067                 |MALE              |NULL   |\n",
      "|Electrical Weapon  |109             |02/19/2022         |2022128962024                 |Queens            |BLACK           |Physical Force       |2020020962067                 |MALE              |NULL   |\n",
      "|Electrical Weapon  |67              |02/17/2022         |2022086962037                 |Brooklyn          |BLACK           |Physical Force       |2020020962067                 |MALE              |NULL   |\n",
      "|Electrical Weapon  |101             |01/06/2022         |2022120962017                 |Queens            |BLACK           |Physical Force       |2020020962067                 |MALE              |NULL   |\n",
      "|Electrical Weapon  |104             |01/05/2022         |2022123962017                 |Queens            |BLACK           |Physical Force       |2020020962067                 |MALE              |NULL   |\n",
      "|Electrical Weapon  |24              |01/01/2022         |2022043962015                 |Manhattan         |BLACK           |Physical Force       |2020020962067                 |MALE              |NULL   |\n",
      "|Electrical Weapon  |40              |12/25/2021         |2021059962297                 |Bronx             |BLACK           |Physical Force       |2020020962067                 |MALE              |NULL   |\n",
      "-------------------------------------------------------------------------------------------------------------------------------------------------------------------------------------------------------------\n",
      "\n"
     ]
    }
   ],
   "source": [
    "use_of_force_combined = use_of_force_incidents.join(\n",
    "    use_of_force_subjects, \n",
    "    onColumns=\"TRI INCIDENT NUMBER\", \n",
    "    how=\"inner\"\n",
    ")\n",
    "use_of_force_combined.show()"
   ]
  },
  {
   "cell_type": "code",
   "execution_count": 32,
   "metadata": {},
   "outputs": [
    {
     "name": "stdout",
     "output_type": "stream",
     "text": [
      "-----------------------------------------------------------------------------------------------------------------------------------------------------------------------\n",
      "|\"FORCETYPE\"        |\"INCIDENT PCT\"  |\"OCCURRENCE DATE\"  |\"TRI INCIDENT NUMBER\"  |\"PATROL BOROUGH\"  |\"SUBJECT RACE\"  |\"FORCE AGAINST MOS\"  |\"SUBJECT GENDER\"  |\"AGE\"  |\n",
      "-----------------------------------------------------------------------------------------------------------------------------------------------------------------------\n",
      "|Electrical Weapon  |67              |03/28/2022         |2022086962065          |Brooklyn          |BLACK           |Physical Force       |MALE              |NULL   |\n",
      "|Electrical Weapon  |1               |03/13/2022         |2022020962038          |Manhattan         |BLACK           |Physical Force       |MALE              |NULL   |\n",
      "|Electrical Weapon  |106             |03/08/2022         |2022125962036          |Queens            |BLACK           |Physical Force       |MALE              |NULL   |\n",
      "|Electrical Weapon  |88              |02/28/2022         |2022107962030          |Brooklyn          |BLACK           |Physical Force       |MALE              |NULL   |\n",
      "|Electrical Weapon  |109             |02/19/2022         |2022128962024          |Queens            |BLACK           |Physical Force       |MALE              |NULL   |\n",
      "|Electrical Weapon  |67              |02/17/2022         |2022086962037          |Brooklyn          |BLACK           |Physical Force       |MALE              |NULL   |\n",
      "|Electrical Weapon  |101             |01/06/2022         |2022120962017          |Queens            |BLACK           |Physical Force       |MALE              |NULL   |\n",
      "|Electrical Weapon  |104             |01/05/2022         |2022123962017          |Queens            |BLACK           |Physical Force       |MALE              |NULL   |\n",
      "|Electrical Weapon  |24              |01/01/2022         |2022043962015          |Manhattan         |BLACK           |Physical Force       |MALE              |NULL   |\n",
      "|Electrical Weapon  |40              |12/25/2021         |2021059962297          |Bronx             |BLACK           |Physical Force       |MALE              |NULL   |\n",
      "-----------------------------------------------------------------------------------------------------------------------------------------------------------------------\n",
      "\n"
     ]
    }
   ],
   "source": [
    "use_of_force_combined = use_of_force_combined.drop(['r_fuo3_TRI INCIDENT NUMBER'])\n",
    "use_of_force_combined = use_of_force_combined.withColumnRenamed(\"l_6k1v_TRI INCIDENT NUMBER\", \"TRI INCIDENT NUMBER\")\n",
    "use_of_force_combined.show()"
   ]
  },
  {
   "cell_type": "code",
   "execution_count": 24,
   "metadata": {},
   "outputs": [
    {
     "data": {
      "text/plain": [
       "29723"
      ]
     },
     "execution_count": 24,
     "metadata": {},
     "output_type": "execute_result"
    }
   ],
   "source": [
    "use_of_force_combined.count()"
   ]
  },
  {
   "cell_type": "markdown",
   "metadata": {},
   "source": [
    "## Exporting Data to Gold Medallion"
   ]
  },
  {
   "cell_type": "code",
   "execution_count": 23,
   "metadata": {},
   "outputs": [],
   "source": [
    "table_name = \"SAFEGUARDING_NYC_SCHEMA_GOLD.use_of_force_combined\"\n",
    "use_of_force_combined.write.saveAsTable(table_name, mode=\"overwrite\")"
   ]
  },
  {
   "cell_type": "code",
   "execution_count": null,
   "metadata": {},
   "outputs": [],
   "source": []
  }
 ],
 "metadata": {
  "kernelspec": {
   "display_name": "Python 3",
   "language": "python",
   "name": "python3"
  },
  "language_info": {
   "codemirror_mode": {
    "name": "ipython",
    "version": 3
   },
   "file_extension": ".py",
   "mimetype": "text/x-python",
   "name": "python",
   "nbconvert_exporter": "python",
   "pygments_lexer": "ipython3",
   "version": "3.11.5"
  }
 },
 "nbformat": 4,
 "nbformat_minor": 2
}

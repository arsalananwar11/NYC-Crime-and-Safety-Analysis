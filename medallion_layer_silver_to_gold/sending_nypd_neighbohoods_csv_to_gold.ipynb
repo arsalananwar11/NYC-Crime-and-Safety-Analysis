{
 "cells": [
  {
   "cell_type": "markdown",
   "metadata": {},
   "source": [
    "## Imports"
   ]
  },
  {
   "cell_type": "code",
   "execution_count": 1,
   "metadata": {},
   "outputs": [],
   "source": [
    "import sys\n",
    "sys.path.append(\"..\")"
   ]
  },
  {
   "cell_type": "code",
   "execution_count": 2,
   "metadata": {},
   "outputs": [],
   "source": [
    "from snowflake.snowpark import Session\n",
    "from snowflake.snowpark.functions import when, col, count\n",
    "from datetime import date\n",
    "from helpers import SnowflakeHelper\n",
    "import json\n",
    "import os"
   ]
  },
  {
   "cell_type": "code",
   "execution_count": 3,
   "metadata": {},
   "outputs": [
    {
     "name": "stdout",
     "output_type": "stream",
     "text": [
      "[INFO] No schema passed, using default schema SAFEGUARDING_NYC_SCHEMA_BRONZE for the session\n",
      "[SUCCESS] Config file loaded successfully!\n",
      "[SUCCESS] Snowspark Session created successfully on schema SAFEGUARDING_NYC_SCHEMA_BRONZE!\n"
     ]
    }
   ],
   "source": [
    "snowflake_helper = SnowflakeHelper()\n",
    "snowflake_config = './../helpers/snowflake_config.json'\n",
    "session = snowflake_helper.create_snowpark_session(snowflake_config)\n",
    "session.use_schema(\"SAFEGUARDING_NYC_SCHEMA_SILVER\")"
   ]
  },
  {
   "cell_type": "markdown",
   "metadata": {},
   "source": [
    "## Extracting Data"
   ]
  },
  {
   "cell_type": "code",
   "execution_count": 4,
   "metadata": {},
   "outputs": [],
   "source": [
    "NYPD_PRECINCTS_NEIGHBORHOODS = session.table('NYPD_PRECINCTS_NEIGHBORHOODS')"
   ]
  },
  {
   "cell_type": "code",
   "execution_count": 5,
   "metadata": {},
   "outputs": [
    {
     "name": "stdout",
     "output_type": "stream",
     "text": [
      "-------------------------------------------------------------------\n",
      "|\"NEIGHBORHOODS\"                                     |\"PRECINCT\"  |\n",
      "-------------------------------------------------------------------\n",
      "|World Trade Center/SOHO/Tribeca/Wall Street.        |1           |\n",
      "|Chinatown/Little Italy                              |5           |\n",
      "|Greenwich Village/West Village                      |6           |\n",
      "|Williamsburg Bridge/Orchard Street                  |7           |\n",
      "|East Village                                        |9           |\n",
      "|Chelsea, Clinton/Hell's Kitchen South/Hudson Yards  |10          |\n",
      "|Peter Cooper Village/Stuyvesant Town residentia...  |13          |\n",
      "|Sutton Area/Beekman Place/Kipps Bay/Turtle Bay/...  |17          |\n",
      "|Madison/Lexington/3rd Avenues                       |19          |\n",
      "|Lincoln Center for the Performing Arts/the Amer...  |20          |\n",
      "-------------------------------------------------------------------\n",
      "\n"
     ]
    }
   ],
   "source": [
    "NYPD_PRECINCTS_NEIGHBORHOODS.show()"
   ]
  },
  {
   "cell_type": "markdown",
   "metadata": {},
   "source": [
    "## Exporting the processed data to Silver Medallion"
   ]
  },
  {
   "cell_type": "code",
   "execution_count": 25,
   "metadata": {},
   "outputs": [],
   "source": [
    "table_name = \"SAFEGUARDING_NYC_SCHEMA_GOLD.NYPD_PRECINCTS_NEIGHBORHOODS\"\n",
    "NYPD_PRECINCTS_NEIGHBORHOODS.write.saveAsTable(table_name, mode=\"overwrite\")"
   ]
  },
  {
   "cell_type": "code",
   "execution_count": null,
   "metadata": {},
   "outputs": [],
   "source": []
  }
 ],
 "metadata": {
  "kernelspec": {
   "display_name": "Python 3",
   "language": "python",
   "name": "python3"
  },
  "language_info": {
   "codemirror_mode": {
    "name": "ipython",
    "version": 3
   },
   "file_extension": ".py",
   "mimetype": "text/x-python",
   "name": "python",
   "nbconvert_exporter": "python",
   "pygments_lexer": "ipython3",
   "version": "3.11.5"
  }
 },
 "nbformat": 4,
 "nbformat_minor": 2
}

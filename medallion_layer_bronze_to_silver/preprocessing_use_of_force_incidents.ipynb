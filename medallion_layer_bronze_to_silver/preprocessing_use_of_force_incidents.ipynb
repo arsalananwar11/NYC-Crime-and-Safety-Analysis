{
 "cells": [
  {
   "cell_type": "markdown",
   "metadata": {},
   "source": [
    "## Imports"
   ]
  },
  {
   "cell_type": "code",
   "execution_count": 18,
   "metadata": {},
   "outputs": [],
   "source": [
    "import sys\n",
    "sys.path.append(\"..\")"
   ]
  },
  {
   "cell_type": "code",
   "execution_count": 19,
   "metadata": {},
   "outputs": [],
   "source": [
    "from snowflake.snowpark import Session\n",
    "from snowflake.snowpark.functions import when, col, count, to_date\n",
    "from datetime import date\n",
    "from helpers import SnowflakeHelper\n",
    "import json\n",
    "import os"
   ]
  },
  {
   "cell_type": "code",
   "execution_count": 20,
   "metadata": {},
   "outputs": [
    {
     "name": "stdout",
     "output_type": "stream",
     "text": [
      "[INFO] No schema passed, using default schema SAFEGUARDING_NYC_SCHEMA_BRONZE for the session\n",
      "[SUCCESS] Config file loaded successfully!\n",
      "[SUCCESS] Snowspark Session created successfully on schema SAFEGUARDING_NYC_SCHEMA_BRONZE!\n"
     ]
    }
   ],
   "source": [
    "snowflake_helper = SnowflakeHelper()\n",
    "snowflake_config = './../helpers/snowflake_config.json'\n",
    "session = snowflake_helper.create_snowpark_session(snowflake_config)\n",
    "session.use_schema(\"SAFEGUARDING_NYC_SCHEMA_BRONZE\")"
   ]
  },
  {
   "cell_type": "markdown",
   "metadata": {},
   "source": [
    "## Extracting Data"
   ]
  },
  {
   "cell_type": "code",
   "execution_count": 21,
   "metadata": {},
   "outputs": [],
   "source": [
    "use_of_force_incidents = session.table('use_of_force_incidents')"
   ]
  },
  {
   "cell_type": "code",
   "execution_count": 22,
   "metadata": {},
   "outputs": [
    {
     "name": "stdout",
     "output_type": "stream",
     "text": [
      "----------------------------------------------------------------------------------------------------------------------------------------------------------------------------------------------------------------------------------------\n",
      "|\"_AIRBYTE_RAW_ID\"                     |\"_AIRBYTE_EXTRACTED_AT\"    |\"_AIRBYTE_META\"  |\"FORCETYPE\"     |\"INCIDENT PCT\"  |\"OCCURRENCE DATE\"  |\"BASISFORENCOUNTER\"          |\"TRI INCIDENT NUMBER\"  |\"YEARMONTHSHORT\"  |\"PATROL BOROUGH\"  |\n",
      "----------------------------------------------------------------------------------------------------------------------------------------------------------------------------------------------------------------------------------------\n",
      "|54af0531-ebec-4624-a195-2d67a0d2cdbd  |2023-12-02 23:15:30-08:00  |{                |Physical Force  |75              |09/21/2023         |CRIME/VIOLATION IN PROGRESS  |2023094962399          |2023 Sep          |PBBN              |\n",
      "|                                      |                           |  \"errors\": []   |                |                |                   |                             |                       |                  |                  |\n",
      "|                                      |                           |}                |                |                |                   |                             |                       |                  |                  |\n",
      "|ac3b880d-f3dd-4d07-8f1a-ef9a5e0fd66a  |2023-12-02 23:15:30-08:00  |{                |Physical Force  |40              |09/13/2023         |CRIME/VIOLATION IN PROGRESS  |2023059962344          |2023 Sep          |PBBX              |\n",
      "|                                      |                           |  \"errors\": []   |                |                |                   |                             |                       |                  |                  |\n",
      "|                                      |                           |}                |                |                |                   |                             |                       |                  |                  |\n",
      "|0544a4a7-2d8a-401c-8b7f-f67870912a18  |2023-12-02 23:15:30-08:00  |{                |Physical Force  |45              |09/13/2023         |CRIME/VIOLATION IN PROGRESS  |2023064962120          |2023 Sep          |PBBX              |\n",
      "|                                      |                           |  \"errors\": []   |                |                |                   |                             |                       |                  |                  |\n",
      "|                                      |                           |}                |                |                |                   |                             |                       |                  |                  |\n",
      "|b316f720-c5a4-4682-9284-1a40c863aabc  |2023-12-02 23:15:30-08:00  |{                |Physical Force  |121             |09/08/2023         |CRIME/VIOLATION IN PROGRESS  |2023140962087          |2023 Sep          |PBSI              |\n",
      "|                                      |                           |  \"errors\": []   |                |                |                   |                             |                       |                  |                  |\n",
      "|                                      |                           |}                |                |                |                   |                             |                       |                  |                  |\n",
      "|5e753ae8-94de-443e-a449-afdd487db9b5  |2023-12-02 23:15:30-08:00  |{                |Physical Force  |34              |08/27/2023         |CRIME/VIOLATION IN PROGRESS  |2023053962127          |2023 Aug          |PBMN              |\n",
      "|                                      |                           |  \"errors\": []   |                |                |                   |                             |                       |                  |                  |\n",
      "|                                      |                           |}                |                |                |                   |                             |                       |                  |                  |\n",
      "|9edce567-f10d-4783-b9c2-15b6b25f5f97  |2023-12-02 23:15:30-08:00  |{                |Physical Force  |48              |08/24/2023         |CRIME/VIOLATION IN PROGRESS  |2023067962183          |2023 Aug          |PBBX              |\n",
      "|                                      |                           |  \"errors\": []   |                |                |                   |                             |                       |                  |                  |\n",
      "|                                      |                           |}                |                |                |                   |                             |                       |                  |                  |\n",
      "|4135bd28-3b3b-4a2e-8cd2-f5026fc5751e  |2023-12-02 23:15:30-08:00  |{                |Physical Force  |42              |08/23/2023         |CRIME/VIOLATION IN PROGRESS  |2023061962210          |2023 Aug          |PBBX              |\n",
      "|                                      |                           |  \"errors\": []   |                |                |                   |                             |                       |                  |                  |\n",
      "|                                      |                           |}                |                |                |                   |                             |                       |                  |                  |\n",
      "|c733e3f4-f77b-4adf-9254-db65397360b8  |2023-12-02 23:15:30-08:00  |{                |Physical Force  |79              |08/21/2023         |CRIME/VIOLATION IN PROGRESS  |2023098962153          |2023 Aug          |PBBN              |\n",
      "|                                      |                           |  \"errors\": []   |                |                |                   |                             |                       |                  |                  |\n",
      "|                                      |                           |}                |                |                |                   |                             |                       |                  |                  |\n",
      "|41d4137d-67a1-4646-a2d0-8f6bdf3507c7  |2023-12-02 23:15:30-08:00  |{                |Physical Force  |6               |08/20/2023         |CRIME/VIOLATION IN PROGRESS  |2023025962107          |2023 Aug          |PBMS              |\n",
      "|                                      |                           |  \"errors\": []   |                |                |                   |                             |                       |                  |                  |\n",
      "|                                      |                           |}                |                |                |                   |                             |                       |                  |                  |\n",
      "|1d6ba2dc-91b3-4057-8171-10a88eff8bed  |2023-12-02 23:15:30-08:00  |{                |Physical Force  |71              |08/16/2023         |CRIME/VIOLATION IN PROGRESS  |2023090962093          |2023 Aug          |PBBS              |\n",
      "|                                      |                           |  \"errors\": []   |                |                |                   |                             |                       |                  |                  |\n",
      "|                                      |                           |}                |                |                |                   |                             |                       |                  |                  |\n",
      "----------------------------------------------------------------------------------------------------------------------------------------------------------------------------------------------------------------------------------------\n",
      "\n"
     ]
    }
   ],
   "source": [
    "use_of_force_incidents.show()"
   ]
  },
  {
   "cell_type": "code",
   "execution_count": 23,
   "metadata": {},
   "outputs": [
    {
     "data": {
      "text/plain": [
       "28531"
      ]
     },
     "execution_count": 23,
     "metadata": {},
     "output_type": "execute_result"
    }
   ],
   "source": [
    "use_of_force_incidents.count()"
   ]
  },
  {
   "cell_type": "markdown",
   "metadata": {},
   "source": [
    "## Pre-processing"
   ]
  },
  {
   "cell_type": "markdown",
   "metadata": {},
   "source": [
    "### Dropping non-important columns"
   ]
  },
  {
   "cell_type": "code",
   "execution_count": 24,
   "metadata": {},
   "outputs": [],
   "source": [
    "use_of_force_incidents =use_of_force_incidents.drop([\"_AIRBYTE_RAW_ID\", \"_AIRBYTE_EXTRACTED_AT\", \"_AIRBYTE_META\", \"BASISFORENCOUNTER\", \"YEARMONTHSHORT\"])"
   ]
  },
  {
   "cell_type": "code",
   "execution_count": 25,
   "metadata": {},
   "outputs": [
    {
     "name": "stdout",
     "output_type": "stream",
     "text": [
      "--------------------------------------------------------------------------------------------------\n",
      "|\"FORCETYPE\"     |\"INCIDENT PCT\"  |\"OCCURRENCE DATE\"  |\"TRI INCIDENT NUMBER\"  |\"PATROL BOROUGH\"  |\n",
      "--------------------------------------------------------------------------------------------------\n",
      "|Physical Force  |75              |09/21/2023         |2023094962399          |PBBN              |\n",
      "|Physical Force  |40              |09/13/2023         |2023059962344          |PBBX              |\n",
      "|Physical Force  |45              |09/13/2023         |2023064962120          |PBBX              |\n",
      "|Physical Force  |121             |09/08/2023         |2023140962087          |PBSI              |\n",
      "|Physical Force  |34              |08/27/2023         |2023053962127          |PBMN              |\n",
      "|Physical Force  |48              |08/24/2023         |2023067962183          |PBBX              |\n",
      "|Physical Force  |42              |08/23/2023         |2023061962210          |PBBX              |\n",
      "|Physical Force  |79              |08/21/2023         |2023098962153          |PBBN              |\n",
      "|Physical Force  |6               |08/20/2023         |2023025962107          |PBMS              |\n",
      "|Physical Force  |71              |08/16/2023         |2023090962093          |PBBS              |\n",
      "--------------------------------------------------------------------------------------------------\n",
      "\n"
     ]
    }
   ],
   "source": [
    "use_of_force_incidents.show()"
   ]
  },
  {
   "cell_type": "markdown",
   "metadata": {},
   "source": [
    "### Dropping Nan values"
   ]
  },
  {
   "cell_type": "code",
   "execution_count": 26,
   "metadata": {},
   "outputs": [],
   "source": [
    "use_of_force_incidents = use_of_force_incidents.filter(col(\"PATROL BOROUGH\").is_not_null())"
   ]
  },
  {
   "cell_type": "code",
   "execution_count": 27,
   "metadata": {},
   "outputs": [
    {
     "data": {
      "text/plain": [
       "28529"
      ]
     },
     "execution_count": 27,
     "metadata": {},
     "output_type": "execute_result"
    }
   ],
   "source": [
    "use_of_force_incidents.count()"
   ]
  },
  {
   "cell_type": "markdown",
   "metadata": {},
   "source": [
    "### Borough-Mapping"
   ]
  },
  {
   "cell_type": "code",
   "execution_count": 28,
   "metadata": {},
   "outputs": [],
   "source": [
    "borough_mapping = {\n",
    "    \"PBBX\": \"BRONX\", \n",
    "    \"PBSI\": \"STATEN ISLAND\", \n",
    "    \"PBMN\": \"MANHATTAN\", \n",
    "    \"PBMS\": \"MANHATTAN\",\n",
    "    \"PBBN\": \"BROOKLYN\", \n",
    "    \"PBBS\": \"BROOKLYN\", \n",
    "    \"PBQS\": \"QUEENS\", \n",
    "    \"PBQN\": \"QUEENS\"\n",
    "}"
   ]
  },
  {
   "cell_type": "code",
   "execution_count": 29,
   "metadata": {},
   "outputs": [],
   "source": [
    "mapping_expr = when(col(\"PATROL BOROUGH\") == 'PBBX', 'BRONX')\n",
    "for key, value in borough_mapping.items():\n",
    "    mapping_expr = mapping_expr.when(col(\"PATROL BOROUGH\") == key, value)\n",
    "\n",
    "use_of_force_incidents = use_of_force_incidents.withColumn(\"PATROL BOROUGH\", mapping_expr.otherwise(col(\"PATROL BOROUGH\")))"
   ]
  },
  {
   "cell_type": "code",
   "execution_count": 30,
   "metadata": {},
   "outputs": [
    {
     "name": "stdout",
     "output_type": "stream",
     "text": [
      "--------------------------------------------------------------------------------------------------\n",
      "|\"FORCETYPE\"     |\"INCIDENT PCT\"  |\"OCCURRENCE DATE\"  |\"TRI INCIDENT NUMBER\"  |\"PATROL BOROUGH\"  |\n",
      "--------------------------------------------------------------------------------------------------\n",
      "|Physical Force  |75              |09/21/2023         |2023094962399          |BROOKLYN          |\n",
      "|Physical Force  |40              |09/13/2023         |2023059962344          |BRONX             |\n",
      "|Physical Force  |45              |09/13/2023         |2023064962120          |BRONX             |\n",
      "|Physical Force  |121             |09/08/2023         |2023140962087          |STATEN ISLAND     |\n",
      "|Physical Force  |34              |08/27/2023         |2023053962127          |MANHATTAN         |\n",
      "|Physical Force  |48              |08/24/2023         |2023067962183          |BRONX             |\n",
      "|Physical Force  |42              |08/23/2023         |2023061962210          |BRONX             |\n",
      "|Physical Force  |79              |08/21/2023         |2023098962153          |BROOKLYN          |\n",
      "|Physical Force  |6               |08/20/2023         |2023025962107          |MANHATTAN         |\n",
      "|Physical Force  |71              |08/16/2023         |2023090962093          |BROOKLYN          |\n",
      "--------------------------------------------------------------------------------------------------\n",
      "\n"
     ]
    }
   ],
   "source": [
    "use_of_force_incidents.show()"
   ]
  },
  {
   "cell_type": "markdown",
   "metadata": {},
   "source": [
    "#### Making Date Compiant"
   ]
  },
  {
   "cell_type": "code",
   "execution_count": 31,
   "metadata": {},
   "outputs": [],
   "source": [
    "use_of_force_incidents = use_of_force_incidents.withColumn(\"OCCURRENCE DATE\", to_date(col(\"OCCURRENCE DATE\"), 'MM/DD/YYYY'))"
   ]
  },
  {
   "cell_type": "code",
   "execution_count": 32,
   "metadata": {},
   "outputs": [
    {
     "name": "stdout",
     "output_type": "stream",
     "text": [
      "--------------------------------------------------------------------------------------------------\n",
      "|\"FORCETYPE\"     |\"INCIDENT PCT\"  |\"TRI INCIDENT NUMBER\"  |\"PATROL BOROUGH\"  |\"OCCURRENCE DATE\"  |\n",
      "--------------------------------------------------------------------------------------------------\n",
      "|Physical Force  |75              |2023094962399          |BROOKLYN          |2023-09-21         |\n",
      "|Physical Force  |40              |2023059962344          |BRONX             |2023-09-13         |\n",
      "|Physical Force  |45              |2023064962120          |BRONX             |2023-09-13         |\n",
      "|Physical Force  |121             |2023140962087          |STATEN ISLAND     |2023-09-08         |\n",
      "|Physical Force  |34              |2023053962127          |MANHATTAN         |2023-08-27         |\n",
      "|Physical Force  |48              |2023067962183          |BRONX             |2023-08-24         |\n",
      "|Physical Force  |42              |2023061962210          |BRONX             |2023-08-23         |\n",
      "|Physical Force  |79              |2023098962153          |BROOKLYN          |2023-08-21         |\n",
      "|Physical Force  |6               |2023025962107          |MANHATTAN         |2023-08-20         |\n",
      "|Physical Force  |71              |2023090962093          |BROOKLYN          |2023-08-16         |\n",
      "--------------------------------------------------------------------------------------------------\n",
      "\n"
     ]
    }
   ],
   "source": [
    "use_of_force_incidents.show()"
   ]
  },
  {
   "cell_type": "markdown",
   "metadata": {},
   "source": [
    "### Checking Distinct Values"
   ]
  },
  {
   "cell_type": "code",
   "execution_count": 16,
   "metadata": {},
   "outputs": [
    {
     "name": "stdout",
     "output_type": "stream",
     "text": [
      "Distinct counts for FORCETYPE:\n",
      "--------------------------------------\n",
      "|\"FORCETYPE\"               |\"COUNT\"  |\n",
      "--------------------------------------\n",
      "|Physical Force            |22914    |\n",
      "|Electrical Weapon         |4759     |\n",
      "|OC Spray                  |479      |\n",
      "|Impact Weapon             |242      |\n",
      "|Firearm                   |120      |\n",
      "|Restraining Mesh Blanket  |11       |\n",
      "|Police Canine             |4        |\n",
      "--------------------------------------\n",
      "\n",
      "Distinct counts for PATROL BOROUGH:\n",
      "------------------------------\n",
      "|\"PATROL BOROUGH\"  |\"COUNT\"  |\n",
      "------------------------------\n",
      "|BROOKLYN          |8200     |\n",
      "|BRONX             |7133     |\n",
      "|MANHATTAN         |6874     |\n",
      "|QUEENS            |5085     |\n",
      "|STATEN ISLAND     |1237     |\n",
      "------------------------------\n",
      "\n"
     ]
    }
   ],
   "source": [
    "def get_distinct_counts(dataframe, column_name):\n",
    "    return dataframe.groupBy(column_name).agg(count(\"*\").alias(\"count\")).sort(\"count\", ascending=False)\n",
    "\n",
    "columns_to_check = [\"FORCETYPE\", \"PATROL BOROUGH\"]  # List of columns you want to check\n",
    "for col_name in columns_to_check:\n",
    "    distinct_counts = get_distinct_counts(use_of_force_incidents, col_name)\n",
    "    print(f\"Distinct counts for {col_name}:\")\n",
    "    distinct_counts.show()\n"
   ]
  },
  {
   "cell_type": "markdown",
   "metadata": {},
   "source": [
    "## Exporting the processed data to Silver Medallion"
   ]
  },
  {
   "cell_type": "code",
   "execution_count": 17,
   "metadata": {},
   "outputs": [],
   "source": [
    "table_name = \"SAFEGUARDING_NYC_SCHEMA_SILVER.use_of_force_incidents\"\n",
    "use_of_force_incidents.write.saveAsTable(table_name, mode=\"overwrite\")"
   ]
  },
  {
   "cell_type": "code",
   "execution_count": null,
   "metadata": {},
   "outputs": [],
   "source": []
  }
 ],
 "metadata": {
  "kernelspec": {
   "display_name": "Python 3",
   "language": "python",
   "name": "python3"
  },
  "language_info": {
   "codemirror_mode": {
    "name": "ipython",
    "version": 3
   },
   "file_extension": ".py",
   "mimetype": "text/x-python",
   "name": "python",
   "nbconvert_exporter": "python",
   "pygments_lexer": "ipython3",
   "version": "3.11.5"
  }
 },
 "nbformat": 4,
 "nbformat_minor": 2
}

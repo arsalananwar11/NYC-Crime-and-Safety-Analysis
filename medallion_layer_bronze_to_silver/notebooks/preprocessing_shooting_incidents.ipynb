{
 "cells": [
  {
   "cell_type": "markdown",
   "metadata": {},
   "source": [
    "### Bronze to Silver Medallion Data Layer for Shooting Incidents Data (2006-2022)\n",
    "\n",
    "We conduct the following transformations and cleaning to get to the Silver Medallion Layer\n",
    "- Null value mapping (ex: Null values represented in different formats like (null), Nan, NULL, etc.)\n",
    "- Dropping irrelevant columns for the analysis\n",
    "- Date preprocessing (formatted the date to standard date (YYYY-MM-DD) format)\n",
    "- Handled incorrect data (ex: Removed incorrect ages like 940, 1022, 224)\n",
    "- Race Mapping: Correctly formatted the ASIAN/PACIFIC ISLANDER values"
   ]
  },
  {
   "cell_type": "markdown",
   "metadata": {},
   "source": [
    "## Importing Libraries "
   ]
  },
  {
   "cell_type": "code",
   "execution_count": 160,
   "metadata": {},
   "outputs": [],
   "source": [
    "import sys\n",
    "sys.path.append(\"..\")"
   ]
  },
  {
   "cell_type": "code",
   "execution_count": 161,
   "metadata": {},
   "outputs": [],
   "source": [
    "from snowflake.snowpark import Session, dataframe\n",
    "import snowflake.snowpark.functions as F\n",
    "from snowflake.snowpark.functions import when, col, to_date, count\n",
    "from helpers import SnowflakeHelper\n",
    "from snowflake.snowpark.functions import date_format\n",
    "import json\n",
    "import os"
   ]
  },
  {
   "cell_type": "code",
   "execution_count": 162,
   "metadata": {},
   "outputs": [],
   "source": [
    "null_value_mapping = {\n",
    "    \"(null)\": None,\n",
    "    \"Nan\": None,\n",
    "    \"NONE\": None,\n",
    "    \"nan\": None,\n",
    "    \"U\": None,\n",
    "    \"UNKNOWN\": None\n",
    "}\n",
    "\n",
    "age_mapping = {\n",
    "    \"224\": None, \n",
    "    \"1020\": None, \n",
    "    \"940\": None, \n",
    "    \"1022\": None\n",
    "}\n",
    "\n",
    "race_mapping = {\n",
    "    \"ASIAN / PACIFIC ISLANDER\" : \"ASIAN/PACIFIC ISLANDER\"\n",
    "}\n",
    "\n",
    "gender_mapping = {\n",
    "    \"M\": \"MALE\",\n",
    "    \"F\": \"FEMALE\"\n",
    "}"
   ]
  },
  {
   "cell_type": "markdown",
   "metadata": {},
   "source": [
    "## Extracting Data from Snowflake"
   ]
  },
  {
   "cell_type": "code",
   "execution_count": 163,
   "metadata": {},
   "outputs": [
    {
     "name": "stdout",
     "output_type": "stream",
     "text": [
      "[INFO] No schema passed, using default schema SAFEGUARDING_NYC_SCHEMA_BRONZE for the session\n",
      "[SUCCESS] Config file loaded successfully!\n",
      "[SUCCESS] Snowspark Session created successfully on schema SAFEGUARDING_NYC_SCHEMA_BRONZE!\n"
     ]
    }
   ],
   "source": [
    "snowflake_helper = SnowflakeHelper()\n",
    "snowflake_config = './../helpers/snowflake_config.json'\n",
    "session = snowflake_helper.create_snowpark_session(snowflake_config)"
   ]
  },
  {
   "cell_type": "code",
   "execution_count": 164,
   "metadata": {},
   "outputs": [],
   "source": [
    "shooting_data = session.table(\"SHOOTING_INCIDENTS\")"
   ]
  },
  {
   "cell_type": "code",
   "execution_count": 165,
   "metadata": {},
   "outputs": [
    {
     "name": "stdout",
     "output_type": "stream",
     "text": [
      "----------------------------------------------------------------------------------------------------------------------------------------------------------------------------------------------------------------------------------------------------------------------------------------------------------------------------------------------------------------------------------------------------------------------------------------------------------------------------------------------------\n",
      "|\"_AIRBYTE_RAW_ID\"                     |\"_AIRBYTE_EXTRACTED_AT\"    |\"_AIRBYTE_META\"  |\"VIC_RACE\"      |\"OCCUR_TIME\"  |\"X_COORD_CD\"  |\"INCIDENT_KEY\"  |\"VIC_AGE_GROUP\"  |\"LOC_OF_OCCUR_DESC\"  |\"LATITUDE\"   |\"PERP_RACE\"     |\"Y_COORD_CD\"  |\"STATISTICAL_MURDER_FLAG\"  |\"LONGITUDE\"   |\"VIC_SEX\"  |\"BORO\"     |\"LON_LAT\"                                      |\"PERP_SEX\"  |\"LOCATION_DESC\"            |\"OCCUR_DATE\"  |\"PRECINCT\"  |\"LOC_CLASSFCTN_DESC\"  |\"PERP_AGE_GROUP\"  |\"JURISDICTION_CODE\"  |\n",
      "----------------------------------------------------------------------------------------------------------------------------------------------------------------------------------------------------------------------------------------------------------------------------------------------------------------------------------------------------------------------------------------------------------------------------------------------------------------------------------------------------\n",
      "|971da082-0dd1-4987-9334-20a0ea7f39b1  |2023-12-02 23:16:15-08:00  |{                |BLACK           |19:13:00      |999983.25     |28832628        |<18              |NULL                 |40.70370632  |BLACK           |195657.75     |FALSE                      |-73.94325706  |F          |BROOKLYN   |POINT (-73.94325706499997 40.70370632200007)   |M           |MULTI DWELL - PUBLIC HOUS  |05/04/2007    |90          |NULL                  |<18               |2                    |\n",
      "|                                      |                           |  \"errors\": []   |                |              |              |                |                 |                     |             |                |              |                           |              |           |           |                                               |            |                           |              |            |                      |                  |                     |\n",
      "|                                      |                           |}                |                |              |              |                |                 |                     |             |                |              |                           |              |           |           |                                               |            |                           |              |            |                      |                  |                     |\n",
      "|d2687e68-3ce9-400f-b989-d8573c7de23c  |2023-12-02 23:16:15-08:00  |{                |BLACK HISPANIC  |20:39:00      |1011815.563   |211066103       |18-24            |NULL                 |40.85676552  |BLACK           |251432.9844   |FALSE                      |-73.90035321  |F          |BRONX      |POINT (-73.90035321499994 40.85676552000007)   |M           |NULL                       |03/15/2020    |46          |NULL                  |18-24             |0                    |\n",
      "|                                      |                           |  \"errors\": []   |                |              |              |                |                 |                     |             |                |              |                           |              |           |           |                                               |            |                           |              |            |                      |                  |                     |\n",
      "|                                      |                           |}                |                |              |              |                |                 |                     |             |                |              |                           |              |           |           |                                               |            |                           |              |            |                      |                  |                     |\n",
      "|85e0f541-3619-4b45-884e-a72882a1ccaa  |2023-12-02 23:16:15-08:00  |{                |WHITE           |17:15:00      |1007654       |52409037        |NULL             |NULL                 |40.76930609  |BLACK HISPANIC  |219564        |FALSE                      |-73.91550818  |M          |QUEENS     |POINT (-73.91550817999996 40.769306087000075)  |M           |NULL                       |10/21/2008    |114         |NULL                  |25-44             |1                    |\n",
      "|                                      |                           |  \"errors\": []   |                |              |              |                |                 |                     |             |                |              |                           |              |           |           |                                               |            |                           |              |            |                      |                  |                     |\n",
      "|                                      |                           |}                |                |              |              |                |                 |                     |             |                |              |                           |              |           |           |                                               |            |                           |              |            |                      |                  |                     |\n",
      "|9ab34373-ce5e-4385-92d9-dbacf222b985  |2023-12-02 23:16:15-08:00  |{                |BLACK           |19:35:00      |996279        |230190941       |25-44            |NULL                 |40.81300853  |BLACK           |235478        |TRUE                       |-73.95654577  |M          |MANHATTAN  |POINT (-73.95654576899994 40.81300852900005)   |M           |MULTI DWELL - PUBLIC HOUS  |06/28/2021    |26          |NULL                  |25-44             |2                    |\n",
      "|                                      |                           |  \"errors\": []   |                |              |              |                |                 |                     |             |                |              |                           |              |           |           |                                               |            |                           |              |            |                      |                  |                     |\n",
      "|                                      |                           |}                |                |              |              |                |                 |                     |             |                |              |                           |              |           |           |                                               |            |                           |              |            |                      |                  |                     |\n",
      "|b4a44292-466b-4232-83cd-c616adc8ab64  |2023-12-02 23:16:15-08:00  |{                |BLACK HISPANIC  |23:30:00      |1016057.875   |77154071        |<18              |NULL                 |40.84627293  |NULL            |247615.3281   |FALSE                      |-73.88503558  |M          |BRONX      |POINT (-73.88503557999996 40.846272928000076)  |NULL        |GROCERY/BODEGA             |02/04/2011    |48          |NULL                  |NULL              |0                    |\n",
      "|                                      |                           |  \"errors\": []   |                |              |              |                |                 |                     |             |                |              |                           |              |           |           |                                               |            |                           |              |            |                      |                  |                     |\n",
      "|                                      |                           |}                |                |              |              |                |                 |                     |             |                |              |                           |              |           |           |                                               |            |                           |              |            |                      |                  |                     |\n",
      "|d51580ba-2f80-4171-ac6a-b91d271646a1  |2023-12-02 23:16:15-08:00  |{                |WHITE HISPANIC  |23:55:00      |1014148       |62663564        |25-44            |NULL                 |40.8707175   |BLACK           |256519        |FALSE                      |-73.89189888  |M          |BRONX      |POINT (-73.89189888199996 40.870717496000054)  |M           |NULL                       |06/10/2009    |52          |NULL                  |25-44             |0                    |\n",
      "|                                      |                           |  \"errors\": []   |                |              |              |                |                 |                     |             |                |              |                           |              |           |           |                                               |            |                           |              |            |                      |                  |                     |\n",
      "|                                      |                           |}                |                |              |              |                |                 |                     |             |                |              |                           |              |           |           |                                               |            |                           |              |            |                      |                  |                     |\n",
      "|7173e6fb-8a39-43d1-b9bb-775a93804f89  |2023-12-02 23:16:15-08:00  |{                |BLACK           |1:15:00       |1010169.625   |158731888       |18-24            |NULL                 |40.65725616  |NULL            |178743.3438   |FALSE                      |-73.90658342  |F          |BROOKLYN   |POINT (-73.90658341799997 40.65725616000003)   |NULL        |NULL                       |11/23/2016    |73          |NULL                  |NULL              |0                    |\n",
      "|                                      |                           |  \"errors\": []   |                |              |              |                |                 |                     |             |                |              |                           |              |           |           |                                               |            |                           |              |            |                      |                  |                     |\n",
      "|                                      |                           |}                |                |              |              |                |                 |                     |             |                |              |                           |              |           |           |                                               |            |                           |              |            |                      |                  |                     |\n",
      "|7d1e2001-765a-4e2b-8854-59ffe538cdb4  |2023-12-02 23:16:15-08:00  |{                |BLACK           |3:50:00       |1040605.938   |27105895        |25-44            |NULL                 |40.70757964  |BLACK           |197129.2031   |FALSE                      |-73.79673313  |M          |QUEENS     |POINT (-73.79673312999995 40.70757963600005)   |M           |NULL                       |02/27/2007    |103         |NULL                  |18-24             |0                    |\n",
      "|                                      |                           |  \"errors\": []   |                |              |              |                |                 |                     |             |                |              |                           |              |           |           |                                               |            |                           |              |            |                      |                  |                     |\n",
      "|                                      |                           |}                |                |              |              |                |                 |                     |             |                |              |                           |              |           |           |                                               |            |                           |              |            |                      |                  |                     |\n",
      "|2caceb01-63d3-42cb-ba90-863d760fcdea  |2023-12-02 23:16:15-08:00  |{                |WHITE HISPANIC  |21:27:00      |1007528.563   |45898006        |18-24            |NULL                 |40.85170724  |BLACK           |249585.5625   |FALSE                      |-73.91585693  |M          |BRONX      |POINT (-73.91585692899997 40.85170724200003)   |M           |NULL                       |04/23/2008    |46          |NULL                  |18-24             |0                    |\n",
      "|                                      |                           |  \"errors\": []   |                |              |              |                |                 |                     |             |                |              |                           |              |           |           |                                               |            |                           |              |            |                      |                  |                     |\n",
      "|                                      |                           |}                |                |              |              |                |                 |                     |             |                |              |                           |              |           |           |                                               |            |                           |              |            |                      |                  |                     |\n",
      "|71813d06-7002-46d3-aa54-ab10ae3d65e7  |2023-12-02 23:16:15-08:00  |{                |BLACK           |23:53:00      |1001539.625   |216157963       |18-24            |NULL                 |40.82883982  |BLACK           |241249.0938   |FALSE                      |-73.9375265   |M          |MANHATTAN  |POINT (-73.93752649599998 40.82883982300007)   |M           |NULL                       |08/03/2020    |32          |NULL                  |<18               |0                    |\n",
      "|                                      |                           |  \"errors\": []   |                |              |              |                |                 |                     |             |                |              |                           |              |           |           |                                               |            |                           |              |            |                      |                  |                     |\n",
      "|                                      |                           |}                |                |              |              |                |                 |                     |             |                |              |                           |              |           |           |                                               |            |                           |              |            |                      |                  |                     |\n",
      "----------------------------------------------------------------------------------------------------------------------------------------------------------------------------------------------------------------------------------------------------------------------------------------------------------------------------------------------------------------------------------------------------------------------------------------------------------------------------------------------------\n",
      "\n"
     ]
    }
   ],
   "source": [
    "shooting_data.show()"
   ]
  },
  {
   "cell_type": "markdown",
   "metadata": {},
   "source": [
    "## Preproccesing Data using Snowspark"
   ]
  },
  {
   "cell_type": "markdown",
   "metadata": {},
   "source": [
    "## Dropping irrelevant Columns"
   ]
  },
  {
   "cell_type": "code",
   "execution_count": 166,
   "metadata": {},
   "outputs": [
    {
     "name": "stdout",
     "output_type": "stream",
     "text": [
      "--------------------------------------------------------------------------------------------------------------------------------------------------------------------------------------------------------------------------------------------------------------\n",
      "|\"VIC_RACE\"      |\"OCCUR_TIME\"  |\"INCIDENT_KEY\"  |\"VIC_AGE_GROUP\"  |\"LATITUDE\"   |\"PERP_RACE\"     |\"STATISTICAL_MURDER_FLAG\"  |\"LONGITUDE\"   |\"VIC_SEX\"  |\"BORO\"     |\"PERP_SEX\"  |\"LOCATION_DESC\"            |\"OCCUR_DATE\"  |\"PRECINCT\"  |\"PERP_AGE_GROUP\"  |\n",
      "--------------------------------------------------------------------------------------------------------------------------------------------------------------------------------------------------------------------------------------------------------------\n",
      "|BLACK           |19:13:00      |28832628        |<18              |40.70370632  |BLACK           |FALSE                      |-73.94325706  |F          |BROOKLYN   |M           |MULTI DWELL - PUBLIC HOUS  |05/04/2007    |90          |<18               |\n",
      "|BLACK HISPANIC  |20:39:00      |211066103       |18-24            |40.85676552  |BLACK           |FALSE                      |-73.90035321  |F          |BRONX      |M           |NULL                       |03/15/2020    |46          |18-24             |\n",
      "|WHITE           |17:15:00      |52409037        |NULL             |40.76930609  |BLACK HISPANIC  |FALSE                      |-73.91550818  |M          |QUEENS     |M           |NULL                       |10/21/2008    |114         |25-44             |\n",
      "|BLACK           |19:35:00      |230190941       |25-44            |40.81300853  |BLACK           |TRUE                       |-73.95654577  |M          |MANHATTAN  |M           |MULTI DWELL - PUBLIC HOUS  |06/28/2021    |26          |25-44             |\n",
      "|BLACK HISPANIC  |23:30:00      |77154071        |<18              |40.84627293  |NULL            |FALSE                      |-73.88503558  |M          |BRONX      |NULL        |GROCERY/BODEGA             |02/04/2011    |48          |NULL              |\n",
      "|WHITE HISPANIC  |23:55:00      |62663564        |25-44            |40.8707175   |BLACK           |FALSE                      |-73.89189888  |M          |BRONX      |M           |NULL                       |06/10/2009    |52          |25-44             |\n",
      "|BLACK           |1:15:00       |158731888       |18-24            |40.65725616  |NULL            |FALSE                      |-73.90658342  |F          |BROOKLYN   |NULL        |NULL                       |11/23/2016    |73          |NULL              |\n",
      "|BLACK           |3:50:00       |27105895        |25-44            |40.70757964  |BLACK           |FALSE                      |-73.79673313  |M          |QUEENS     |M           |NULL                       |02/27/2007    |103         |18-24             |\n",
      "|WHITE HISPANIC  |21:27:00      |45898006        |18-24            |40.85170724  |BLACK           |FALSE                      |-73.91585693  |M          |BRONX      |M           |NULL                       |04/23/2008    |46          |18-24             |\n",
      "|BLACK           |23:53:00      |216157963       |18-24            |40.82883982  |BLACK           |FALSE                      |-73.9375265   |M          |MANHATTAN  |M           |NULL                       |08/03/2020    |32          |<18               |\n",
      "--------------------------------------------------------------------------------------------------------------------------------------------------------------------------------------------------------------------------------------------------------------\n",
      "\n"
     ]
    }
   ],
   "source": [
    "# Dropping unnecessary columns\n",
    "\n",
    "columns_to_drop = [\"_AIRBYTE_RAW_ID\", \"_AIRBYTE_EXTRACTED_AT\", \"_AIRBYTE_META\", \"X_COORD_CD\", \"Y_COORD_CD\", \"LON_LAT\", \"JURISDICTION_CODE\", \"LOC_OF_OCCUR_DESC\", \"LOC_CLASSFCTN_DESC\"]\n",
    "shooting_data = shooting_data.drop(*columns_to_drop)\n",
    "shooting_data.show()"
   ]
  },
  {
   "cell_type": "code",
   "execution_count": 167,
   "metadata": {},
   "outputs": [
    {
     "name": "stdout",
     "output_type": "stream",
     "text": [
      "root\n",
      " |-- \"VIC_RACE\": StringType(16777216) (nullable = True)\n",
      " |-- \"OCCUR_TIME\": StringType(16777216) (nullable = True)\n",
      " |-- \"INCIDENT_KEY\": StringType(16777216) (nullable = True)\n",
      " |-- \"VIC_AGE_GROUP\": StringType(16777216) (nullable = True)\n",
      " |-- \"LATITUDE\": StringType(16777216) (nullable = True)\n",
      " |-- \"PERP_RACE\": StringType(16777216) (nullable = True)\n",
      " |-- \"STATISTICAL_MURDER_FLAG\": StringType(16777216) (nullable = True)\n",
      " |-- \"LONGITUDE\": StringType(16777216) (nullable = True)\n",
      " |-- \"VIC_SEX\": StringType(16777216) (nullable = True)\n",
      " |-- \"BORO\": StringType(16777216) (nullable = True)\n",
      " |-- \"PERP_SEX\": StringType(16777216) (nullable = True)\n",
      " |-- \"LOCATION_DESC\": StringType(16777216) (nullable = True)\n",
      " |-- \"OCCUR_DATE\": StringType(16777216) (nullable = True)\n",
      " |-- \"PRECINCT\": StringType(16777216) (nullable = True)\n",
      " |-- \"PERP_AGE_GROUP\": StringType(16777216) (nullable = True)\n"
     ]
    }
   ],
   "source": [
    "shooting_data.printSchema()"
   ]
  },
  {
   "cell_type": "markdown",
   "metadata": {},
   "source": [
    "## Formatting Date"
   ]
  },
  {
   "cell_type": "code",
   "execution_count": 168,
   "metadata": {},
   "outputs": [],
   "source": [
    "shooting_data = shooting_data.withColumn(\"OCCUR_DATE\", when(col(\"OCCUR_DATE\").isNotNull(), to_date(col(\"OCCUR_DATE\"), 'MM/DD/YYYY')).otherwise(None))"
   ]
  },
  {
   "cell_type": "code",
   "execution_count": 169,
   "metadata": {},
   "outputs": [
    {
     "name": "stdout",
     "output_type": "stream",
     "text": [
      "--------------------------------------------------------------------------------------------------------------------------------------------------------------------------------------------------------------------------------------------------------------\n",
      "|\"VIC_RACE\"      |\"OCCUR_TIME\"  |\"INCIDENT_KEY\"  |\"VIC_AGE_GROUP\"  |\"LATITUDE\"   |\"PERP_RACE\"     |\"STATISTICAL_MURDER_FLAG\"  |\"LONGITUDE\"   |\"VIC_SEX\"  |\"BORO\"     |\"PERP_SEX\"  |\"LOCATION_DESC\"            |\"PRECINCT\"  |\"PERP_AGE_GROUP\"  |\"OCCUR_DATE\"  |\n",
      "--------------------------------------------------------------------------------------------------------------------------------------------------------------------------------------------------------------------------------------------------------------\n",
      "|BLACK           |19:13:00      |28832628        |<18              |40.70370632  |BLACK           |FALSE                      |-73.94325706  |F          |BROOKLYN   |M           |MULTI DWELL - PUBLIC HOUS  |90          |<18               |2007-05-04    |\n",
      "|BLACK HISPANIC  |20:39:00      |211066103       |18-24            |40.85676552  |BLACK           |FALSE                      |-73.90035321  |F          |BRONX      |M           |NULL                       |46          |18-24             |2020-03-15    |\n",
      "|WHITE           |17:15:00      |52409037        |NULL             |40.76930609  |BLACK HISPANIC  |FALSE                      |-73.91550818  |M          |QUEENS     |M           |NULL                       |114         |25-44             |2008-10-21    |\n",
      "|BLACK           |19:35:00      |230190941       |25-44            |40.81300853  |BLACK           |TRUE                       |-73.95654577  |M          |MANHATTAN  |M           |MULTI DWELL - PUBLIC HOUS  |26          |25-44             |2021-06-28    |\n",
      "|BLACK HISPANIC  |23:30:00      |77154071        |<18              |40.84627293  |NULL            |FALSE                      |-73.88503558  |M          |BRONX      |NULL        |GROCERY/BODEGA             |48          |NULL              |2011-02-04    |\n",
      "|WHITE HISPANIC  |23:55:00      |62663564        |25-44            |40.8707175   |BLACK           |FALSE                      |-73.89189888  |M          |BRONX      |M           |NULL                       |52          |25-44             |2009-06-10    |\n",
      "|BLACK           |1:15:00       |158731888       |18-24            |40.65725616  |NULL            |FALSE                      |-73.90658342  |F          |BROOKLYN   |NULL        |NULL                       |73          |NULL              |2016-11-23    |\n",
      "|BLACK           |3:50:00       |27105895        |25-44            |40.70757964  |BLACK           |FALSE                      |-73.79673313  |M          |QUEENS     |M           |NULL                       |103         |18-24             |2007-02-27    |\n",
      "|WHITE HISPANIC  |21:27:00      |45898006        |18-24            |40.85170724  |BLACK           |FALSE                      |-73.91585693  |M          |BRONX      |M           |NULL                       |46          |18-24             |2008-04-23    |\n",
      "|BLACK           |23:53:00      |216157963       |18-24            |40.82883982  |BLACK           |FALSE                      |-73.9375265   |M          |MANHATTAN  |M           |NULL                       |32          |<18               |2020-08-03    |\n",
      "--------------------------------------------------------------------------------------------------------------------------------------------------------------------------------------------------------------------------------------------------------------\n",
      "\n"
     ]
    }
   ],
   "source": [
    "shooting_data.show()"
   ]
  },
  {
   "cell_type": "markdown",
   "metadata": {},
   "source": [
    "## Mapping"
   ]
  },
  {
   "cell_type": "code",
   "execution_count": null,
   "metadata": {},
   "outputs": [],
   "source": [
    "# Distinct Values\n",
    "check_columns = [\"VIC_RACE\", \"VIC_AGE_GROUP\", \"PERP_RACE\", \"STATISTICAL_MURDER_FLAG\", \"VIC_SEX\", \"BORO\", \"PERP_SEX\", \"LOCATION_DESC\", \"PERP_AGE_GROUP\"]\n",
    "\n",
    "for column in check_columns:\n",
    "    distinct_values = shooting_data.select(column).distinct()\n",
    "    print(f\"Distinct values in {column}:\")\n",
    "    distinct_values.show()\n"
   ]
  },
  {
   "cell_type": "code",
   "execution_count": 170,
   "metadata": {},
   "outputs": [],
   "source": [
    "# Null Value Mapping\n",
    "no_date_column = [\"VIC_RACE\", \"OCCUR_TIME\", \"INCIDENT_KEY\", \"VIC_AGE_GROUP\", \"LATITUDE\", \"PERP_RACE\", \"STATISTICAL_MURDER_FLAG\", \"LONGITUDE\", \"VIC_SEX\", \"BORO\", \"PERP_SEX\", \"LOCATION_DESC\", \"PRECINCT\", \"PERP_AGE_GROUP\"]\n",
    "\n",
    "for column in no_date_column:\n",
    "    for key, value in null_value_mapping.items():\n",
    "        shooting_data = shooting_data.withColumn(column, when(col(column) == key, value).otherwise(col(column)))"
   ]
  },
  {
   "cell_type": "code",
   "execution_count": 171,
   "metadata": {},
   "outputs": [
    {
     "name": "stdout",
     "output_type": "stream",
     "text": [
      "--------------------------------------------------------------------------------------------------------------------------------------------------------------------------------------------------------------------------------------------------------------\n",
      "|\"OCCUR_DATE\"  |\"VIC_RACE\"      |\"OCCUR_TIME\"  |\"INCIDENT_KEY\"  |\"VIC_AGE_GROUP\"  |\"LATITUDE\"   |\"PERP_RACE\"     |\"STATISTICAL_MURDER_FLAG\"  |\"LONGITUDE\"   |\"VIC_SEX\"  |\"BORO\"     |\"PERP_SEX\"  |\"LOCATION_DESC\"            |\"PRECINCT\"  |\"PERP_AGE_GROUP\"  |\n",
      "--------------------------------------------------------------------------------------------------------------------------------------------------------------------------------------------------------------------------------------------------------------\n",
      "|2007-05-04    |BLACK           |19:13:00      |28832628        |<18              |40.70370632  |BLACK           |FALSE                      |-73.94325706  |F          |BROOKLYN   |M           |MULTI DWELL - PUBLIC HOUS  |90          |<18               |\n",
      "|2020-03-15    |BLACK HISPANIC  |20:39:00      |211066103       |18-24            |40.85676552  |BLACK           |FALSE                      |-73.90035321  |F          |BRONX      |M           |NULL                       |46          |18-24             |\n",
      "|2008-10-21    |WHITE           |17:15:00      |52409037        |NULL             |40.76930609  |BLACK HISPANIC  |FALSE                      |-73.91550818  |M          |QUEENS     |M           |NULL                       |114         |25-44             |\n",
      "|2021-06-28    |BLACK           |19:35:00      |230190941       |25-44            |40.81300853  |BLACK           |TRUE                       |-73.95654577  |M          |MANHATTAN  |M           |MULTI DWELL - PUBLIC HOUS  |26          |25-44             |\n",
      "|2011-02-04    |BLACK HISPANIC  |23:30:00      |77154071        |<18              |40.84627293  |NULL            |FALSE                      |-73.88503558  |M          |BRONX      |NULL        |GROCERY/BODEGA             |48          |NULL              |\n",
      "|2009-06-10    |WHITE HISPANIC  |23:55:00      |62663564        |25-44            |40.8707175   |BLACK           |FALSE                      |-73.89189888  |M          |BRONX      |M           |NULL                       |52          |25-44             |\n",
      "|2016-11-23    |BLACK           |1:15:00       |158731888       |18-24            |40.65725616  |NULL            |FALSE                      |-73.90658342  |F          |BROOKLYN   |NULL        |NULL                       |73          |NULL              |\n",
      "|2007-02-27    |BLACK           |3:50:00       |27105895        |25-44            |40.70757964  |BLACK           |FALSE                      |-73.79673313  |M          |QUEENS     |M           |NULL                       |103         |18-24             |\n",
      "|2008-04-23    |WHITE HISPANIC  |21:27:00      |45898006        |18-24            |40.85170724  |BLACK           |FALSE                      |-73.91585693  |M          |BRONX      |M           |NULL                       |46          |18-24             |\n",
      "|2020-08-03    |BLACK           |23:53:00      |216157963       |18-24            |40.82883982  |BLACK           |FALSE                      |-73.9375265   |M          |MANHATTAN  |M           |NULL                       |32          |<18               |\n",
      "--------------------------------------------------------------------------------------------------------------------------------------------------------------------------------------------------------------------------------------------------------------\n",
      "\n"
     ]
    }
   ],
   "source": [
    "shooting_data.show()"
   ]
  },
  {
   "cell_type": "code",
   "execution_count": 172,
   "metadata": {},
   "outputs": [],
   "source": [
    "# Age Mapping\n",
    "\n",
    "age_columns = [\"PERP_AGE_GROUP\", \"VIC_AGE_GROUP\"]\n",
    "\n",
    "for column in age_columns:\n",
    "    for key, value in age_mapping.items():\n",
    "        shooting_data = shooting_data.withColumn(column, when(col(column) == key, value).otherwise(col(column)))"
   ]
  },
  {
   "cell_type": "code",
   "execution_count": 173,
   "metadata": {},
   "outputs": [],
   "source": [
    "# Race Mapping\n",
    "\n",
    "race_columns = [\"VIC_RACE\", \"PERP_RACE\" ]\n",
    "\n",
    "for column in race_columns:\n",
    "    for key, value in race_mapping.items():\n",
    "        shooting_data = shooting_data.withColumn(column, when(col(column) == key, value).otherwise(col(column)))"
   ]
  },
  {
   "cell_type": "code",
   "execution_count": 174,
   "metadata": {},
   "outputs": [],
   "source": [
    "# Gender Mapping\n",
    "\n",
    "gender_columns = [\"PERP_SEX\", \"VIC_SEX\"]\n",
    "\n",
    "for column in gender_columns:\n",
    "    for key, value in gender_mapping.items():\n",
    "        shooting_data = shooting_data.withColumn(column, when(col(column) == key, value).otherwise(col(column)))"
   ]
  },
  {
   "cell_type": "code",
   "execution_count": 175,
   "metadata": {},
   "outputs": [
    {
     "name": "stdout",
     "output_type": "stream",
     "text": [
      "Distinct values in VIC_RACE:\n",
      "----------------------------------\n",
      "|\"VIC_RACE\"                      |\n",
      "----------------------------------\n",
      "|BLACK                           |\n",
      "|WHITE                           |\n",
      "|ASIAN/PACIFIC ISLANDER          |\n",
      "|NULL                            |\n",
      "|WHITE HISPANIC                  |\n",
      "|BLACK HISPANIC                  |\n",
      "|AMERICAN INDIAN/ALASKAN NATIVE  |\n",
      "----------------------------------\n",
      "\n",
      "Distinct values in VIC_AGE_GROUP:\n",
      "-------------------\n",
      "|\"VIC_AGE_GROUP\"  |\n",
      "-------------------\n",
      "|25-44            |\n",
      "|<18              |\n",
      "|45-64            |\n",
      "|18-24            |\n",
      "|NULL             |\n",
      "|65+              |\n",
      "-------------------\n",
      "\n",
      "Distinct values in PERP_RACE:\n",
      "----------------------------------\n",
      "|\"PERP_RACE\"                     |\n",
      "----------------------------------\n",
      "|NULL                            |\n",
      "|BLACK                           |\n",
      "|ASIAN/PACIFIC ISLANDER          |\n",
      "|WHITE                           |\n",
      "|BLACK HISPANIC                  |\n",
      "|WHITE HISPANIC                  |\n",
      "|AMERICAN INDIAN/ALASKAN NATIVE  |\n",
      "----------------------------------\n",
      "\n",
      "Distinct values in STATISTICAL_MURDER_FLAG:\n",
      "-----------------------------\n",
      "|\"STATISTICAL_MURDER_FLAG\"  |\n",
      "-----------------------------\n",
      "|FALSE                      |\n",
      "|TRUE                       |\n",
      "-----------------------------\n",
      "\n",
      "Distinct values in VIC_SEX:\n",
      "-------------\n",
      "|\"VIC_SEX\"  |\n",
      "-------------\n",
      "|MALE       |\n",
      "|FEMALE     |\n",
      "|NULL       |\n",
      "-------------\n",
      "\n",
      "Distinct values in BORO:\n",
      "-----------------\n",
      "|\"BORO\"         |\n",
      "-----------------\n",
      "|QUEENS         |\n",
      "|MANHATTAN      |\n",
      "|STATEN ISLAND  |\n",
      "|BRONX          |\n",
      "|BROOKLYN       |\n",
      "-----------------\n",
      "\n",
      "Distinct values in PERP_SEX:\n",
      "--------------\n",
      "|\"PERP_SEX\"  |\n",
      "--------------\n",
      "|MALE        |\n",
      "|NULL        |\n",
      "|FEMALE      |\n",
      "--------------\n",
      "\n",
      "Distinct values in LOCATION_DESC:\n",
      "-----------------------------\n",
      "|\"LOCATION_DESC\"            |\n",
      "-----------------------------\n",
      "|MULTI DWELL - PUBLIC HOUS  |\n",
      "|NULL                       |\n",
      "|COMMERCIAL BLDG            |\n",
      "|PVT HOUSE                  |\n",
      "|BAR/NIGHT CLUB             |\n",
      "|HOSPITAL                   |\n",
      "|MULTI DWELL - APT BUILD    |\n",
      "|JEWELRY STORE              |\n",
      "|GAS STATION                |\n",
      "|GROCERY/BODEGA             |\n",
      "-----------------------------\n",
      "\n",
      "Distinct values in PERP_AGE_GROUP:\n",
      "--------------------\n",
      "|\"PERP_AGE_GROUP\"  |\n",
      "--------------------\n",
      "|25-44             |\n",
      "|45-64             |\n",
      "|<18               |\n",
      "|NULL              |\n",
      "|18-24             |\n",
      "|65+               |\n",
      "--------------------\n",
      "\n"
     ]
    }
   ],
   "source": [
    "# Distinct Values of Preprocessed Data\n",
    "\n",
    "for column in check_columns:\n",
    "    distinct_values = shooting_data.select(column).distinct()\n",
    "    print(f\"Distinct values in {column}:\")\n",
    "    distinct_values.show() "
   ]
  },
  {
   "cell_type": "code",
   "execution_count": 176,
   "metadata": {},
   "outputs": [
    {
     "name": "stdout",
     "output_type": "stream",
     "text": [
      "Number of distinct values in VIC_RACE: 7\n",
      "Number of distinct values in VIC_AGE_GROUP: 6\n",
      "Number of distinct values in PERP_RACE: 7\n",
      "Number of distinct values in STATISTICAL_MURDER_FLAG: 2\n",
      "Number of distinct values in VIC_SEX: 3\n",
      "Number of distinct values in BORO: 5\n",
      "Number of distinct values in PERP_SEX: 3\n",
      "Number of distinct values in LOCATION_DESC: 39\n",
      "Number of distinct values in PERP_AGE_GROUP: 6\n"
     ]
    }
   ],
   "source": [
    "# Count of Distinct Values\n",
    "\n",
    "for column in check_columns:\n",
    "    distinct_count = shooting_data.select(column).distinct().count()\n",
    "    print(f\"Number of distinct values in {column}: {distinct_count}\")"
   ]
  },
  {
   "cell_type": "code",
   "execution_count": 177,
   "metadata": {},
   "outputs": [
    {
     "name": "stdout",
     "output_type": "stream",
     "text": [
      "--------------------------------------------------------------------------------------------------------------------------------------------------------------------------------------------------------------------------------------------------------------\n",
      "|\"OCCUR_DATE\"  |\"OCCUR_TIME\"  |\"INCIDENT_KEY\"  |\"LATITUDE\"   |\"STATISTICAL_MURDER_FLAG\"  |\"LONGITUDE\"   |\"BORO\"     |\"LOCATION_DESC\"            |\"PRECINCT\"  |\"PERP_AGE_GROUP\"  |\"VIC_AGE_GROUP\"  |\"VIC_RACE\"      |\"PERP_RACE\"     |\"PERP_SEX\"  |\"VIC_SEX\"  |\n",
      "--------------------------------------------------------------------------------------------------------------------------------------------------------------------------------------------------------------------------------------------------------------\n",
      "|2007-05-04    |19:13:00      |28832628        |40.70370632  |FALSE                      |-73.94325706  |BROOKLYN   |MULTI DWELL - PUBLIC HOUS  |90          |<18               |<18              |BLACK           |BLACK           |MALE        |FEMALE     |\n",
      "|2020-03-15    |20:39:00      |211066103       |40.85676552  |FALSE                      |-73.90035321  |BRONX      |NULL                       |46          |18-24             |18-24            |BLACK HISPANIC  |BLACK           |MALE        |FEMALE     |\n",
      "|2008-10-21    |17:15:00      |52409037        |40.76930609  |FALSE                      |-73.91550818  |QUEENS     |NULL                       |114         |25-44             |NULL             |WHITE           |BLACK HISPANIC  |MALE        |MALE       |\n",
      "|2021-06-28    |19:35:00      |230190941       |40.81300853  |TRUE                       |-73.95654577  |MANHATTAN  |MULTI DWELL - PUBLIC HOUS  |26          |25-44             |25-44            |BLACK           |BLACK           |MALE        |MALE       |\n",
      "|2011-02-04    |23:30:00      |77154071        |40.84627293  |FALSE                      |-73.88503558  |BRONX      |GROCERY/BODEGA             |48          |NULL              |<18              |BLACK HISPANIC  |NULL            |NULL        |MALE       |\n",
      "|2009-06-10    |23:55:00      |62663564        |40.8707175   |FALSE                      |-73.89189888  |BRONX      |NULL                       |52          |25-44             |25-44            |WHITE HISPANIC  |BLACK           |MALE        |MALE       |\n",
      "|2016-11-23    |1:15:00       |158731888       |40.65725616  |FALSE                      |-73.90658342  |BROOKLYN   |NULL                       |73          |NULL              |18-24            |BLACK           |NULL            |NULL        |FEMALE     |\n",
      "|2007-02-27    |3:50:00       |27105895        |40.70757964  |FALSE                      |-73.79673313  |QUEENS     |NULL                       |103         |18-24             |25-44            |BLACK           |BLACK           |MALE        |MALE       |\n",
      "|2008-04-23    |21:27:00      |45898006        |40.85170724  |FALSE                      |-73.91585693  |BRONX      |NULL                       |46          |18-24             |18-24            |WHITE HISPANIC  |BLACK           |MALE        |MALE       |\n",
      "|2020-08-03    |23:53:00      |216157963       |40.82883982  |FALSE                      |-73.9375265   |MANHATTAN  |NULL                       |32          |<18               |18-24            |BLACK           |BLACK           |MALE        |MALE       |\n",
      "--------------------------------------------------------------------------------------------------------------------------------------------------------------------------------------------------------------------------------------------------------------\n",
      "\n"
     ]
    }
   ],
   "source": [
    "shooting_data.show()"
   ]
  },
  {
   "cell_type": "markdown",
   "metadata": {},
   "source": [
    "## Uploading Processed Data to Snowflake (Silver Layer)"
   ]
  },
  {
   "cell_type": "code",
   "execution_count": 178,
   "metadata": {},
   "outputs": [],
   "source": [
    "# Uploading data to Silver Schema\n",
    "\n",
    "table_name = \"SAFEGUARDING_NYC_SCHEMA_SILVER.shooting_incidents\"\n",
    "shooting_data.write.saveAsTable(table_name, mode=\"overwrite\")"
   ]
  },
  {
   "cell_type": "code",
   "execution_count": 179,
   "metadata": {},
   "outputs": [],
   "source": [
    "table_name = \"SAFEGUARDING_NYC_SCHEMA_GOLD.shooting_incidents\"\n",
    "shooting_data.write.saveAsTable(table_name, mode=\"overwrite\")"
   ]
  }
 ],
 "metadata": {
  "kernelspec": {
   "display_name": "Python 3",
   "language": "python",
   "name": "python3"
  },
  "language_info": {
   "codemirror_mode": {
    "name": "ipython",
    "version": 3
   },
   "file_extension": ".py",
   "mimetype": "text/x-python",
   "name": "python",
   "nbconvert_exporter": "python",
   "pygments_lexer": "ipython3",
   "version": "3.10.12"
  }
 },
 "nbformat": 4,
 "nbformat_minor": 2
}

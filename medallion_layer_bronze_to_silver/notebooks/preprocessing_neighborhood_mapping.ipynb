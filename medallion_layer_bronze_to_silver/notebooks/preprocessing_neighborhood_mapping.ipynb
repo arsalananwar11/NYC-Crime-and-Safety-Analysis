{
 "cells": [
  {
   "cell_type": "markdown",
   "metadata": {},
   "source": [
    "## Imports"
   ]
  },
  {
   "cell_type": "code",
   "execution_count": 1,
   "metadata": {},
   "outputs": [],
   "source": [
    "import sys\n",
    "sys.path.append(\"..\")"
   ]
  },
  {
   "cell_type": "code",
   "execution_count": 2,
   "metadata": {},
   "outputs": [],
   "source": [
    "from snowflake.snowpark import Session\n",
    "from snowflake.snowpark.functions import when, col, count\n",
    "from datetime import date\n",
    "from helpers import SnowflakeHelper\n",
    "import json\n",
    "import os"
   ]
  },
  {
   "cell_type": "code",
   "execution_count": 3,
   "metadata": {},
   "outputs": [
    {
     "name": "stdout",
     "output_type": "stream",
     "text": [
      "[INFO] No schema passed, using default schema SAFEGUARDING_NYC_SCHEMA_BRONZE for the session\n",
      "[SUCCESS] Config file loaded successfully!\n",
      "[SUCCESS] Snowspark Session created successfully on schema SAFEGUARDING_NYC_SCHEMA_BRONZE!\n"
     ]
    }
   ],
   "source": [
    "snowflake_helper = SnowflakeHelper()\n",
    "snowflake_config = './../helpers/snowflake_config.json'\n",
    "session = snowflake_helper.create_snowpark_session(snowflake_config)\n",
    "session.use_schema(\"SAFEGUARDING_NYC_SCHEMA_BRONZE\")"
   ]
  },
  {
   "cell_type": "markdown",
   "metadata": {},
   "source": [
    "## Extracting Data"
   ]
  },
  {
   "cell_type": "code",
   "execution_count": 8,
   "metadata": {},
   "outputs": [],
   "source": [
    "NYPD_PRECINCTS_NEIGHBORHOODS = session.table('NYPD_PRECINCTS_NEIGHBORHOODS')"
   ]
  },
  {
   "cell_type": "code",
   "execution_count": 10,
   "metadata": {},
   "outputs": [
    {
     "name": "stdout",
     "output_type": "stream",
     "text": [
      "--------------------------------------------------------------------------------------------------------------------------------------------------------\n",
      "|\"_AIRBYTE_RAW_ID\"                     |\"_AIRBYTE_EXTRACTED_AT\"    |\"_AIRBYTE_META\"  |\"NEIGHBORHOODS\"                                     |\"PRECINCT\"  |\n",
      "--------------------------------------------------------------------------------------------------------------------------------------------------------\n",
      "|a92c4bf0-1ea7-4f81-b043-c90bdf4f5df2  |2023-12-06 23:26:35-08:00  |{                |World Trade Center/SOHO/Tribeca/Wall Street.        |1           |\n",
      "|                                      |                           |  \"errors\": []   |                                                    |            |\n",
      "|                                      |                           |}                |                                                    |            |\n",
      "|bfca2bd3-20c9-4337-9b6a-8bb677bccd2a  |2023-12-06 23:26:35-08:00  |{                |Chinatown/Little Italy                              |5           |\n",
      "|                                      |                           |  \"errors\": []   |                                                    |            |\n",
      "|                                      |                           |}                |                                                    |            |\n",
      "|d4e00374-eb51-4473-9e7d-a9f6c46926d3  |2023-12-06 23:26:35-08:00  |{                |Greenwich Village/West Village                      |6           |\n",
      "|                                      |                           |  \"errors\": []   |                                                    |            |\n",
      "|                                      |                           |}                |                                                    |            |\n",
      "|cd067f29-1e46-4664-bf82-31d0234b4dba  |2023-12-06 23:26:35-08:00  |{                |Williamsburg Bridge/Orchard Street                  |7           |\n",
      "|                                      |                           |  \"errors\": []   |                                                    |            |\n",
      "|                                      |                           |}                |                                                    |            |\n",
      "|450cdb2b-b70d-48f1-a8d5-5b84946bb5bf  |2023-12-06 23:26:35-08:00  |{                |East Village                                        |9           |\n",
      "|                                      |                           |  \"errors\": []   |                                                    |            |\n",
      "|                                      |                           |}                |                                                    |            |\n",
      "|193fc3d6-5282-4f1a-9703-38c976fd9b77  |2023-12-06 23:26:35-08:00  |{                |Chelsea, Clinton/Hell's Kitchen South/Hudson Yards  |10          |\n",
      "|                                      |                           |  \"errors\": []   |                                                    |            |\n",
      "|                                      |                           |}                |                                                    |            |\n",
      "|ebb9cab3-0db1-4e87-b793-83daca9228eb  |2023-12-06 23:26:35-08:00  |{                |Peter Cooper Village/Stuyvesant Town residentia...  |13          |\n",
      "|                                      |                           |  \"errors\": []   |                                                    |            |\n",
      "|                                      |                           |}                |                                                    |            |\n",
      "|43bea0ec-b5bb-44b1-9a59-4c3d8db0b98b  |2023-12-06 23:26:35-08:00  |{                |Sutton Area/Beekman Place/Kipps Bay/Turtle Bay/...  |17          |\n",
      "|                                      |                           |  \"errors\": []   |                                                    |            |\n",
      "|                                      |                           |}                |                                                    |            |\n",
      "|2fa2dc23-801b-41e1-8fe7-a23c0548eab7  |2023-12-06 23:26:35-08:00  |{                |Madison/Lexington/3rd Avenues                       |19          |\n",
      "|                                      |                           |  \"errors\": []   |                                                    |            |\n",
      "|                                      |                           |}                |                                                    |            |\n",
      "|b6ac4cb3-cadf-4836-9f6a-676dcd383f59  |2023-12-06 23:26:35-08:00  |{                |Lincoln Center for the Performing Arts/the Amer...  |20          |\n",
      "|                                      |                           |  \"errors\": []   |                                                    |            |\n",
      "|                                      |                           |}                |                                                    |            |\n",
      "--------------------------------------------------------------------------------------------------------------------------------------------------------\n",
      "\n"
     ]
    }
   ],
   "source": [
    "NYPD_PRECINCTS_NEIGHBORHOODS.show()"
   ]
  },
  {
   "cell_type": "markdown",
   "metadata": {},
   "source": [
    "## Pre-processing"
   ]
  },
  {
   "cell_type": "markdown",
   "metadata": {},
   "source": [
    "### Dropping non-important columns"
   ]
  },
  {
   "cell_type": "code",
   "execution_count": 12,
   "metadata": {},
   "outputs": [],
   "source": [
    "NYPD_PRECINCTS_NEIGHBORHOODS=NYPD_PRECINCTS_NEIGHBORHOODS.drop([\"_AIRBYTE_RAW_ID\", \"_AIRBYTE_EXTRACTED_AT\", \"_AIRBYTE_META\"])"
   ]
  },
  {
   "cell_type": "code",
   "execution_count": 13,
   "metadata": {},
   "outputs": [
    {
     "name": "stdout",
     "output_type": "stream",
     "text": [
      "-------------------------------------------------------------------\n",
      "|\"NEIGHBORHOODS\"                                     |\"PRECINCT\"  |\n",
      "-------------------------------------------------------------------\n",
      "|World Trade Center/SOHO/Tribeca/Wall Street.        |1           |\n",
      "|Chinatown/Little Italy                              |5           |\n",
      "|Greenwich Village/West Village                      |6           |\n",
      "|Williamsburg Bridge/Orchard Street                  |7           |\n",
      "|East Village                                        |9           |\n",
      "|Chelsea, Clinton/Hell's Kitchen South/Hudson Yards  |10          |\n",
      "|Peter Cooper Village/Stuyvesant Town residentia...  |13          |\n",
      "|Sutton Area/Beekman Place/Kipps Bay/Turtle Bay/...  |17          |\n",
      "|Madison/Lexington/3rd Avenues                       |19          |\n",
      "|Lincoln Center for the Performing Arts/the Amer...  |20          |\n",
      "-------------------------------------------------------------------\n",
      "\n"
     ]
    }
   ],
   "source": [
    "NYPD_PRECINCTS_NEIGHBORHOODS.show()"
   ]
  },
  {
   "cell_type": "markdown",
   "metadata": {},
   "source": [
    "## Exporting the processed data to Silver Medallion"
   ]
  },
  {
   "cell_type": "code",
   "execution_count": 25,
   "metadata": {},
   "outputs": [],
   "source": [
    "table_name = \"SAFEGUARDING_NYC_SCHEMA_SILVER.NYPD_PRECINCTS_NEIGHBORHOODS\"\n",
    "NYPD_PRECINCTS_NEIGHBORHOODS.write.saveAsTable(table_name, mode=\"overwrite\")"
   ]
  },
  {
   "cell_type": "code",
   "execution_count": null,
   "metadata": {},
   "outputs": [],
   "source": []
  }
 ],
 "metadata": {
  "kernelspec": {
   "display_name": "Python 3",
   "language": "python",
   "name": "python3"
  },
  "language_info": {
   "codemirror_mode": {
    "name": "ipython",
    "version": 3
   },
   "file_extension": ".py",
   "mimetype": "text/x-python",
   "name": "python",
   "nbconvert_exporter": "python",
   "pygments_lexer": "ipython3",
   "version": "3.11.5"
  }
 },
 "nbformat": 4,
 "nbformat_minor": 2
}

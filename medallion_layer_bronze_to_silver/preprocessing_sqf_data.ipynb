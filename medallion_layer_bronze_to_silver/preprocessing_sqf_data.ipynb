{
 "cells": [
  {
   "cell_type": "markdown",
   "metadata": {},
   "source": [
    "### Bronze to Silver Medallion Data Layer for Stop, Question and Frisk Data (2017-2022)\n",
    "\n",
    "We conduct the following transformations and cleaning to get to the Silver Medallion Layer\n",
    "- Borough mapping for consistency (ex: PBMN and PBMS both map to Manhattan, Staten Is and Staten Island both map to Staten Island)\n",
    "- Race mapping for consistency (ex: ASIAN/PAC.ISL and ASIAN/PACIFIC ISLANDER map to the same entity)\n",
    "- Null value mapping (ex: Null values represented in different formats like (null), Nan, NULL, etc.)\n",
    "- Getting column values into a consistent format (ex: 2017.00 to 2017)\n",
    "- Dropping irrelevant columns for the analysis and those columns with very high percentages of missing values\n",
    "- Date preprocessing (ex: Stop Frisk Date has two different data representations: 2/5/2020 and 2021-07-29)"
   ]
  },
  {
   "cell_type": "code",
   "execution_count": 1,
   "metadata": {},
   "outputs": [],
   "source": [
    "import sys\n",
    "sys.path.append(\"..\")"
   ]
  },
  {
   "cell_type": "code",
   "execution_count": 2,
   "metadata": {},
   "outputs": [],
   "source": [
    "from snowflake.snowpark import Session\n",
    "import snowflake.snowpark.functions as F\n",
    "from snowflake.snowpark.functions import when, col, sum, concat, lit\n",
    "from snowflake.snowpark.functions import expr, regexp_extract, to_date\n",
    "from datetime import date\n",
    "from helpers import SnowflakeHelper\n",
    "import json\n",
    "import os\n",
    "import matplotlib.pyplot as plt\n",
    "import pandas as pd"
   ]
  },
  {
   "cell_type": "code",
   "execution_count": 3,
   "metadata": {},
   "outputs": [],
   "source": [
    "borough_mapping = {\n",
    "    \"PBBX\": \"BRONX\", \n",
    "    \"PBSI\": \"STATEN ISLAND\", \n",
    "    \"PBMN\": \"MANHATTAN\", \n",
    "    \"PBMS\": \"MANHATTAN\",\n",
    "    \"PBBN\": \"BROOKLYN\", \n",
    "    \"PBBS\": \"BROOKLYN\", \n",
    "    \"PBQS\": \"QUEENS\", \n",
    "    \"PBQN\": \"QUEENS\",\n",
    "    \"STATEN IS\": \"STATEN ISLAND\"\n",
    "}\n",
    "\n",
    "null_value_mapping = {\n",
    "    \"(null)\" : None,\n",
    "    \"NaN\" : None,\n",
    "    \"(\" : None,\n",
    "    \"NULL\": None,\n",
    "    \"(nu\": None\n",
    "}\n",
    "\n",
    "race_mapping = {\n",
    "    \"ASIAN / PACIFIC ISLANDER\": \"ASIAN/PACIFIC ISLANDER\",\n",
    "    \"ASIAN/PAC.ISL\": \"ASIAN/PACIFIC ISLANDER\",\n",
    "    \"AMER IND\": \"AMERICAN INDIAN/ALASKAN NATIVE\",\n",
    "    \"AMERICAN INDIAN/ALASKAN N\": \"AMERICAN INDIAN/ALASKAN NATIVE\",\n",
    "    \"MIDDLE EASTERN/SOUTHWEST\": \"MIDDLE EASTERN/SOUTHWEST ASIAN\"\n",
    "}\n",
    "\n",
    "gender_mapping = {\n",
    "    \"M\": \"MALE\",\n",
    "    \"F\": \"FEMALE\"\n",
    "}"
   ]
  },
  {
   "cell_type": "code",
   "execution_count": 4,
   "metadata": {},
   "outputs": [
    {
     "name": "stdout",
     "output_type": "stream",
     "text": [
      "[INFO] No schema passed, using default schema SAFEGUARDING_NYC_SCHEMA_BRONZE for the session\n",
      "[SUCCESS] Config file loaded successfully!\n",
      "[SUCCESS] Snowspark Session created successfully on schema SAFEGUARDING_NYC_SCHEMA_BRONZE!\n"
     ]
    }
   ],
   "source": [
    "snowflake_helper = SnowflakeHelper()\n",
    "snowflake_config = './../helpers/snowflake_config.json'\n",
    "session = snowflake_helper.create_snowpark_session(snowflake_config)"
   ]
  },
  {
   "cell_type": "code",
   "execution_count": 5,
   "metadata": {},
   "outputs": [],
   "source": [
    "sqf_data = session.table('SQF')"
   ]
  },
  {
   "cell_type": "code",
   "execution_count": 6,
   "metadata": {},
   "outputs": [
    {
     "name": "stdout",
     "output_type": "stream",
     "text": [
      "----------------------------------------------------------------------------------------------------------------------------------------------------------------------------------------------------------------------------------------------------------------------------------------------------------------------------------------------------------------------------------------------------------------------------------------------------------------------------------------------------------------------------------------------------------------------------------------------------------------------------------------------------------------------------------------------------------------------------------------------------------------------------------------------------------------------------------------------------------------------------------------------------------------------------------------------------------------------------------------------------------------------------------------------------------------------------------------------------------------------------------------------------------------------------------------------------------------------------------------------------------------------------------------------------------------------------------------------------------------------------------------------------------------------------------------------------------------------------------------------------------------------------------------------------------------------------------------------------------------------------------------------------------------------------------------------------------------------------------------------------------------------------------------------------------------------------------------------------------------------------------------------------------------------------------------------------------------------------------------------------------------------------------------------------------------------------------------------------------------------------------------------------------------------------------------------------------------------------------------------------------------------------------------------------------------------------------------------------------------------------------------------------------------------------------------------------------------------------------------------------------------------------------------------------------------------------------------------------------------\n",
      "|\"_AIRBYTE_RAW_ID\"                     |\"_AIRBYTE_EXTRACTED_AT\"    |\"_AIRBYTE_META\"  |\"PHYSICAL_FORCE_OC_SPRAY_USED_FLAG\"  |\"SEARCH_BASIS_HARD_OBJECT_FLAG\"  |\"STOP_LOCATION_ZIP_CODE\"  |\"SUSPECT_WEIGHT\"  |\"STOP_LOCATION_SECTOR_CODE\"  |\"ID_CARD_IDENTIFIES_OFFICER_FLAG\"  |\"OFFICER_NOT_EXPLAINED_STOP_DESCRIPTION\"  |\"SUSPECTS_ACTIONS_CASING_FLAG\"  |\"OTHER_WEAPON_FLAG\"  |\"SUMMONS_ISSUED_FLAG\"  |\"PHYSICAL_FORCE_WEAPON_IMPACT_FLAG\"  |\"YEAR2\"  |\"STOP_LOCATION_STREET_NAME\"  |\"STOP_DURATION_MINUTES\"  |\"VERBAL_IDENTIFIES_OFFICER_FLAG\"  |\"STOP_FRISK_DATE\"  |\"PHYSICAL_FORCE_OTHER_FLAG\"  |\"SUSPECT_SEX\"  |\"ASK_FOR_CONSENT_FLG\"  |\"SUMMONS_OFFENSE_DESCRIPTION\"  |\"STOP_LOCATION_PATROL_BORO_NAME\"  |\"SEARCH_BASIS_ADMISSION_FLAG\"  |\"SEARCH_BASIS_OTHER_FLAG\"  |\"SEARCH_BASIS_CONSENT_FLAG\"  |\"STOP_LOCATION_X\"  |\"SUSPECTS_ACTIONS_CONCEALED_POSSESSION_WEAPON_F...  |\"SUSPECTS_ACTIONS_OTHER_FLAG\"  |\"PHYSICAL_FORCE_CEW_FLAG\"  |\"STOP_LOCATION_Y\"  |\"DAY2\"     |\"FIREARM_FLAG\"  |\"WEAPON_FOUND_FLAG\"  |\"BACKROUND_CIRCUMSTANCES_SUSPECT_KNOWN_TO_CARRY...  |\"MONTH2\"  |\"SEARCH_BASIS_INCIDENTAL_TO_ARREST_FLAG\"  |\"SUSPECTS_ACTIONS_DRUG_TRANSACTIONS_FLAG\"  |\"BACKROUND_CIRCUMSTANCES_VIOLENT_CRIME_FLAG\"  |\"STOP_LOCATION_BORO_NAME\"  |\"FRISKED_FLAG\"  |\"SUSPECT_HAIR_COLOR\"  |\"SUSPECT_ARREST_OFFENSE\"  |\"RECORD_STATUS_CODE\"  |\"OFFICER_IN_UNIFORM_FLAG\"  |\"PHYSICAL_FORCE_RESTRAINT_USED_FLAG\"  |\"STOP_LOCATION_APARTMENT\"  |\"PHYSICAL_FORCE_HANDCUFF_SUSPECT_FLAG\"  |\"OTHER_PERSON_STOPPED_FLAG\"  |\"SUSPECTS_ACTIONS_PROXIMITY_TO_SCENE_FLAG\"  |\"JURISDICTION_CODE\"  |\"SEARCHED_FLAG\"  |\"SUSPECTED_CRIME_DESCRIPTION\"  |\"SUSPECT_HEIGHT\"  |\"SUSPECTS_ACTIONS_DECRIPTION_FLAG\"  |\"KNIFE_CUTTER_FLAG\"  |\"SUPERVISING_OFFICER_RANK\"  |\"STOP_LOCATION_FULL_ADDRESS\"  |\"OTHER_CONTRABAND_FLAG\"  |\"SUSPECT_BODY_BUILD_TYPE\"  |\"PHYSICAL_FORCE_DRAW_POINT_FIREARM_FLAG\"  |\"DEMEANOR_OF_PERSON_STOPPED\"  |\"SUSPECT_ARRESTED_FLAG\"  |\"SUSPECT_RACE_DESCRIPTION\"  |\"DEMEANOR_CODE\"  |\"SUSPECT_REPORTED_AGE\"  |\"SUPERVISING_OFFICER_COMMAND_CODE\"  |\"STOP_ID_ANONY\"  |\"SUSPECT_EYE_COLOR\"  |\"ISSUING_OFFICER_COMMAND_CODE\"  |\"STOP_FRISK_TIME\"  |\"OBSERVED_DURATION_MINUTES\"  |\"CONSENT_GIVEN_FLG\"  |\"STOP_WAS_INITIATED\"   |\"LOCATION_IN_OUT_CODE\"  |\"SEARCH_BASIS_OUTLINE_FLAG\"  |\"SHIELD_IDENTIFIES_OFFICER_FLAG\"  |\"ISSUING_OFFICER_RANK\"  |\"JURISDICTION_DESCRIPTION\"  |\"OFFICER_EXPLAINED_STOP_FLAG\"  |\"PHYSICAL_FORCE_VERBAL_INSTRUCTION_FLAG\"  |\"STOP_LOCATION_PRECINCT\"  |\"SUSPECT_OTHER_DESCRIPTION\"    |\"SUSPECTS_ACTIONS_IDENTIFY_CRIME_PATTERN_FLAG\"  |\"SUSPECTS_ACTIONS_LOOKOUT_FLAG\"  |\n",
      "----------------------------------------------------------------------------------------------------------------------------------------------------------------------------------------------------------------------------------------------------------------------------------------------------------------------------------------------------------------------------------------------------------------------------------------------------------------------------------------------------------------------------------------------------------------------------------------------------------------------------------------------------------------------------------------------------------------------------------------------------------------------------------------------------------------------------------------------------------------------------------------------------------------------------------------------------------------------------------------------------------------------------------------------------------------------------------------------------------------------------------------------------------------------------------------------------------------------------------------------------------------------------------------------------------------------------------------------------------------------------------------------------------------------------------------------------------------------------------------------------------------------------------------------------------------------------------------------------------------------------------------------------------------------------------------------------------------------------------------------------------------------------------------------------------------------------------------------------------------------------------------------------------------------------------------------------------------------------------------------------------------------------------------------------------------------------------------------------------------------------------------------------------------------------------------------------------------------------------------------------------------------------------------------------------------------------------------------------------------------------------------------------------------------------------------------------------------------------------------------------------------------------------------------------------------------------------------------------------------\n",
      "|c6ff09d2-7328-471f-852e-85527e853b81  |2023-12-02 23:25:36-08:00  |{                |(null)                               |(null)                           |11368                     |160               |D                            |(null)                             |(null)                                    |(null)                          |(null)               |N                      |(null)                               |2020     |SEAVER WAY                   |7                        |(null)                            |6/19/2020          |(null)                       |MALE           |N                      |(null)                         |PBQN                              |(null)                         |(null)                     |(null)                       |1027679            |(null)                                              |(null)                         |(null)                     |214505             |Friday     |(null)          |N                    |(null)                                              |June      |Y                                         |(null)                                     |(null)                                        |QUEENS                     |N               |BRO                   |ROBBERY                   |APP                   |Y                          |(null)                                |(null)                     |(null)                                  |Y                            |Y                                           |P                    |Y                |ROBBERY                        |5.11              |Y                                   |(null)               |SGT                         |SEAVER WAY && ROOSEVELT AVE   |N                        |THN                        |(null)                                    |CALM                          |Y                        |WHITE HISPANIC              |CM               |40                      |109                                 |NULL             |BRO                  |110                             |17:24:00           |1                            |N                    |Based on Radio Run     |O                       |(null)                       |(null)                            |POM                     |PSB                         |Y                              |Y                                         |110                       |GREY SHIRT KHAKI PANTS DARK B  |(null)                                          |(null)                           |\n",
      "|                                      |                           |  \"errors\": []   |                                     |                                 |                          |                  |                             |                                   |                                          |                                |                     |                       |                                     |         |                             |                         |                                  |                   |                             |               |                       |                               |                                  |                               |                           |                             |                   |                                                    |                               |                           |                   |           |                |                     |                                                    |          |                                          |                                           |                                              |                           |                |                      |                          |                      |                           |                                      |                           |                                        |                             |                                            |                     |                 |                               |                  |                                    |                     |                            |                              |                         |                           |                                          |                              |                         |                            |                 |                        |                                    |                 |                     |                                |                   |                             |                     |                       |                        |                             |                                  |                        |                            |                               |                                          |                          |                               |                                                |                                 |\n",
      "|                                      |                           |}                |                                     |                                 |                          |                  |                             |                                   |                                          |                                |                     |                       |                                     |         |                             |                         |                                  |                   |                             |               |                       |                               |                                  |                               |                           |                             |                   |                                                    |                               |                           |                   |           |                |                     |                                                    |          |                                          |                                           |                                              |                           |                |                      |                          |                      |                           |                                      |                           |                                        |                             |                                            |                     |                 |                               |                  |                                    |                     |                            |                              |                         |                           |                                          |                              |                         |                            |                 |                        |                                    |                 |                     |                                |                   |                             |                     |                       |                        |                             |                                  |                        |                            |                               |                                          |                          |                               |                                                |                                 |\n",
      "|37a68ada-e004-4f69-98fe-91b9b4e99557  |2023-12-02 23:25:36-08:00  |{                |(null)                               |(null)                           |10128                     |110               |D                            |(null)                             |(null)                                    |(null)                          |(null)               |N                      |(null)                               |2020     |1 AVE                        |33                       |(null)                            |6/7/2020           |(null)                       |FEMALE         |Y                      |(null)                         |PBMN                              |(null)                         |(null)                     |Y                            |999396             |(null)                                              |(null)                         |(null)                     |224456             |Sunday     |(null)          |N                    |(null)                                              |June      |(null)                                    |(null)                                     |(null)                                        |MANHATTAN                  |N               |RED                   |(null)                    |APP                   |Y                          |(null)                                |(null)                     |Y                                       |N                            |Y                                           |P                    |Y                |PETIT LARCENY                  |5.3               |Y                                   |(null)               |SGT                         |1841 1 AVE                    |N                        |THN                        |(null)                                    |NOT ABLE TO SIT STILL         |N                        |WHITE                       |CM               |NULL                    |19                                  |NULL             |BRO                  |19                              |11:50:00           |1                            |Y                    |Based on Radio Run     |O                       |(null)                       |(null)                            |POM                     |PSB                         |Y                              |(                                         |19                        |ORANGE SHIRT                   |(null)                                          |(null)                           |\n",
      "|                                      |                           |  \"errors\": []   |                                     |                                 |                          |                  |                             |                                   |                                          |                                |                     |                       |                                     |         |                             |                         |                                  |                   |                             |               |                       |                               |                                  |                               |                           |                             |                   |                                                    |                               |                           |                   |           |                |                     |                                                    |          |                                          |                                           |                                              |                           |                |                      |                          |                      |                           |                                      |                           |                                        |                             |                                            |                     |                 |                               |                  |                                    |                     |                            |                              |                         |                           |                                          |                              |                         |                            |                 |                        |                                    |                 |                     |                                |                   |                             |                     |                       |                        |                             |                                  |                        |                            |                               |                                          |                          |                               |                                                |                                 |\n",
      "|                                      |                           |}                |                                     |                                 |                          |                  |                             |                                   |                                          |                                |                     |                       |                                     |         |                             |                         |                                  |                   |                             |               |                       |                               |                                  |                               |                           |                             |                   |                                                    |                               |                           |                   |           |                |                     |                                                    |          |                                          |                                           |                                              |                           |                |                      |                          |                      |                           |                                      |                           |                                        |                             |                                            |                     |                 |                               |                  |                                    |                     |                            |                              |                         |                           |                                          |                              |                         |                            |                 |                        |                                    |                 |                     |                                |                   |                             |                     |                       |                        |                             |                                  |                        |                            |                               |                                          |                          |                               |                                                |                                 |\n",
      "|c779ee02-a588-4995-ae88-5ea23c6e945d  |2023-12-02 23:25:36-08:00  |{                |(null)                               |(null)                           |11235                     |130               |D                            |(null)                             |(null)                                    |(null)                          |(null)               |N                      |(null)                               |2020     |SHORE PKWY                   |14                       |(null)                            |6/15/2020          |(null)                       |MALE           |N                      |(null)                         |PBBS                              |(null)                         |(null)                     |(null)                       |1003694            |(null)                                              |(null)                         |(null)                     |152650             |Monday     |(null)          |N                    |(null)                                              |June      |(null)                                    |(null)                                     |(null)                                        |BROOKLYN                   |N               |BLK                   |(null)                    |APP                   |Y                          |(null)                                |(null)                     |(null)                                  |N                            |Y                                           |P                    |N                |OTHER                          |5.7               |Y                                   |(null)               |SGT                         |SHORE PKWY && KNAPP ST        |N                        |THN                        |(null)                                    |NERVOUS, LOOKING AROUND.      |N                        |MIDDLE EASTERN/SOUTHWEST    |CM               |17                      |412                                 |NULL             |BLK                  |412                             |1:09:00            |0                            |N                    |Based on C/W on Scene  |O                       |(null)                       |(null)                            |POM                     |PSB                         |Y                              |Y                                         |61                        |N/A                            |(null)                                          |(null)                           |\n",
      "|                                      |                           |  \"errors\": []   |                                     |                                 |                          |                  |                             |                                   |                                          |                                |                     |                       |                                     |         |                             |                         |                                  |                   |                             |               |                       |                               |                                  |                               |                           |                             |                   |                                                    |                               |                           |                   |           |                |                     |                                                    |          |                                          |                                           |                                              |                           |                |                      |                          |                      |                           |                                      |                           |                                        |                             |                                            |                     |                 |                               |                  |                                    |                     |                            |                              |                         |                           |                                          |                              |                         |                            |                 |                        |                                    |                 |                     |                                |                   |                             |                     |                       |                        |                             |                                  |                        |                            |                               |                                          |                          |                               |                                                |                                 |\n",
      "|                                      |                           |}                |                                     |                                 |                          |                  |                             |                                   |                                          |                                |                     |                       |                                     |         |                             |                         |                                  |                   |                             |               |                       |                               |                                  |                               |                           |                             |                   |                                                    |                               |                           |                   |           |                |                     |                                                    |          |                                          |                                           |                                              |                           |                |                      |                          |                      |                           |                                      |                           |                                        |                             |                                            |                     |                 |                               |                  |                                    |                     |                            |                              |                         |                           |                                          |                              |                         |                            |                 |                        |                                    |                 |                     |                                |                   |                             |                     |                       |                        |                             |                                  |                        |                            |                               |                                          |                          |                               |                                                |                                 |\n",
      "|d3cedd3c-3f8f-4f7e-a37a-5ba4fa0dc840  |2023-12-02 23:25:36-08:00  |{                |(null)                               |(null)                           |10011                     |170               |B                            |(null)                             |(null)                                    |(null)                          |(null)               |N                      |(null)                               |2020     |W 13 ST                      |22                       |(null)                            |6/19/2020          |(null)                       |MALE           |Y                      |(null)                         |PBMS                              |(null)                         |(null)                     |(null)                       |984603             |(null)                                              |(null)                         |(null)                     |207840             |Friday     |(null)          |N                    |(null)                                              |June      |(null)                                    |(null)                                     |(null)                                        |MANHATTAN                  |N               |BLK                   |(null)                    |APP                   |Y                          |(null)                                |(null)                     |(null)                                  |N                            |Y                                           |(null)               |N                |PETIT LARCENY                  |6                 |Y                                   |(null)               |SSA                         |130 W 13 ST                   |N                        |THN                        |(null)                                    |COMPLIANT                     |N                        |WHITE HISPANIC              |CM               |42                      |6                                   |NULL             |BLK                  |6                               |22:20:00           |1                            |Y                    |Based on Radio Run     |(null)                  |(null)                       |(null)                            |POM                     |(null)                      |Y                              |Y                                         |6                         |GREEN LEOTARD  BLACK SHORTS R  |(null)                                          |(null)                           |\n",
      "|                                      |                           |  \"errors\": []   |                                     |                                 |                          |                  |                             |                                   |                                          |                                |                     |                       |                                     |         |                             |                         |                                  |                   |                             |               |                       |                               |                                  |                               |                           |                             |                   |                                                    |                               |                           |                   |           |                |                     |                                                    |          |                                          |                                           |                                              |                           |                |                      |                          |                      |                           |                                      |                           |                                        |                             |                                            |                     |                 |                               |                  |                                    |                     |                            |                              |                         |                           |                                          |                              |                         |                            |                 |                        |                                    |                 |                     |                                |                   |                             |                     |                       |                        |                             |                                  |                        |                            |                               |                                          |                          |                               |                                                |                                 |\n",
      "|                                      |                           |}                |                                     |                                 |                          |                  |                             |                                   |                                          |                                |                     |                       |                                     |         |                             |                         |                                  |                   |                             |               |                       |                               |                                  |                               |                           |                             |                   |                                                    |                               |                           |                   |           |                |                     |                                                    |          |                                          |                                           |                                              |                           |                |                      |                          |                      |                           |                                      |                           |                                        |                             |                                            |                     |                 |                               |                  |                                    |                     |                            |                              |                         |                           |                                          |                              |                         |                            |                 |                        |                                    |                 |                     |                                |                   |                             |                     |                       |                        |                             |                                  |                        |                            |                               |                                          |                          |                               |                                                |                                 |\n",
      "|c813f0f8-9b49-496d-a9a9-40caf9c99672  |2023-12-02 23:25:36-08:00  |{                |(null)                               |(null)                           |10035                     |140               |C                            |(null)                             |(null)                                    |(null)                          |(null)               |N                      |(null)                               |2020     |E 128 ST                     |3                        |(null)                            |6/15/2020          |(null)                       |MALE           |N                      |(null)                         |PBMN                              |(null)                         |(null)                     |(null)                       |1001515            |(null)                                              |(null)                         |(null)                     |233286             |Monday     |(null)          |N                    |(null)                                              |June      |(null)                                    |(null)                                     |Y                                             |MANHATTAN                  |Y               |BLK                   |(null)                    |APP                   |Y                          |(null)                                |(null)                     |(null)                                  |N                            |(                                           |P                    |N                |ROBBERY                        |5.1               |Y                                   |(null)               |SGT                         |E 128 ST && PARK AVE          |N                        |THN                        |(null)                                    |NERVOUS                       |N                        |BLACK HISPANIC              |CM               |30                      |25                                  |NULL             |BRO                  |25                              |4:05:00            |1                            |N                    |Based on Radio Run     |(null)                  |(null)                       |(null)                            |POF                     |PSB                         |Y                              |Y                                         |25                        |(null)                         |(null)                                          |(null)                           |\n",
      "|                                      |                           |  \"errors\": []   |                                     |                                 |                          |                  |                             |                                   |                                          |                                |                     |                       |                                     |         |                             |                         |                                  |                   |                             |               |                       |                               |                                  |                               |                           |                             |                   |                                                    |                               |                           |                   |           |                |                     |                                                    |          |                                          |                                           |                                              |                           |                |                      |                          |                      |                           |                                      |                           |                                        |                             |                                            |                     |                 |                               |                  |                                    |                     |                            |                              |                         |                           |                                          |                              |                         |                            |                 |                        |                                    |                 |                     |                                |                   |                             |                     |                       |                        |                             |                                  |                        |                            |                               |                                          |                          |                               |                                                |                                 |\n",
      "|                                      |                           |}                |                                     |                                 |                          |                  |                             |                                   |                                          |                                |                     |                       |                                     |         |                             |                         |                                  |                   |                             |               |                       |                               |                                  |                               |                           |                             |                   |                                                    |                               |                           |                   |           |                |                     |                                                    |          |                                          |                                           |                                              |                           |                |                      |                          |                      |                           |                                      |                           |                                        |                             |                                            |                     |                 |                               |                  |                                    |                     |                            |                              |                         |                           |                                          |                              |                         |                            |                 |                        |                                    |                 |                     |                                |                   |                             |                     |                       |                        |                             |                                  |                        |                            |                               |                                          |                          |                               |                                                |                                 |\n",
      "|e93b8a27-ae4b-4b19-a6d1-f6b6f856dd97  |2023-12-02 23:27:02-08:00  |{                |(null)                               |(null)                           |11238                     |110               |A                            |(null)                             |(null)                                    |Y                               |(null)               |N                      |(null)                               |2020     |FULTON ST                    |10                       |(null)                            |6/3/2020           |(null)                       |FEMALE         |N                      |(null)                         |PBBN                              |(null)                         |(null)                     |(null)                       |994019             |(null)                                              |Y                              |(null)                     |188128             |Wednesday  |(null)          |N                    |(null)                                              |June      |Y                                         |(null)                                     |(null)                                        |BROOKLYN                   |N               |BRO                   |(null)                    |APP                   |Y                          |(null)                                |(null)                     |Y                                       |N                            |Y                                           |P                    |Y                |PETIT LARCENY                  |5.4               |Y                                   |(null)               |SGT                         |FULTON ST && WASHINGTON AVE   |N                        |THN                        |(null)                                    |APOLOGETIC                    |N                        |WHITE HISPANIC              |SA               |51                      |88                                  |NULL             |BRO                  |88                              |11:30:00           |1                            |N                    |Based on C/W on Scene  |(null)                  |(null)                       |(null)                            |POM                     |PSB                         |Y                              |Y                                         |88                        |(null)                         |(null)                                          |(null)                           |\n",
      "|                                      |                           |  \"errors\": []   |                                     |                                 |                          |                  |                             |                                   |                                          |                                |                     |                       |                                     |         |                             |                         |                                  |                   |                             |               |                       |                               |                                  |                               |                           |                             |                   |                                                    |                               |                           |                   |           |                |                     |                                                    |          |                                          |                                           |                                              |                           |                |                      |                          |                      |                           |                                      |                           |                                        |                             |                                            |                     |                 |                               |                  |                                    |                     |                            |                              |                         |                           |                                          |                              |                         |                            |                 |                        |                                    |                 |                     |                                |                   |                             |                     |                       |                        |                             |                                  |                        |                            |                               |                                          |                          |                               |                                                |                                 |\n",
      "|                                      |                           |}                |                                     |                                 |                          |                  |                             |                                   |                                          |                                |                     |                       |                                     |         |                             |                         |                                  |                   |                             |               |                       |                               |                                  |                               |                           |                             |                   |                                                    |                               |                           |                   |           |                |                     |                                                    |          |                                          |                                           |                                              |                           |                |                      |                          |                      |                           |                                      |                           |                                        |                             |                                            |                     |                 |                               |                  |                                    |                     |                            |                              |                         |                           |                                          |                              |                         |                            |                 |                        |                                    |                 |                     |                                |                   |                             |                     |                       |                        |                             |                                  |                        |                            |                               |                                          |                          |                               |                                                |                                 |\n",
      "|bc7ff296-fd5f-4797-9908-02b6944e6a99  |2023-12-02 23:27:02-08:00  |{                |(null)                               |(null)                           |10035                     |165               |B                            |(null)                             |(null)                                    |(null)                          |(null)               |N                      |(null)                               |2020     |E 125 ST                     |5                        |(null)                            |6/21/2020          |(null)                       |MALE           |N                      |(null)                         |PBMN                              |(null)                         |(null)                     |(null)                       |1001575            |(null)                                              |(null)                         |(null)                     |232339             |Sunday     |(null)          |N                    |(null)                                              |June      |(null)                                    |(null)                                     |(null)                                        |MANHATTAN                  |N               |BLK                   |(null)                    |APP                   |Y                          |(null)                                |(null)                     |(null)                                  |N                            |(                                           |(null)               |N                |ASSAULT                        |5.7               |Y                                   |(null)               |SGT                         |E 125 ST && LEXINGTON AVE     |N                        |THN                        |(null)                                    |#N/A                          |N                        |WHITE HISPANIC              |CM               |25                      |25                                  |NULL             |BRO                  |25                              |0:42:00            |5                            |N                    |Based on C/W on Scene  |(null)                  |(null)                       |(null)                            |POM                     |(null)                      |Y                              |Y                                         |25                        |(null)                         |(null)                                          |(null)                           |\n",
      "|                                      |                           |  \"errors\": []   |                                     |                                 |                          |                  |                             |                                   |                                          |                                |                     |                       |                                     |         |                             |                         |                                  |                   |                             |               |                       |                               |                                  |                               |                           |                             |                   |                                                    |                               |                           |                   |           |                |                     |                                                    |          |                                          |                                           |                                              |                           |                |                      |                          |                      |                           |                                      |                           |                                        |                             |                                            |                     |                 |                               |                  |                                    |                     |                            |                              |                         |                           |                                          |                              |                         |                            |                 |                        |                                    |                 |                     |                                |                   |                             |                     |                       |                        |                             |                                  |                        |                            |                               |                                          |                          |                               |                                                |                                 |\n",
      "|                                      |                           |}                |                                     |                                 |                          |                  |                             |                                   |                                          |                                |                     |                       |                                     |         |                             |                         |                                  |                   |                             |               |                       |                               |                                  |                               |                           |                             |                   |                                                    |                               |                           |                   |           |                |                     |                                                    |          |                                          |                                           |                                              |                           |                |                      |                          |                      |                           |                                      |                           |                                        |                             |                                            |                     |                 |                               |                  |                                    |                     |                            |                              |                         |                           |                                          |                              |                         |                            |                 |                        |                                    |                 |                     |                                |                   |                             |                     |                       |                        |                             |                                  |                        |                            |                               |                                          |                          |                               |                                                |                                 |\n",
      "|4eec5dbe-50fa-4158-995b-5f7efa00ac0d  |2023-12-02 23:27:02-08:00  |{                |(null)                               |(null)                           |10456                     |NULL              |A                            |(null)                             |(null)                                    |(null)                          |(null)               |N                      |(null)                               |2020     |WASHINGTON AVE               |10                       |(null)                            |6/14/2020          |(null)                       |MALE           |N                      |(null)                         |PBBX                              |(null)                         |(null)                     |(null)                       |1010168            |(null)                                              |(null)                         |(null)                     |243011             |Sunday     |(null)          |N                    |(null)                                              |June      |(null)                                    |(null)                                     |Y                                             |BRONX                      |Y               |BLK                   |(null)                    |APP                   |Y                          |(null)                                |(null)                     |(null)                                  |N                            |(                                           |H                    |N                |OTHER                          |NULL              |Y                                   |(null)               |SGT                         |1309 WASHINGTON AVE           |N                        |MED                        |(null)                                    |UPSET                         |N                        |BLACK                       |CM               |NULL                    |807                                 |NULL             |BRO                  |807                             |18:38:00           |3                            |N                    |Based on C/W on Scene  |O                       |(null)                       |(null)                            |POM                     |Housin                      |Y                              |Y                                         |42                        |NEON GREEN SWEATER             |(null)                                          |(null)                           |\n",
      "|                                      |                           |  \"errors\": []   |                                     |                                 |                          |                  |                             |                                   |                                          |                                |                     |                       |                                     |         |                             |                         |                                  |                   |                             |               |                       |                               |                                  |                               |                           |                             |                   |                                                    |                               |                           |                   |           |                |                     |                                                    |          |                                          |                                           |                                              |                           |                |                      |                          |                      |                           |                                      |                           |                                        |                             |                                            |                     |                 |                               |                  |                                    |                     |                            |                              |                         |                           |                                          |                              |                         |                            |                 |                        |                                    |                 |                     |                                |                   |                             |                     |                       |                        |                             |                                  |                        |                            |                               |                                          |                          |                               |                                                |                                 |\n",
      "|                                      |                           |}                |                                     |                                 |                          |                  |                             |                                   |                                          |                                |                     |                       |                                     |         |                             |                         |                                  |                   |                             |               |                       |                               |                                  |                               |                           |                             |                   |                                                    |                               |                           |                   |           |                |                     |                                                    |          |                                          |                                           |                                              |                           |                |                      |                          |                      |                           |                                      |                           |                                        |                             |                                            |                     |                 |                               |                  |                                    |                     |                            |                              |                         |                           |                                          |                              |                         |                            |                 |                        |                                    |                 |                     |                                |                   |                             |                     |                       |                        |                             |                                  |                        |                            |                               |                                          |                          |                               |                                                |                                 |\n",
      "|1d3d2719-a3b7-4806-8b64-c30f77f2ef97  |2023-12-02 23:27:02-08:00  |{                |(null)                               |(null)                           |11224                     |170               |C                            |(null)                             |(null)                                    |(null)                          |(null)               |N                      |(null)                               |2020     |MERMAID AVE                  |7                        |(null)                            |6/15/2020          |(null)                       |(null)         |Y                      |(null)                         |PBBS                              |(null)                         |(null)                     |(null)                       |988480             |(null)                                              |(null)                         |(null)                     |149357             |Monday     |(null)          |N                    |(null)                                              |June      |(null)                                    |(null)                                     |(null)                                        |BROOKLYN                   |N               |BLK                   |(null)                    |APP                   |Y                          |(null)                                |(null)                     |(null)                                  |N                            |(                                           |(null)               |N                |BURGLARY                       |6.4               |Y                                   |(null)               |SGT                         |MERMAID AVE && W 17 ST        |N                        |THN                        |(null)                                    |UPSET                         |N                        |BLACK                       |CM               |NULL                    |60                                  |NULL             |BRO                  |60                              |4:30:00            |1                            |Y                    |Based on Radio Run     |(null)                  |(null)                       |(null)                            |POM                     |(null)                      |Y                              |Y                                         |60                        |(null)                         |(null)                                          |(null)                           |\n",
      "|                                      |                           |  \"errors\": []   |                                     |                                 |                          |                  |                             |                                   |                                          |                                |                     |                       |                                     |         |                             |                         |                                  |                   |                             |               |                       |                               |                                  |                               |                           |                             |                   |                                                    |                               |                           |                   |           |                |                     |                                                    |          |                                          |                                           |                                              |                           |                |                      |                          |                      |                           |                                      |                           |                                        |                             |                                            |                     |                 |                               |                  |                                    |                     |                            |                              |                         |                           |                                          |                              |                         |                            |                 |                        |                                    |                 |                     |                                |                   |                             |                     |                       |                        |                             |                                  |                        |                            |                               |                                          |                          |                               |                                                |                                 |\n",
      "|                                      |                           |}                |                                     |                                 |                          |                  |                             |                                   |                                          |                                |                     |                       |                                     |         |                             |                         |                                  |                   |                             |               |                       |                               |                                  |                               |                           |                             |                   |                                                    |                               |                           |                   |           |                |                     |                                                    |          |                                          |                                           |                                              |                           |                |                      |                          |                      |                           |                                      |                           |                                        |                             |                                            |                     |                 |                               |                  |                                    |                     |                            |                              |                         |                           |                                          |                              |                         |                            |                 |                        |                                    |                 |                     |                                |                   |                             |                     |                       |                        |                             |                                  |                        |                            |                               |                                          |                          |                               |                                                |                                 |\n",
      "|ce48cd7a-29bd-477b-b6c4-0dd840b5a911  |2023-12-02 23:27:02-08:00  |{                |(null)                               |(null)                           |11214                     |120               |D                            |(null)                             |(null)                                    |(null)                          |(null)               |N                      |(null)                               |2020     |HARWAY AVE                   |10                       |(null)                            |6/4/2020           |(null)                       |MALE           |N                      |(null)                         |PBBS                              |(null)                         |(null)                     |(null)                       |986616             |(null)                                              |(null)                         |(null)                     |154918             |Thursday   |(null)          |N                    |(null)                                              |June      |Y                                         |(null)                                     |(null)                                        |BROOKLYN                   |Y               |BLK                   |PETIT LARCENY             |APP                   |Y                          |(null)                                |(null)                     |(null)                                  |N                            |(                                           |P                    |Y                |PETIT LARCENY                  |5.6               |Y                                   |(null)               |SGT                         |2544 HARWAY AVE               |N                        |THN                        |(null)                                    |CALM                          |Y                        |WHITE HISPANIC              |CM               |44                      |62                                  |NULL             |BRO                  |62                              |11:50:00           |1                            |N                    |Based on Radio Run     |O                       |(null)                       |(null)                            |POM                     |PSB                         |Y                              |Y                                         |62                        |(null)                         |(null)                                          |(null)                           |\n",
      "|                                      |                           |  \"errors\": []   |                                     |                                 |                          |                  |                             |                                   |                                          |                                |                     |                       |                                     |         |                             |                         |                                  |                   |                             |               |                       |                               |                                  |                               |                           |                             |                   |                                                    |                               |                           |                   |           |                |                     |                                                    |          |                                          |                                           |                                              |                           |                |                      |                          |                      |                           |                                      |                           |                                        |                             |                                            |                     |                 |                               |                  |                                    |                     |                            |                              |                         |                           |                                          |                              |                         |                            |                 |                        |                                    |                 |                     |                                |                   |                             |                     |                       |                        |                             |                                  |                        |                            |                               |                                          |                          |                               |                                                |                                 |\n",
      "|                                      |                           |}                |                                     |                                 |                          |                  |                             |                                   |                                          |                                |                     |                       |                                     |         |                             |                         |                                  |                   |                             |               |                       |                               |                                  |                               |                           |                             |                   |                                                    |                               |                           |                   |           |                |                     |                                                    |          |                                          |                                           |                                              |                           |                |                      |                          |                      |                           |                                      |                           |                                        |                             |                                            |                     |                 |                               |                  |                                    |                     |                            |                              |                         |                           |                                          |                              |                         |                            |                 |                        |                                    |                 |                     |                                |                   |                             |                     |                       |                        |                             |                                  |                        |                            |                               |                                          |                          |                               |                                                |                                 |\n",
      "----------------------------------------------------------------------------------------------------------------------------------------------------------------------------------------------------------------------------------------------------------------------------------------------------------------------------------------------------------------------------------------------------------------------------------------------------------------------------------------------------------------------------------------------------------------------------------------------------------------------------------------------------------------------------------------------------------------------------------------------------------------------------------------------------------------------------------------------------------------------------------------------------------------------------------------------------------------------------------------------------------------------------------------------------------------------------------------------------------------------------------------------------------------------------------------------------------------------------------------------------------------------------------------------------------------------------------------------------------------------------------------------------------------------------------------------------------------------------------------------------------------------------------------------------------------------------------------------------------------------------------------------------------------------------------------------------------------------------------------------------------------------------------------------------------------------------------------------------------------------------------------------------------------------------------------------------------------------------------------------------------------------------------------------------------------------------------------------------------------------------------------------------------------------------------------------------------------------------------------------------------------------------------------------------------------------------------------------------------------------------------------------------------------------------------------------------------------------------------------------------------------------------------------------------------------------------------------------------------------\n",
      "\n"
     ]
    }
   ],
   "source": [
    "sqf_data.show()"
   ]
  },
  {
   "cell_type": "code",
   "execution_count": 7,
   "metadata": {},
   "outputs": [
    {
     "data": {
      "text/plain": [
       "102421"
      ]
     },
     "execution_count": 7,
     "metadata": {},
     "output_type": "execute_result"
    }
   ],
   "source": [
    "sqf_data.count()"
   ]
  },
  {
   "cell_type": "code",
   "execution_count": 8,
   "metadata": {},
   "outputs": [
    {
     "name": "stdout",
     "output_type": "stream",
     "text": [
      "----------------------------------------------------------------------------------------------------------------------------------------------------------------------------------------------------------------------------------------------------------------------------------------------------------------------------------------------------------------------------------------------------------------------------------------------------------------------------------------------------------------------------------------------------------------------------------------------------------------------------------------------------------------------------------------------------------------------------------------------------------------------------------------------------------------------------------------------------------------------------------------------------------------------------------------------------------------------------------------------------------------------------------------------------------------------------------------------------------------------------------------------------------------------------------------------------------------------------------------------------------------------------------------------------------------------------------------------------------------------------------------------------------------------------------------------------------------------------------------------------------------------------------------------------------------------------------------------------------------------------------------------------------------------------------------------------------------------------------------------------------------------------------------------------------------------------------------------------------------------------------------------------------------------------------------------------------------------------------------------------------------------------------------------------------------------------------------------------------------------------------------------------------------------------------------------------------------------------------------------------------------------------------------------------------------------------------------------------------------------------------------------------------------------------------------------------------------------------------------------------------------------------------------------------------------------------------------\n",
      "|\"_AIRBYTE_RAW_ID\"  |\"_AIRBYTE_EXTRACTED_AT\"  |\"_AIRBYTE_META\"  |\"PHYSICAL_FORCE_OC_SPRAY_USED_FLAG\"  |\"SEARCH_BASIS_HARD_OBJECT_FLAG\"  |\"STOP_LOCATION_ZIP_CODE\"  |\"SUSPECT_WEIGHT\"  |\"STOP_LOCATION_SECTOR_CODE\"  |\"ID_CARD_IDENTIFIES_OFFICER_FLAG\"  |\"OFFICER_NOT_EXPLAINED_STOP_DESCRIPTION\"  |\"SUSPECTS_ACTIONS_CASING_FLAG\"  |\"OTHER_WEAPON_FLAG\"  |\"SUMMONS_ISSUED_FLAG\"  |\"PHYSICAL_FORCE_WEAPON_IMPACT_FLAG\"  |\"YEAR2\"   |\"STOP_LOCATION_STREET_NAME\"  |\"STOP_DURATION_MINUTES\"  |\"VERBAL_IDENTIFIES_OFFICER_FLAG\"  |\"STOP_FRISK_DATE\"  |\"PHYSICAL_FORCE_OTHER_FLAG\"  |\"SUSPECT_SEX\"  |\"ASK_FOR_CONSENT_FLG\"  |\"SUMMONS_OFFENSE_DESCRIPTION\"  |\"STOP_LOCATION_PATROL_BORO_NAME\"  |\"SEARCH_BASIS_ADMISSION_FLAG\"  |\"SEARCH_BASIS_OTHER_FLAG\"  |\"SEARCH_BASIS_CONSENT_FLAG\"  |\"STOP_LOCATION_X\"  |\"SUSPECTS_ACTIONS_CONCEALED_POSSESSION_WEAPON_F...  |\"SUSPECTS_ACTIONS_OTHER_FLAG\"  |\"PHYSICAL_FORCE_CEW_FLAG\"  |\"STOP_LOCATION_Y\"  |\"DAY2\"    |\"FIREARM_FLAG\"  |\"WEAPON_FOUND_FLAG\"  |\"BACKROUND_CIRCUMSTANCES_SUSPECT_KNOWN_TO_CARRY...  |\"MONTH2\"  |\"SEARCH_BASIS_INCIDENTAL_TO_ARREST_FLAG\"  |\"SUSPECTS_ACTIONS_DRUG_TRANSACTIONS_FLAG\"  |\"BACKROUND_CIRCUMSTANCES_VIOLENT_CRIME_FLAG\"  |\"STOP_LOCATION_BORO_NAME\"  |\"FRISKED_FLAG\"  |\"SUSPECT_HAIR_COLOR\"  |\"SUSPECT_ARREST_OFFENSE\"  |\"RECORD_STATUS_CODE\"  |\"OFFICER_IN_UNIFORM_FLAG\"  |\"PHYSICAL_FORCE_RESTRAINT_USED_FLAG\"  |\"STOP_LOCATION_APARTMENT\"  |\"PHYSICAL_FORCE_HANDCUFF_SUSPECT_FLAG\"  |\"OTHER_PERSON_STOPPED_FLAG\"  |\"SUSPECTS_ACTIONS_PROXIMITY_TO_SCENE_FLAG\"  |\"JURISDICTION_CODE\"  |\"SEARCHED_FLAG\"  |\"SUSPECTED_CRIME_DESCRIPTION\"  |\"SUSPECT_HEIGHT\"  |\"SUSPECTS_ACTIONS_DECRIPTION_FLAG\"  |\"KNIFE_CUTTER_FLAG\"  |\"SUPERVISING_OFFICER_RANK\"  |\"STOP_LOCATION_FULL_ADDRESS\"  |\"OTHER_CONTRABAND_FLAG\"  |\"SUSPECT_BODY_BUILD_TYPE\"  |\"PHYSICAL_FORCE_DRAW_POINT_FIREARM_FLAG\"  |\"DEMEANOR_OF_PERSON_STOPPED\"  |\"SUSPECT_ARRESTED_FLAG\"  |\"SUSPECT_RACE_DESCRIPTION\"  |\"DEMEANOR_CODE\"  |\"SUSPECT_REPORTED_AGE\"  |\"SUPERVISING_OFFICER_COMMAND_CODE\"  |\"STOP_ID_ANONY\"  |\"SUSPECT_EYE_COLOR\"  |\"ISSUING_OFFICER_COMMAND_CODE\"  |\"STOP_FRISK_TIME\"  |\"OBSERVED_DURATION_MINUTES\"  |\"CONSENT_GIVEN_FLG\"  |\"STOP_WAS_INITIATED\"  |\"LOCATION_IN_OUT_CODE\"  |\"SEARCH_BASIS_OUTLINE_FLAG\"  |\"SHIELD_IDENTIFIES_OFFICER_FLAG\"  |\"ISSUING_OFFICER_RANK\"  |\"JURISDICTION_DESCRIPTION\"  |\"OFFICER_EXPLAINED_STOP_FLAG\"  |\"PHYSICAL_FORCE_VERBAL_INSTRUCTION_FLAG\"  |\"STOP_LOCATION_PRECINCT\"  |\"SUSPECT_OTHER_DESCRIPTION\"  |\"SUSPECTS_ACTIONS_IDENTIFY_CRIME_PATTERN_FLAG\"  |\"SUSPECTS_ACTIONS_LOOKOUT_FLAG\"  |\n",
      "----------------------------------------------------------------------------------------------------------------------------------------------------------------------------------------------------------------------------------------------------------------------------------------------------------------------------------------------------------------------------------------------------------------------------------------------------------------------------------------------------------------------------------------------------------------------------------------------------------------------------------------------------------------------------------------------------------------------------------------------------------------------------------------------------------------------------------------------------------------------------------------------------------------------------------------------------------------------------------------------------------------------------------------------------------------------------------------------------------------------------------------------------------------------------------------------------------------------------------------------------------------------------------------------------------------------------------------------------------------------------------------------------------------------------------------------------------------------------------------------------------------------------------------------------------------------------------------------------------------------------------------------------------------------------------------------------------------------------------------------------------------------------------------------------------------------------------------------------------------------------------------------------------------------------------------------------------------------------------------------------------------------------------------------------------------------------------------------------------------------------------------------------------------------------------------------------------------------------------------------------------------------------------------------------------------------------------------------------------------------------------------------------------------------------------------------------------------------------------------------------------------------------------------------------------------------------------------\n",
      "|0.000000           |0.000000                 |0.000000         |0.000000                             |0.000000                         |38.225600                 |1.666700          |0.049800                     |0.000000                           |0.000000                                  |0.000000                        |0.000000             |0.000000               |0.000000                             |0.000000  |0.017600                     |0.000000                 |0.000000                          |0.000000           |0.000000                     |0.000000       |22.101900              |0.000000                       |0.000000                          |0.000000                       |0.000000                   |0.000000                     |0.000000           |0.000000                                            |0.000000                       |0.000000                   |0.000000           |0.000000  |0.000000        |0.000000             |0.000000                                            |0.000000  |0.000000                                  |0.000000                                   |0.000000                                      |0.000000                   |0.000000        |0.000000              |0.000000                  |0.000000              |0.000000                   |0.000000                              |0.000000                   |0.000000                                |0.001000                     |0.000000                                    |0.000000             |0.000000         |0.000000                       |1.428400          |0.000000                            |0.000000             |0.000000                    |0.000000                      |0.000000                 |0.000000                   |0.000000                                  |0.000000                      |0.000000                 |0.000000                    |38.225600        |1.027100                |0.000000                            |73.718300        |0.000000             |0.000000                        |10.747800          |0.000000                     |22.101900            |0.001000              |0.000000                |0.000000                     |0.000000                          |0.000000                |0.000000                    |0.000000                       |0.000000                                  |0.000000                  |0.000000                     |0.000000                                        |0.000000                         |\n",
      "----------------------------------------------------------------------------------------------------------------------------------------------------------------------------------------------------------------------------------------------------------------------------------------------------------------------------------------------------------------------------------------------------------------------------------------------------------------------------------------------------------------------------------------------------------------------------------------------------------------------------------------------------------------------------------------------------------------------------------------------------------------------------------------------------------------------------------------------------------------------------------------------------------------------------------------------------------------------------------------------------------------------------------------------------------------------------------------------------------------------------------------------------------------------------------------------------------------------------------------------------------------------------------------------------------------------------------------------------------------------------------------------------------------------------------------------------------------------------------------------------------------------------------------------------------------------------------------------------------------------------------------------------------------------------------------------------------------------------------------------------------------------------------------------------------------------------------------------------------------------------------------------------------------------------------------------------------------------------------------------------------------------------------------------------------------------------------------------------------------------------------------------------------------------------------------------------------------------------------------------------------------------------------------------------------------------------------------------------------------------------------------------------------------------------------------------------------------------------------------------------------------------------------------------------------------------------------------\n",
      "\n"
     ]
    }
   ],
   "source": [
    "total_rows = sqf_data.count()\n",
    "\n",
    "# Calculate the count of missing values for each column\n",
    "missing_counts = sqf_data.select([sum(col(c).isNull().cast(\"int\")).alias(c) for c in sqf_data.columns])\n",
    "\n",
    "# Calculate the percentage of missing values for each column\n",
    "missing_percentages = missing_counts.select([(col(c) / total_rows * 100).alias(c) for c in missing_counts.columns])\n",
    "\n",
    "# Display the result\n",
    "missing_percentages.show()"
   ]
  },
  {
   "cell_type": "code",
   "execution_count": 9,
   "metadata": {},
   "outputs": [
    {
     "name": "stdout",
     "output_type": "stream",
     "text": [
      "-------------------------------------------------------------------------------------------------------------------------------------------------------------------------------------------------------------------------------------------------------------------------------------------------------------------------------------------------------------------------------------------------------------------------------------------------------------------------------------------------------------------------------------------------------------------------------------------------------------------------------------------------------------------------------------------------------------------------------------------------------------------------------------------------------------------------------------------------------------------------------------------------------------------------------------------------------------------------------------------------------------------------------------------------------------------------------------------------------------------------------------------------------------------------------------------------------------------------------------------------------------------------------------------------------------------------------------------------------------------------------------------------------------------------------------------------------------------------------------------------------------------------------------------------------------------------------------------------------------------------------------------------------------------------------------------------------------------------------------------------------------------------------------\n",
      "|\"PHYSICAL_FORCE_OC_SPRAY_USED_FLAG\"  |\"SEARCH_BASIS_HARD_OBJECT_FLAG\"  |\"SUSPECT_WEIGHT\"  |\"STOP_LOCATION_SECTOR_CODE\"  |\"OTHER_WEAPON_FLAG\"  |\"PHYSICAL_FORCE_WEAPON_IMPACT_FLAG\"  |\"YEAR2\"  |\"STOP_LOCATION_STREET_NAME\"  |\"STOP_DURATION_MINUTES\"  |\"STOP_FRISK_DATE\"  |\"PHYSICAL_FORCE_OTHER_FLAG\"  |\"SUSPECT_SEX\"  |\"ASK_FOR_CONSENT_FLG\"  |\"SUMMONS_OFFENSE_DESCRIPTION\"  |\"STOP_LOCATION_PATROL_BORO_NAME\"  |\"STOP_LOCATION_X\"  |\"SUSPECTS_ACTIONS_CONCEALED_POSSESSION_WEAPON_F...  |\"SUSPECTS_ACTIONS_OTHER_FLAG\"  |\"PHYSICAL_FORCE_CEW_FLAG\"  |\"STOP_LOCATION_Y\"  |\"DAY2\"  |\"FIREARM_FLAG\"  |\"WEAPON_FOUND_FLAG\"  |\"MONTH2\"  |\"SEARCH_BASIS_INCIDENTAL_TO_ARREST_FLAG\"  |\"SUSPECTS_ACTIONS_DRUG_TRANSACTIONS_FLAG\"  |\"BACKROUND_CIRCUMSTANCES_VIOLENT_CRIME_FLAG\"  |\"STOP_LOCATION_BORO_NAME\"  |\"FRISKED_FLAG\"  |\"SUSPECT_HAIR_COLOR\"  |\"SUSPECT_ARREST_OFFENSE\"  |\"OFFICER_IN_UNIFORM_FLAG\"  |\"STOP_LOCATION_APARTMENT\"  |\"JURISDICTION_CODE\"  |\"SEARCHED_FLAG\"  |\"SUSPECTED_CRIME_DESCRIPTION\"  |\"SUSPECT_HEIGHT\"  |\"SUSPECTS_ACTIONS_DECRIPTION_FLAG\"  |\"KNIFE_CUTTER_FLAG\"  |\"SUPERVISING_OFFICER_RANK\"  |\"STOP_LOCATION_FULL_ADDRESS\"                 |\"OTHER_CONTRABAND_FLAG\"  |\"SUSPECT_BODY_BUILD_TYPE\"  |\"PHYSICAL_FORCE_DRAW_POINT_FIREARM_FLAG\"  |\"DEMEANOR_OF_PERSON_STOPPED\"  |\"SUSPECT_ARRESTED_FLAG\"  |\"SUSPECT_RACE_DESCRIPTION\"  |\"SUSPECT_REPORTED_AGE\"  |\"SUSPECT_EYE_COLOR\"  |\"STOP_FRISK_TIME\"  |\"OBSERVED_DURATION_MINUTES\"  |\"CONSENT_GIVEN_FLG\"  |\"STOP_WAS_INITIATED\"     |\"SEARCH_BASIS_OUTLINE_FLAG\"  |\"SHIELD_IDENTIFIES_OFFICER_FLAG\"  |\"ISSUING_OFFICER_RANK\"  |\"OFFICER_EXPLAINED_STOP_FLAG\"  |\"STOP_LOCATION_PRECINCT\"  |\"SUSPECT_OTHER_DESCRIPTION\"  |\"SUSPECTS_ACTIONS_IDENTIFY_CRIME_PATTERN_FLAG\"  |\"SUSPECTS_ACTIONS_LOOKOUT_FLAG\"  |\n",
      "-------------------------------------------------------------------------------------------------------------------------------------------------------------------------------------------------------------------------------------------------------------------------------------------------------------------------------------------------------------------------------------------------------------------------------------------------------------------------------------------------------------------------------------------------------------------------------------------------------------------------------------------------------------------------------------------------------------------------------------------------------------------------------------------------------------------------------------------------------------------------------------------------------------------------------------------------------------------------------------------------------------------------------------------------------------------------------------------------------------------------------------------------------------------------------------------------------------------------------------------------------------------------------------------------------------------------------------------------------------------------------------------------------------------------------------------------------------------------------------------------------------------------------------------------------------------------------------------------------------------------------------------------------------------------------------------------------------------------------------------------------------------------------------\n",
      "|(null)                               |(null)                           |180               |A                            |(null)               |(null)                               |2022     |W FORDHAM RD                 |2                        |10/10/2022         |(null)                       |MALE           |N                      |(null)                         |PBBX                              |1008387            |Y                                                   |(null)                         |(null)                     |253290             |Monday  |(null)          |N                    |October   |(null)                                    |(null)                                     |(null)                                        |BRONX                      |Y               |BLK                   |(null)                    |Y                          |(null)                     |P                    |N                |CPW                            |6.2               |(null)                              |(null)               |SGT                         |W FORDHAM RD && MAJOR DEEGAN EXPY            |N                        |MED                        |(null)                                    |CALM                          |N                        |BLACK                       |25                      |BRO                  |18:23:00           |4                            |N                    |Based on Self Initiated  |(null)                       |(null)                            |POM                     |Y                              |52                        |(null)                       |(null)                                          |(null)                           |\n",
      "|(null)                               |(null)                           |225               |B                            |(null)               |(null)                               |2022     |QUEENS BLVD                  |1                        |10/10/2022         |(null)                       |MALE           |N                      |(null)                         |PBQN                              |1005238            |(null)                                              |(null)                         |(null)                     |210275             |Monday  |(null)          |N                    |October   |Y                                         |(null)                                     |(null)                                        |QUEENS                     |N               |BLK                   |PETIT LARCENY             |Y                          |(null)                     |P                    |Y                |PETIT LARCENY                  |6                 |Y                                   |(null)               |SGT                         |QUEENS BLVD && 40 ST                         |N                        |MED                        |(null)                                    |AGGITATED                     |Y                        |BLACK                       |46                      |BLK                  |14:05:00           |1                            |(null)               |Based on C/W on Scene    |(null)                       |(null)                            |POF                     |N                              |108                       |(null)                       |(null)                                          |(null)                           |\n",
      "|(null)                               |(null)                           |235               |D                            |(null)               |(null)                               |2022     |GUY R BREWER BLVD            |5                        |10/10/2022         |(null)                       |MALE           |N                      |(null)                         |PBQS                              |1041970            |(null)                                              |(null)                         |(null)                     |193322             |Monday  |(null)          |N                    |October   |(null)                                    |(null)                                     |(null)                                        |QUEENS                     |N               |BLK                   |(null)                    |Y                          |(null)                     |(null)               |N                |BURGLARY                       |5.11              |Y                                   |(null)               |SGT                         |107-38 GUY R BREWER BLVD                     |N                        |MED                        |(null)                                    |CALM                          |N                        |BLACK                       |28                      |BRO                  |12:00:00           |1                            |N                    |Based on Radio Run       |(null)                       |(null)                            |POM                     |Y                              |103                       |(null)                       |(null)                                          |Y                                |\n",
      "|(null)                               |(null)                           |160               |A                            |(null)               |(null)                               |2022     |LONG ISLAND EXPRESSWAY       |6                        |10/10/2022         |(null)                       |MALE           |N                      |(null)                         |PBQN                              |1035491            |(null)                                              |(null)                         |(null)                     |208651             |Monday  |(null)          |N                    |October   |(null)                                    |(null)                                     |Y                                             |QUEENS                     |Y               |BLK                   |(null)                    |Y                          |(null)                     |P                    |N                |ROBBERY                        |5.9               |Y                                   |(null)               |SGT                         |LONG ISLAND EXPRESSWAY && KISSENA BOULEVARD  |N                        |THN                        |(null)                                    |NERVOUS                       |N                        |ASIAN / PACIFIC ISLANDER    |21                      |BRO                  |23:22:00           |1                            |N                    |Based on Radio Run       |(null)                       |(null)                            |POM                     |Y                              |109                       |(null)                       |(null)                                          |(null)                           |\n",
      "|(null)                               |Y                                |(null)            |D                            |(null)               |(null)                               |2022     |E 98 ST                      |1                        |10/10/2022         |(null)                       |MALE           |N                      |(null)                         |PBBN                              |1008104            |Y                                                   |(null)                         |(null)                     |178652             |Monday  |Y               |Y                    |October   |(null)                                    |(null)                                     |Y                                             |BROOKLYN                   |Y               |BLK                   |CPW                       |Y                          |(null)                     |P                    |Y                |CPW                            |(null)            |(null)                              |(null)               |SGT                         |E 98 ST && LOTT AVE                          |N                        |THN                        |(null)                                    |NERVOUS                       |Y                        |BLACK                       |(null)                  |BRO                  |0:52:00            |1                            |N                    |Based on Self Initiated  |(null)                       |(null)                            |POM                     |N                              |73                        |(null)                       |(null)                                          |(null)                           |\n",
      "|(null)                               |Y                                |(null)            |B                            |(null)               |(null)                               |2022     |43 ST                        |5                        |10/10/2022         |(null)                       |MALE           |N                      |(null)                         |PBQN                              |1005772            |Y                                                   |(null)                         |(null)                     |208900             |Monday  |(null)          |Y                    |October   |(null)                                    |(null)                                     |Y                                             |QUEENS                     |Y               |GRY                   |(null)                    |Y                          |(null)                     |P                    |Y                |MENACING                       |(null)            |Y                                   |Y                    |SGT                         |47-52 43 ST                                  |N                        |MED                        |(null)                                    |ARGUMENTATIVE                 |N                        |WHITE                       |50                      |(null)               |18:53:00           |1                            |N                    |Based on Radio Run       |Y                            |(null)                            |POM                     |Y                              |108                       |(null)                       |(null)                                          |(null)                           |\n",
      "|(null)                               |(null)                           |210               |A                            |(null)               |(null)                               |2022     |CENTER DR                    |17                       |10/10/2022         |(null)                       |MALE           |N                      |(null)                         |PBMN                              |990168             |(null)                                              |(null)                         |(null)                     |218969             |Monday  |(null)          |N                    |October   |(null)                                    |(null)                                     |(null)                                        |MANHATTAN                  |Y               |BLK                   |ASSAULT                   |Y                          |(null)                     |(null)               |Y                |ASSAULT                        |6.6               |Y                                   |(null)               |SGT                         |CENTER DR && WEST DR                         |N                        |THN                        |(null)                                    |CALM                          |Y                        |BLACK                       |40                      |BLK                  |14:21:00           |0                            |N                    |Based on Radio Run       |(null)                       |(null)                            |POM                     |Y                              |22                        |(null)                       |(null)                                          |(null)                           |\n",
      "|(null)                               |(null)                           |175               |C                            |(null)               |(null)                               |2022     |COLUMBUS AVE                 |14                       |10/10/2022         |(null)                       |MALE           |(null)                 |(null)                         |PBMN                              |994531             |(null)                                              |(null)                         |(null)                     |230462             |Monday  |(null)          |N                    |October   |Y                                         |(null)                                     |(null)                                        |MANHATTAN                  |Y               |BLK                   |CRIMINAL MISCHIEF         |Y                          |(null)                     |P                    |Y                |MENACING                       |5.9               |(null)                              |(null)               |SGT                         |COLUMBUS AVE && W 106 ST                     |N                        |MED                        |(null)                                    |#N/A                          |Y                        |(null)                      |28                      |BRO                  |1:12:00            |1                            |(null)               |Based on Radio Run       |(null)                       |(null)                            |POM                     |Y                              |24                        |(null)                       |(null)                                          |(null)                           |\n",
      "|(null)                               |(null)                           |180               |B                            |(null)               |(null)                               |2022     |E FORDHAM RD                 |1                        |10/10/2022         |(null)                       |MALE           |N                      |DISORDERLY CONDUCT             |PBBX                              |1013342            |Y                                                   |(null)                         |(null)                     |253369             |Monday  |(null)          |Y                    |October   |Y                                         |(null)                                     |(null)                                        |BRONX                      |Y               |BLK                   |(null)                    |Y                          |(null)                     |(null)               |Y                |CPW                            |6                 |(null)                              |Y                    |SGT                         |E FORDHAM RD && TIEBOUT AVE                  |N                        |MED                        |(null)                                    |AGITATED AND AGGRESSIVE       |N                        |BLACK                       |20                      |BRO                  |19:47:00           |1                            |N                    |Based on Self Initiated  |(null)                       |(null)                            |POM                     |Y                              |46                        |(null)                       |(null)                                          |(null)                           |\n",
      "|(null)                               |(null)                           |120               |B                            |(null)               |(null)                               |2022     |VALENTINE AVE                |7                        |10/10/2022         |(null)                       |MALE           |N                      |(null)                         |PBBX                              |1011770            |(null)                                              |(null)                         |(null)                     |249446             |Monday  |(null)          |N                    |October   |(null)                                    |(null)                                     |Y                                             |BRONX                      |Y               |BLK                   |(null)                    |Y                          |(null)                     |(null)               |N                |RECKLESS ENDANGERMENT          |5.8               |Y                                   |(null)               |LT                          |2033 VALENTINE AVE                           |N                        |THN                        |(null)                                    |NERVOUS                       |N                        |BLACK                       |20                      |BRO                  |1:14:00            |0                            |N                    |Based on C/W on Scene    |(null)                       |(null)                            |POM                     |Y                              |46                        |(null)                       |(null)                                          |(null)                           |\n",
      "-------------------------------------------------------------------------------------------------------------------------------------------------------------------------------------------------------------------------------------------------------------------------------------------------------------------------------------------------------------------------------------------------------------------------------------------------------------------------------------------------------------------------------------------------------------------------------------------------------------------------------------------------------------------------------------------------------------------------------------------------------------------------------------------------------------------------------------------------------------------------------------------------------------------------------------------------------------------------------------------------------------------------------------------------------------------------------------------------------------------------------------------------------------------------------------------------------------------------------------------------------------------------------------------------------------------------------------------------------------------------------------------------------------------------------------------------------------------------------------------------------------------------------------------------------------------------------------------------------------------------------------------------------------------------------------------------------------------------------------------------------------------------------------\n",
      "\n"
     ]
    }
   ],
   "source": [
    "columns_to_drop= ['_AIRBYTE_RAW_ID', '_AIRBYTE_EXTRACTED_AT', '_AIRBYTE_META', 'STOP_LOCATION_ZIP_CODE', 'ID_CARD_IDENTIFIES_OFFICER_FLAG', 'OFFICER_NOT_EXPLAINED_STOP_DESCRIPTION',\\\n",
    "                    'SUSPECTS_ACTIONS_CASING_FLAG', 'SUMMONS_ISSUED_FLAG', 'VERBAL_IDENTIFIES_OFFICER_FLAG', 'SEARCH_BASIS_ADMISSION_FLAG', 'SEARCH_BASIS_OTHER_FLAG', 'SEARCH_BASIS_CONSENT_FLAG',\\\n",
    "                    'BACKROUND_CIRCUMSTANCES_SUSPECT_KNOWN_TO_CARRY_WEAPON_FLAG', 'RECORD_STATUS_CODE', 'PHYSICAL_FORCE_RESTRAINT_USED_FLAG', 'PHYSICAL_FORCE_HANDCUFF_SUSPECT_FLAG',\\\n",
    "                    'OTHER_PERSON_STOPPED_FLAG', 'SUSPECTS_ACTIONS_PROXIMITY_TO_SCENE_FLAG', 'DEMEANOR_CODE', 'SUPERVISING_OFFICER_COMMAND_CODE', 'STOP_ID_ANONY', 'ISSUING_OFFICER_COMMAND_CODE',\\\n",
    "                    'LOCATION_IN_OUT_CODE', 'JURISDICTION_DESCRIPTION', 'PHYSICAL_FORCE_VERBAL_INSTRUCTION_FLAG']\n",
    "sqf_data = sqf_data.drop(*columns_to_drop)\n",
    "sqf_data.show()"
   ]
  },
  {
   "cell_type": "code",
   "execution_count": 10,
   "metadata": {},
   "outputs": [
    {
     "name": "stdout",
     "output_type": "stream",
     "text": [
      "----------------------------------------------\n",
      "|\"STOP_LOCATION_PATROL_BORO_NAME\"  |\"COUNT\"  |\n",
      "----------------------------------------------\n",
      "|PBMS                              |9951     |\n",
      "|PBBS                              |15323    |\n",
      "|0986                              |3        |\n",
      "|0991                              |1        |\n",
      "|1025                              |1        |\n",
      "|PBMN                              |15722    |\n",
      "|PBQS                              |8822     |\n",
      "|PBQN                              |8618     |\n",
      "|(nul                              |417      |\n",
      "|5 AV                              |1        |\n",
      "----------------------------------------------\n",
      "\n"
     ]
    }
   ],
   "source": [
    "sqf_data.group_by('STOP_LOCATION_PATROL_BORO_NAME')\\\n",
    "        .count()\\\n",
    "        .show()"
   ]
  },
  {
   "cell_type": "code",
   "execution_count": 11,
   "metadata": {},
   "outputs": [
    {
     "name": "stdout",
     "output_type": "stream",
     "text": [
      "---------------------------------------\n",
      "|\"STOP_LOCATION_BORO_NAME\"  |\"COUNT\"  |\n",
      "---------------------------------------\n",
      "|BROOKLYN                   |31686    |\n",
      "|BRONX                      |23550    |\n",
      "|PBMS                       |1        |\n",
      "|0210334                    |1        |\n",
      "|PBBS                       |1        |\n",
      "|0190241                    |1        |\n",
      "|MANHATTAN                  |25673    |\n",
      "|0208760                    |2        |\n",
      "|0986759                    |1        |\n",
      "|PBBX                       |5        |\n",
      "---------------------------------------\n",
      "\n"
     ]
    }
   ],
   "source": [
    "sqf_data.group_by('STOP_LOCATION_BORO_NAME')\\\n",
    "        .count()\\\n",
    "        .show()"
   ]
  },
  {
   "cell_type": "code",
   "execution_count": 12,
   "metadata": {},
   "outputs": [],
   "source": [
    "mapping_expr = when(col('STOP_LOCATION_PATROL_BORO_NAME') == 'PBBX', 'BRONX')\n",
    "for key, value in borough_mapping.items():\n",
    "    mapping_expr = mapping_expr.when(col(\"STOP_LOCATION_PATROL_BORO_NAME\") == key, value)\n",
    "\n",
    "preprocessed_sqf_df = sqf_data.withColumn(\"STOP_LOCATION_PATROL_BORO_NAME\", mapping_expr.otherwise(col(\"STOP_LOCATION_PATROL_BORO_NAME\")))\n",
    "\n",
    "mapping_expr = when(col('STOP_LOCATION_BORO_NAME') == 'PBBX', 'BRONX')\n",
    "for key, value in borough_mapping.items():\n",
    "    mapping_expr = mapping_expr.when(col(\"STOP_LOCATION_BORO_NAME\") == key, value)\n",
    "\n",
    "preprocessed_sqf_df = preprocessed_sqf_df.withColumn(\"STOP_LOCATION_BORO_NAME\", mapping_expr.otherwise(col(\"STOP_LOCATION_BORO_NAME\")))"
   ]
  },
  {
   "cell_type": "code",
   "execution_count": 13,
   "metadata": {},
   "outputs": [
    {
     "name": "stdout",
     "output_type": "stream",
     "text": [
      "-------------------------------------------------------------------------------------------------------------------------------------------------------------------------------------------------------------------------------------------------------------------------------------------------------------------------------------------------------------------------------------------------------------------------------------------------------------------------------------------------------------------------------------------------------------------------------------------------------------------------------------------------------------------------------------------------------------------------------------------------------------------------------------------------------------------------------------------------------------------------------------------------------------------------------------------------------------------------------------------------------------------------------------------------------------------------------------------------------------------------------------------------------------------------------------------------------------------------------------------------------------------------------------------------------------------------------------------------------------------------------------------------------------------------------------------------------------------------------------------------------------------------------------------------------------------------------------------------------------------------------------------------------------------------------------------------------------------------------------------------------------------------------------\n",
      "|\"PHYSICAL_FORCE_OC_SPRAY_USED_FLAG\"  |\"SEARCH_BASIS_HARD_OBJECT_FLAG\"  |\"SUSPECT_WEIGHT\"  |\"STOP_LOCATION_SECTOR_CODE\"  |\"OTHER_WEAPON_FLAG\"  |\"PHYSICAL_FORCE_WEAPON_IMPACT_FLAG\"  |\"YEAR2\"  |\"STOP_LOCATION_STREET_NAME\"  |\"STOP_DURATION_MINUTES\"  |\"STOP_FRISK_DATE\"  |\"PHYSICAL_FORCE_OTHER_FLAG\"  |\"SUSPECT_SEX\"  |\"ASK_FOR_CONSENT_FLG\"  |\"SUMMONS_OFFENSE_DESCRIPTION\"  |\"STOP_LOCATION_X\"  |\"SUSPECTS_ACTIONS_CONCEALED_POSSESSION_WEAPON_F...  |\"SUSPECTS_ACTIONS_OTHER_FLAG\"  |\"PHYSICAL_FORCE_CEW_FLAG\"  |\"STOP_LOCATION_Y\"  |\"DAY2\"  |\"FIREARM_FLAG\"  |\"WEAPON_FOUND_FLAG\"  |\"MONTH2\"  |\"SEARCH_BASIS_INCIDENTAL_TO_ARREST_FLAG\"  |\"SUSPECTS_ACTIONS_DRUG_TRANSACTIONS_FLAG\"  |\"BACKROUND_CIRCUMSTANCES_VIOLENT_CRIME_FLAG\"  |\"FRISKED_FLAG\"  |\"SUSPECT_HAIR_COLOR\"  |\"SUSPECT_ARREST_OFFENSE\"  |\"OFFICER_IN_UNIFORM_FLAG\"  |\"STOP_LOCATION_APARTMENT\"  |\"JURISDICTION_CODE\"  |\"SEARCHED_FLAG\"  |\"SUSPECTED_CRIME_DESCRIPTION\"  |\"SUSPECT_HEIGHT\"  |\"SUSPECTS_ACTIONS_DECRIPTION_FLAG\"  |\"KNIFE_CUTTER_FLAG\"  |\"SUPERVISING_OFFICER_RANK\"  |\"STOP_LOCATION_FULL_ADDRESS\"                 |\"OTHER_CONTRABAND_FLAG\"  |\"SUSPECT_BODY_BUILD_TYPE\"  |\"PHYSICAL_FORCE_DRAW_POINT_FIREARM_FLAG\"  |\"DEMEANOR_OF_PERSON_STOPPED\"  |\"SUSPECT_ARRESTED_FLAG\"  |\"SUSPECT_RACE_DESCRIPTION\"  |\"SUSPECT_REPORTED_AGE\"  |\"SUSPECT_EYE_COLOR\"  |\"STOP_FRISK_TIME\"  |\"OBSERVED_DURATION_MINUTES\"  |\"CONSENT_GIVEN_FLG\"  |\"STOP_WAS_INITIATED\"     |\"SEARCH_BASIS_OUTLINE_FLAG\"  |\"SHIELD_IDENTIFIES_OFFICER_FLAG\"  |\"ISSUING_OFFICER_RANK\"  |\"OFFICER_EXPLAINED_STOP_FLAG\"  |\"STOP_LOCATION_PRECINCT\"  |\"SUSPECT_OTHER_DESCRIPTION\"  |\"SUSPECTS_ACTIONS_IDENTIFY_CRIME_PATTERN_FLAG\"  |\"SUSPECTS_ACTIONS_LOOKOUT_FLAG\"  |\"STOP_LOCATION_PATROL_BORO_NAME\"  |\"STOP_LOCATION_BORO_NAME\"  |\n",
      "-------------------------------------------------------------------------------------------------------------------------------------------------------------------------------------------------------------------------------------------------------------------------------------------------------------------------------------------------------------------------------------------------------------------------------------------------------------------------------------------------------------------------------------------------------------------------------------------------------------------------------------------------------------------------------------------------------------------------------------------------------------------------------------------------------------------------------------------------------------------------------------------------------------------------------------------------------------------------------------------------------------------------------------------------------------------------------------------------------------------------------------------------------------------------------------------------------------------------------------------------------------------------------------------------------------------------------------------------------------------------------------------------------------------------------------------------------------------------------------------------------------------------------------------------------------------------------------------------------------------------------------------------------------------------------------------------------------------------------------------------------------------------------------\n",
      "|(null)                               |(null)                           |180               |A                            |(null)               |(null)                               |2022     |W FORDHAM RD                 |2                        |10/10/2022         |(null)                       |MALE           |N                      |(null)                         |1008387            |Y                                                   |(null)                         |(null)                     |253290             |Monday  |(null)          |N                    |October   |(null)                                    |(null)                                     |(null)                                        |Y               |BLK                   |(null)                    |Y                          |(null)                     |P                    |N                |CPW                            |6.2               |(null)                              |(null)               |SGT                         |W FORDHAM RD && MAJOR DEEGAN EXPY            |N                        |MED                        |(null)                                    |CALM                          |N                        |BLACK                       |25                      |BRO                  |18:23:00           |4                            |N                    |Based on Self Initiated  |(null)                       |(null)                            |POM                     |Y                              |52                        |(null)                       |(null)                                          |(null)                           |BRONX                             |BRONX                      |\n",
      "|(null)                               |(null)                           |225               |B                            |(null)               |(null)                               |2022     |QUEENS BLVD                  |1                        |10/10/2022         |(null)                       |MALE           |N                      |(null)                         |1005238            |(null)                                              |(null)                         |(null)                     |210275             |Monday  |(null)          |N                    |October   |Y                                         |(null)                                     |(null)                                        |N               |BLK                   |PETIT LARCENY             |Y                          |(null)                     |P                    |Y                |PETIT LARCENY                  |6                 |Y                                   |(null)               |SGT                         |QUEENS BLVD && 40 ST                         |N                        |MED                        |(null)                                    |AGGITATED                     |Y                        |BLACK                       |46                      |BLK                  |14:05:00           |1                            |(null)               |Based on C/W on Scene    |(null)                       |(null)                            |POF                     |N                              |108                       |(null)                       |(null)                                          |(null)                           |QUEENS                            |QUEENS                     |\n",
      "|(null)                               |(null)                           |235               |D                            |(null)               |(null)                               |2022     |GUY R BREWER BLVD            |5                        |10/10/2022         |(null)                       |MALE           |N                      |(null)                         |1041970            |(null)                                              |(null)                         |(null)                     |193322             |Monday  |(null)          |N                    |October   |(null)                                    |(null)                                     |(null)                                        |N               |BLK                   |(null)                    |Y                          |(null)                     |(null)               |N                |BURGLARY                       |5.11              |Y                                   |(null)               |SGT                         |107-38 GUY R BREWER BLVD                     |N                        |MED                        |(null)                                    |CALM                          |N                        |BLACK                       |28                      |BRO                  |12:00:00           |1                            |N                    |Based on Radio Run       |(null)                       |(null)                            |POM                     |Y                              |103                       |(null)                       |(null)                                          |Y                                |QUEENS                            |QUEENS                     |\n",
      "|(null)                               |(null)                           |160               |A                            |(null)               |(null)                               |2022     |LONG ISLAND EXPRESSWAY       |6                        |10/10/2022         |(null)                       |MALE           |N                      |(null)                         |1035491            |(null)                                              |(null)                         |(null)                     |208651             |Monday  |(null)          |N                    |October   |(null)                                    |(null)                                     |Y                                             |Y               |BLK                   |(null)                    |Y                          |(null)                     |P                    |N                |ROBBERY                        |5.9               |Y                                   |(null)               |SGT                         |LONG ISLAND EXPRESSWAY && KISSENA BOULEVARD  |N                        |THN                        |(null)                                    |NERVOUS                       |N                        |ASIAN / PACIFIC ISLANDER    |21                      |BRO                  |23:22:00           |1                            |N                    |Based on Radio Run       |(null)                       |(null)                            |POM                     |Y                              |109                       |(null)                       |(null)                                          |(null)                           |QUEENS                            |QUEENS                     |\n",
      "|(null)                               |Y                                |(null)            |D                            |(null)               |(null)                               |2022     |E 98 ST                      |1                        |10/10/2022         |(null)                       |MALE           |N                      |(null)                         |1008104            |Y                                                   |(null)                         |(null)                     |178652             |Monday  |Y               |Y                    |October   |(null)                                    |(null)                                     |Y                                             |Y               |BLK                   |CPW                       |Y                          |(null)                     |P                    |Y                |CPW                            |(null)            |(null)                              |(null)               |SGT                         |E 98 ST && LOTT AVE                          |N                        |THN                        |(null)                                    |NERVOUS                       |Y                        |BLACK                       |(null)                  |BRO                  |0:52:00            |1                            |N                    |Based on Self Initiated  |(null)                       |(null)                            |POM                     |N                              |73                        |(null)                       |(null)                                          |(null)                           |BROOKLYN                          |BROOKLYN                   |\n",
      "|(null)                               |Y                                |(null)            |B                            |(null)               |(null)                               |2022     |43 ST                        |5                        |10/10/2022         |(null)                       |MALE           |N                      |(null)                         |1005772            |Y                                                   |(null)                         |(null)                     |208900             |Monday  |(null)          |Y                    |October   |(null)                                    |(null)                                     |Y                                             |Y               |GRY                   |(null)                    |Y                          |(null)                     |P                    |Y                |MENACING                       |(null)            |Y                                   |Y                    |SGT                         |47-52 43 ST                                  |N                        |MED                        |(null)                                    |ARGUMENTATIVE                 |N                        |WHITE                       |50                      |(null)               |18:53:00           |1                            |N                    |Based on Radio Run       |Y                            |(null)                            |POM                     |Y                              |108                       |(null)                       |(null)                                          |(null)                           |QUEENS                            |QUEENS                     |\n",
      "|(null)                               |(null)                           |210               |A                            |(null)               |(null)                               |2022     |CENTER DR                    |17                       |10/10/2022         |(null)                       |MALE           |N                      |(null)                         |990168             |(null)                                              |(null)                         |(null)                     |218969             |Monday  |(null)          |N                    |October   |(null)                                    |(null)                                     |(null)                                        |Y               |BLK                   |ASSAULT                   |Y                          |(null)                     |(null)               |Y                |ASSAULT                        |6.6               |Y                                   |(null)               |SGT                         |CENTER DR && WEST DR                         |N                        |THN                        |(null)                                    |CALM                          |Y                        |BLACK                       |40                      |BLK                  |14:21:00           |0                            |N                    |Based on Radio Run       |(null)                       |(null)                            |POM                     |Y                              |22                        |(null)                       |(null)                                          |(null)                           |MANHATTAN                         |MANHATTAN                  |\n",
      "|(null)                               |(null)                           |175               |C                            |(null)               |(null)                               |2022     |COLUMBUS AVE                 |14                       |10/10/2022         |(null)                       |MALE           |(null)                 |(null)                         |994531             |(null)                                              |(null)                         |(null)                     |230462             |Monday  |(null)          |N                    |October   |Y                                         |(null)                                     |(null)                                        |Y               |BLK                   |CRIMINAL MISCHIEF         |Y                          |(null)                     |P                    |Y                |MENACING                       |5.9               |(null)                              |(null)               |SGT                         |COLUMBUS AVE && W 106 ST                     |N                        |MED                        |(null)                                    |#N/A                          |Y                        |(null)                      |28                      |BRO                  |1:12:00            |1                            |(null)               |Based on Radio Run       |(null)                       |(null)                            |POM                     |Y                              |24                        |(null)                       |(null)                                          |(null)                           |MANHATTAN                         |MANHATTAN                  |\n",
      "|(null)                               |(null)                           |180               |B                            |(null)               |(null)                               |2022     |E FORDHAM RD                 |1                        |10/10/2022         |(null)                       |MALE           |N                      |DISORDERLY CONDUCT             |1013342            |Y                                                   |(null)                         |(null)                     |253369             |Monday  |(null)          |Y                    |October   |Y                                         |(null)                                     |(null)                                        |Y               |BLK                   |(null)                    |Y                          |(null)                     |(null)               |Y                |CPW                            |6                 |(null)                              |Y                    |SGT                         |E FORDHAM RD && TIEBOUT AVE                  |N                        |MED                        |(null)                                    |AGITATED AND AGGRESSIVE       |N                        |BLACK                       |20                      |BRO                  |19:47:00           |1                            |N                    |Based on Self Initiated  |(null)                       |(null)                            |POM                     |Y                              |46                        |(null)                       |(null)                                          |(null)                           |BRONX                             |BRONX                      |\n",
      "|(null)                               |(null)                           |120               |B                            |(null)               |(null)                               |2022     |VALENTINE AVE                |7                        |10/10/2022         |(null)                       |MALE           |N                      |(null)                         |1011770            |(null)                                              |(null)                         |(null)                     |249446             |Monday  |(null)          |N                    |October   |(null)                                    |(null)                                     |Y                                             |Y               |BLK                   |(null)                    |Y                          |(null)                     |(null)               |N                |RECKLESS ENDANGERMENT          |5.8               |Y                                   |(null)               |LT                          |2033 VALENTINE AVE                           |N                        |THN                        |(null)                                    |NERVOUS                       |N                        |BLACK                       |20                      |BRO                  |1:14:00            |0                            |N                    |Based on C/W on Scene    |(null)                       |(null)                            |POM                     |Y                              |46                        |(null)                       |(null)                                          |(null)                           |BRONX                             |BRONX                      |\n",
      "-------------------------------------------------------------------------------------------------------------------------------------------------------------------------------------------------------------------------------------------------------------------------------------------------------------------------------------------------------------------------------------------------------------------------------------------------------------------------------------------------------------------------------------------------------------------------------------------------------------------------------------------------------------------------------------------------------------------------------------------------------------------------------------------------------------------------------------------------------------------------------------------------------------------------------------------------------------------------------------------------------------------------------------------------------------------------------------------------------------------------------------------------------------------------------------------------------------------------------------------------------------------------------------------------------------------------------------------------------------------------------------------------------------------------------------------------------------------------------------------------------------------------------------------------------------------------------------------------------------------------------------------------------------------------------------------------------------------------------------------------------------------------------------\n",
      "\n"
     ]
    }
   ],
   "source": [
    "preprocessed_sqf_df.show()"
   ]
  },
  {
   "cell_type": "code",
   "execution_count": 14,
   "metadata": {},
   "outputs": [],
   "source": [
    "preprocessed_sqf_df = preprocessed_sqf_df.filter(col('STOP_LOCATION_PATROL_BORO_NAME').isin(list(borough_mapping.values())))\n",
    "preprocessed_sqf_df = preprocessed_sqf_df.filter(col('STOP_LOCATION_BORO_NAME').isin(list(borough_mapping.values())))"
   ]
  },
  {
   "cell_type": "code",
   "execution_count": 15,
   "metadata": {},
   "outputs": [
    {
     "name": "stdout",
     "output_type": "stream",
     "text": [
      "-------------------------------------------------------------------------------------------------------------------------------------------------------------------------------------------------------------------------------------------------------------------------------------------------------------------------------------------------------------------------------------------------------------------------------------------------------------------------------------------------------------------------------------------------------------------------------------------------------------------------------------------------------------------------------------------------------------------------------------------------------------------------------------------------------------------------------------------------------------------------------------------------------------------------------------------------------------------------------------------------------------------------------------------------------------------------------------------------------------------------------------------------------------------------------------------------------------------------------------------------------------------------------------------------------------------------------------------------------------------------------------------------------------------------------------------------------------------------------------------------------------------------------------------------------------------------------------------------------------------------------------------------------------------------------------------------------------------------------------------------------------------------------------\n",
      "|\"PHYSICAL_FORCE_OC_SPRAY_USED_FLAG\"  |\"SEARCH_BASIS_HARD_OBJECT_FLAG\"  |\"SUSPECT_WEIGHT\"  |\"STOP_LOCATION_SECTOR_CODE\"  |\"OTHER_WEAPON_FLAG\"  |\"PHYSICAL_FORCE_WEAPON_IMPACT_FLAG\"  |\"YEAR2\"  |\"STOP_LOCATION_STREET_NAME\"  |\"STOP_DURATION_MINUTES\"  |\"STOP_FRISK_DATE\"  |\"PHYSICAL_FORCE_OTHER_FLAG\"  |\"SUSPECT_SEX\"  |\"ASK_FOR_CONSENT_FLG\"  |\"SUMMONS_OFFENSE_DESCRIPTION\"  |\"STOP_LOCATION_X\"  |\"SUSPECTS_ACTIONS_CONCEALED_POSSESSION_WEAPON_F...  |\"SUSPECTS_ACTIONS_OTHER_FLAG\"  |\"PHYSICAL_FORCE_CEW_FLAG\"  |\"STOP_LOCATION_Y\"  |\"DAY2\"  |\"FIREARM_FLAG\"  |\"WEAPON_FOUND_FLAG\"  |\"MONTH2\"  |\"SEARCH_BASIS_INCIDENTAL_TO_ARREST_FLAG\"  |\"SUSPECTS_ACTIONS_DRUG_TRANSACTIONS_FLAG\"  |\"BACKROUND_CIRCUMSTANCES_VIOLENT_CRIME_FLAG\"  |\"FRISKED_FLAG\"  |\"SUSPECT_HAIR_COLOR\"  |\"SUSPECT_ARREST_OFFENSE\"  |\"OFFICER_IN_UNIFORM_FLAG\"  |\"STOP_LOCATION_APARTMENT\"  |\"JURISDICTION_CODE\"  |\"SEARCHED_FLAG\"  |\"SUSPECTED_CRIME_DESCRIPTION\"  |\"SUSPECT_HEIGHT\"  |\"SUSPECTS_ACTIONS_DECRIPTION_FLAG\"  |\"KNIFE_CUTTER_FLAG\"  |\"SUPERVISING_OFFICER_RANK\"  |\"STOP_LOCATION_FULL_ADDRESS\"                 |\"OTHER_CONTRABAND_FLAG\"  |\"SUSPECT_BODY_BUILD_TYPE\"  |\"PHYSICAL_FORCE_DRAW_POINT_FIREARM_FLAG\"  |\"DEMEANOR_OF_PERSON_STOPPED\"  |\"SUSPECT_ARRESTED_FLAG\"  |\"SUSPECT_RACE_DESCRIPTION\"  |\"SUSPECT_REPORTED_AGE\"  |\"SUSPECT_EYE_COLOR\"  |\"STOP_FRISK_TIME\"  |\"OBSERVED_DURATION_MINUTES\"  |\"CONSENT_GIVEN_FLG\"  |\"STOP_WAS_INITIATED\"     |\"SEARCH_BASIS_OUTLINE_FLAG\"  |\"SHIELD_IDENTIFIES_OFFICER_FLAG\"  |\"ISSUING_OFFICER_RANK\"  |\"OFFICER_EXPLAINED_STOP_FLAG\"  |\"STOP_LOCATION_PRECINCT\"  |\"SUSPECT_OTHER_DESCRIPTION\"  |\"SUSPECTS_ACTIONS_IDENTIFY_CRIME_PATTERN_FLAG\"  |\"SUSPECTS_ACTIONS_LOOKOUT_FLAG\"  |\"STOP_LOCATION_PATROL_BORO_NAME\"  |\"STOP_LOCATION_BORO_NAME\"  |\n",
      "-------------------------------------------------------------------------------------------------------------------------------------------------------------------------------------------------------------------------------------------------------------------------------------------------------------------------------------------------------------------------------------------------------------------------------------------------------------------------------------------------------------------------------------------------------------------------------------------------------------------------------------------------------------------------------------------------------------------------------------------------------------------------------------------------------------------------------------------------------------------------------------------------------------------------------------------------------------------------------------------------------------------------------------------------------------------------------------------------------------------------------------------------------------------------------------------------------------------------------------------------------------------------------------------------------------------------------------------------------------------------------------------------------------------------------------------------------------------------------------------------------------------------------------------------------------------------------------------------------------------------------------------------------------------------------------------------------------------------------------------------------------------------------------\n",
      "|(null)                               |(null)                           |180               |A                            |(null)               |(null)                               |2022     |W FORDHAM RD                 |2                        |10/10/2022         |(null)                       |MALE           |N                      |(null)                         |1008387            |Y                                                   |(null)                         |(null)                     |253290             |Monday  |(null)          |N                    |October   |(null)                                    |(null)                                     |(null)                                        |Y               |BLK                   |(null)                    |Y                          |(null)                     |P                    |N                |CPW                            |6.2               |(null)                              |(null)               |SGT                         |W FORDHAM RD && MAJOR DEEGAN EXPY            |N                        |MED                        |(null)                                    |CALM                          |N                        |BLACK                       |25                      |BRO                  |18:23:00           |4                            |N                    |Based on Self Initiated  |(null)                       |(null)                            |POM                     |Y                              |52                        |(null)                       |(null)                                          |(null)                           |BRONX                             |BRONX                      |\n",
      "|(null)                               |(null)                           |225               |B                            |(null)               |(null)                               |2022     |QUEENS BLVD                  |1                        |10/10/2022         |(null)                       |MALE           |N                      |(null)                         |1005238            |(null)                                              |(null)                         |(null)                     |210275             |Monday  |(null)          |N                    |October   |Y                                         |(null)                                     |(null)                                        |N               |BLK                   |PETIT LARCENY             |Y                          |(null)                     |P                    |Y                |PETIT LARCENY                  |6                 |Y                                   |(null)               |SGT                         |QUEENS BLVD && 40 ST                         |N                        |MED                        |(null)                                    |AGGITATED                     |Y                        |BLACK                       |46                      |BLK                  |14:05:00           |1                            |(null)               |Based on C/W on Scene    |(null)                       |(null)                            |POF                     |N                              |108                       |(null)                       |(null)                                          |(null)                           |QUEENS                            |QUEENS                     |\n",
      "|(null)                               |(null)                           |235               |D                            |(null)               |(null)                               |2022     |GUY R BREWER BLVD            |5                        |10/10/2022         |(null)                       |MALE           |N                      |(null)                         |1041970            |(null)                                              |(null)                         |(null)                     |193322             |Monday  |(null)          |N                    |October   |(null)                                    |(null)                                     |(null)                                        |N               |BLK                   |(null)                    |Y                          |(null)                     |(null)               |N                |BURGLARY                       |5.11              |Y                                   |(null)               |SGT                         |107-38 GUY R BREWER BLVD                     |N                        |MED                        |(null)                                    |CALM                          |N                        |BLACK                       |28                      |BRO                  |12:00:00           |1                            |N                    |Based on Radio Run       |(null)                       |(null)                            |POM                     |Y                              |103                       |(null)                       |(null)                                          |Y                                |QUEENS                            |QUEENS                     |\n",
      "|(null)                               |(null)                           |160               |A                            |(null)               |(null)                               |2022     |LONG ISLAND EXPRESSWAY       |6                        |10/10/2022         |(null)                       |MALE           |N                      |(null)                         |1035491            |(null)                                              |(null)                         |(null)                     |208651             |Monday  |(null)          |N                    |October   |(null)                                    |(null)                                     |Y                                             |Y               |BLK                   |(null)                    |Y                          |(null)                     |P                    |N                |ROBBERY                        |5.9               |Y                                   |(null)               |SGT                         |LONG ISLAND EXPRESSWAY && KISSENA BOULEVARD  |N                        |THN                        |(null)                                    |NERVOUS                       |N                        |ASIAN / PACIFIC ISLANDER    |21                      |BRO                  |23:22:00           |1                            |N                    |Based on Radio Run       |(null)                       |(null)                            |POM                     |Y                              |109                       |(null)                       |(null)                                          |(null)                           |QUEENS                            |QUEENS                     |\n",
      "|(null)                               |Y                                |(null)            |D                            |(null)               |(null)                               |2022     |E 98 ST                      |1                        |10/10/2022         |(null)                       |MALE           |N                      |(null)                         |1008104            |Y                                                   |(null)                         |(null)                     |178652             |Monday  |Y               |Y                    |October   |(null)                                    |(null)                                     |Y                                             |Y               |BLK                   |CPW                       |Y                          |(null)                     |P                    |Y                |CPW                            |(null)            |(null)                              |(null)               |SGT                         |E 98 ST && LOTT AVE                          |N                        |THN                        |(null)                                    |NERVOUS                       |Y                        |BLACK                       |(null)                  |BRO                  |0:52:00            |1                            |N                    |Based on Self Initiated  |(null)                       |(null)                            |POM                     |N                              |73                        |(null)                       |(null)                                          |(null)                           |BROOKLYN                          |BROOKLYN                   |\n",
      "|(null)                               |Y                                |(null)            |B                            |(null)               |(null)                               |2022     |43 ST                        |5                        |10/10/2022         |(null)                       |MALE           |N                      |(null)                         |1005772            |Y                                                   |(null)                         |(null)                     |208900             |Monday  |(null)          |Y                    |October   |(null)                                    |(null)                                     |Y                                             |Y               |GRY                   |(null)                    |Y                          |(null)                     |P                    |Y                |MENACING                       |(null)            |Y                                   |Y                    |SGT                         |47-52 43 ST                                  |N                        |MED                        |(null)                                    |ARGUMENTATIVE                 |N                        |WHITE                       |50                      |(null)               |18:53:00           |1                            |N                    |Based on Radio Run       |Y                            |(null)                            |POM                     |Y                              |108                       |(null)                       |(null)                                          |(null)                           |QUEENS                            |QUEENS                     |\n",
      "|(null)                               |(null)                           |210               |A                            |(null)               |(null)                               |2022     |CENTER DR                    |17                       |10/10/2022         |(null)                       |MALE           |N                      |(null)                         |990168             |(null)                                              |(null)                         |(null)                     |218969             |Monday  |(null)          |N                    |October   |(null)                                    |(null)                                     |(null)                                        |Y               |BLK                   |ASSAULT                   |Y                          |(null)                     |(null)               |Y                |ASSAULT                        |6.6               |Y                                   |(null)               |SGT                         |CENTER DR && WEST DR                         |N                        |THN                        |(null)                                    |CALM                          |Y                        |BLACK                       |40                      |BLK                  |14:21:00           |0                            |N                    |Based on Radio Run       |(null)                       |(null)                            |POM                     |Y                              |22                        |(null)                       |(null)                                          |(null)                           |MANHATTAN                         |MANHATTAN                  |\n",
      "|(null)                               |(null)                           |175               |C                            |(null)               |(null)                               |2022     |COLUMBUS AVE                 |14                       |10/10/2022         |(null)                       |MALE           |(null)                 |(null)                         |994531             |(null)                                              |(null)                         |(null)                     |230462             |Monday  |(null)          |N                    |October   |Y                                         |(null)                                     |(null)                                        |Y               |BLK                   |CRIMINAL MISCHIEF         |Y                          |(null)                     |P                    |Y                |MENACING                       |5.9               |(null)                              |(null)               |SGT                         |COLUMBUS AVE && W 106 ST                     |N                        |MED                        |(null)                                    |#N/A                          |Y                        |(null)                      |28                      |BRO                  |1:12:00            |1                            |(null)               |Based on Radio Run       |(null)                       |(null)                            |POM                     |Y                              |24                        |(null)                       |(null)                                          |(null)                           |MANHATTAN                         |MANHATTAN                  |\n",
      "|(null)                               |(null)                           |180               |B                            |(null)               |(null)                               |2022     |E FORDHAM RD                 |1                        |10/10/2022         |(null)                       |MALE           |N                      |DISORDERLY CONDUCT             |1013342            |Y                                                   |(null)                         |(null)                     |253369             |Monday  |(null)          |Y                    |October   |Y                                         |(null)                                     |(null)                                        |Y               |BLK                   |(null)                    |Y                          |(null)                     |(null)               |Y                |CPW                            |6                 |(null)                              |Y                    |SGT                         |E FORDHAM RD && TIEBOUT AVE                  |N                        |MED                        |(null)                                    |AGITATED AND AGGRESSIVE       |N                        |BLACK                       |20                      |BRO                  |19:47:00           |1                            |N                    |Based on Self Initiated  |(null)                       |(null)                            |POM                     |Y                              |46                        |(null)                       |(null)                                          |(null)                           |BRONX                             |BRONX                      |\n",
      "|(null)                               |(null)                           |120               |B                            |(null)               |(null)                               |2022     |VALENTINE AVE                |7                        |10/10/2022         |(null)                       |MALE           |N                      |(null)                         |1011770            |(null)                                              |(null)                         |(null)                     |249446             |Monday  |(null)          |N                    |October   |(null)                                    |(null)                                     |Y                                             |Y               |BLK                   |(null)                    |Y                          |(null)                     |(null)               |N                |RECKLESS ENDANGERMENT          |5.8               |Y                                   |(null)               |LT                          |2033 VALENTINE AVE                           |N                        |THN                        |(null)                                    |NERVOUS                       |N                        |BLACK                       |20                      |BRO                  |1:14:00            |0                            |N                    |Based on C/W on Scene    |(null)                       |(null)                            |POM                     |Y                              |46                        |(null)                       |(null)                                          |(null)                           |BRONX                             |BRONX                      |\n",
      "-------------------------------------------------------------------------------------------------------------------------------------------------------------------------------------------------------------------------------------------------------------------------------------------------------------------------------------------------------------------------------------------------------------------------------------------------------------------------------------------------------------------------------------------------------------------------------------------------------------------------------------------------------------------------------------------------------------------------------------------------------------------------------------------------------------------------------------------------------------------------------------------------------------------------------------------------------------------------------------------------------------------------------------------------------------------------------------------------------------------------------------------------------------------------------------------------------------------------------------------------------------------------------------------------------------------------------------------------------------------------------------------------------------------------------------------------------------------------------------------------------------------------------------------------------------------------------------------------------------------------------------------------------------------------------------------------------------------------------------------------------------------------------------\n",
      "\n"
     ]
    }
   ],
   "source": [
    "preprocessed_sqf_df.show()"
   ]
  },
  {
   "cell_type": "code",
   "execution_count": 16,
   "metadata": {},
   "outputs": [
    {
     "data": {
      "text/plain": [
       "101989"
      ]
     },
     "execution_count": 16,
     "metadata": {},
     "output_type": "execute_result"
    }
   ],
   "source": [
    "preprocessed_sqf_df.count()"
   ]
  },
  {
   "cell_type": "code",
   "execution_count": 17,
   "metadata": {},
   "outputs": [
    {
     "name": "stdout",
     "output_type": "stream",
     "text": [
      "---------------------------------------\n",
      "|\"STOP_LOCATION_BORO_NAME\"  |\"COUNT\"  |\n",
      "---------------------------------------\n",
      "|BRONX                      |23550    |\n",
      "|BROOKLYN                   |31686    |\n",
      "|QUEENS                     |17440    |\n",
      "|STATEN ISLAND              |3640     |\n",
      "|MANHATTAN                  |25673    |\n",
      "---------------------------------------\n",
      "\n"
     ]
    }
   ],
   "source": [
    "preprocessed_sqf_df.group_by('STOP_LOCATION_BORO_NAME')\\\n",
    "        .count()\\\n",
    "        .show()"
   ]
  },
  {
   "cell_type": "code",
   "execution_count": 18,
   "metadata": {},
   "outputs": [
    {
     "name": "stdout",
     "output_type": "stream",
     "text": [
      "----------------------------------------------\n",
      "|\"STOP_LOCATION_PATROL_BORO_NAME\"  |\"COUNT\"  |\n",
      "----------------------------------------------\n",
      "|MANHATTAN                         |25673    |\n",
      "|QUEENS                            |17440    |\n",
      "|STATEN ISLAND                     |3640     |\n",
      "|BRONX                             |23550    |\n",
      "|BROOKLYN                          |31686    |\n",
      "----------------------------------------------\n",
      "\n"
     ]
    }
   ],
   "source": [
    "preprocessed_sqf_df.group_by('STOP_LOCATION_PATROL_BORO_NAME')\\\n",
    "        .count()\\\n",
    "        .show()"
   ]
  },
  {
   "cell_type": "code",
   "execution_count": 19,
   "metadata": {},
   "outputs": [
    {
     "name": "stdout",
     "output_type": "stream",
     "text": [
      "---------------------\n",
      "|\"YEAR2\"  |\"COUNT\"  |\n",
      "---------------------\n",
      "|2017.00  |11197    |\n",
      "|2018     |11008    |\n",
      "|2019     |26918    |\n",
      "|2020     |13715    |\n",
      "|2021     |8947     |\n",
      "|2022     |30204    |\n",
      "---------------------\n",
      "\n"
     ]
    }
   ],
   "source": [
    "preprocessed_sqf_df.group_by('YEAR2')\\\n",
    "        .count()\\\n",
    "        .sort('YEAR2', ascending=True)\\\n",
    "        .show()"
   ]
  },
  {
   "cell_type": "code",
   "execution_count": 20,
   "metadata": {},
   "outputs": [
    {
     "name": "stdout",
     "output_type": "stream",
     "text": [
      "---------------------\n",
      "|\"YEAR2\"  |\"COUNT\"  |\n",
      "---------------------\n",
      "|2017     |11197    |\n",
      "|2018     |11008    |\n",
      "|2019     |26918    |\n",
      "|2020     |13715    |\n",
      "|2021     |8947     |\n",
      "|2022     |30204    |\n",
      "---------------------\n",
      "\n"
     ]
    }
   ],
   "source": [
    "mapping_expr_year = when(col('YEAR2') == '2017.00', '2017')\n",
    "preprocessed_sqf_df = preprocessed_sqf_df.withColumn(\"YEAR2\", mapping_expr_year.otherwise(col(\"YEAR2\")))\n",
    "preprocessed_sqf_df.group_by('YEAR2')\\\n",
    "        .count()\\\n",
    "        .sort('YEAR2', ascending=True)\\\n",
    "        .show()"
   ]
  },
  {
   "cell_type": "code",
   "execution_count": 21,
   "metadata": {},
   "outputs": [
    {
     "data": {
      "text/plain": [
       "101989"
      ]
     },
     "execution_count": 21,
     "metadata": {},
     "output_type": "execute_result"
    }
   ],
   "source": [
    "preprocessed_sqf_df.count()"
   ]
  },
  {
   "cell_type": "code",
   "execution_count": 24,
   "metadata": {},
   "outputs": [
    {
     "name": "stdout",
     "output_type": "stream",
     "text": [
      "----------------------------------------------------------------------------------------------------------------------------------------------------------------------------------------------------------------------------------------------------------------------------------------------------------------------------------------------------------------------------------------------------------------------------------------------------------------------------------------------------------------------------------------------------------------------------------------------------------------------------------------------------------------------------------------------------------------------------------------------------------------------------------------------------------------------------------------------------------------------------------------------------------------------------------------------------------------------------------------------------------------------------------------------------------------------------------------------------------------------------------------------------------------------------------------------------------------------------------------------------------------------------------------------------------------------------------------------------------------------------------------------------------------------------------------------------------------------------------------------------------------------------------------------------------------------------------------------------------------------------------------------------------------------------------------------------------------------------------------------------------------------\n",
      "|\"PHYSICAL_FORCE_OC_SPRAY_USED_FLAG\"  |\"SEARCH_BASIS_HARD_OBJECT_FLAG\"  |\"SUSPECT_WEIGHT\"  |\"STOP_LOCATION_SECTOR_CODE\"  |\"OTHER_WEAPON_FLAG\"  |\"PHYSICAL_FORCE_WEAPON_IMPACT_FLAG\"  |\"STOP_LOCATION_STREET_NAME\"  |\"STOP_DURATION_MINUTES\"  |\"STOP_FRISK_DATE\"  |\"PHYSICAL_FORCE_OTHER_FLAG\"  |\"SUSPECT_SEX\"  |\"ASK_FOR_CONSENT_FLG\"  |\"SUMMONS_OFFENSE_DESCRIPTION\"  |\"STOP_LOCATION_X\"  |\"SUSPECTS_ACTIONS_CONCEALED_POSSESSION_WEAPON_F...  |\"SUSPECTS_ACTIONS_OTHER_FLAG\"  |\"PHYSICAL_FORCE_CEW_FLAG\"  |\"STOP_LOCATION_Y\"  |\"DAY2\"    |\"FIREARM_FLAG\"  |\"WEAPON_FOUND_FLAG\"  |\"MONTH2\"  |\"SEARCH_BASIS_INCIDENTAL_TO_ARREST_FLAG\"  |\"SUSPECTS_ACTIONS_DRUG_TRANSACTIONS_FLAG\"  |\"BACKROUND_CIRCUMSTANCES_VIOLENT_CRIME_FLAG\"  |\"FRISKED_FLAG\"  |\"SUSPECT_HAIR_COLOR\"  |\"SUSPECT_ARREST_OFFENSE\"  |\"OFFICER_IN_UNIFORM_FLAG\"  |\"STOP_LOCATION_APARTMENT\"  |\"JURISDICTION_CODE\"  |\"SEARCHED_FLAG\"  |\"SUSPECTED_CRIME_DESCRIPTION\"  |\"SUSPECT_HEIGHT\"  |\"SUSPECTS_ACTIONS_DECRIPTION_FLAG\"  |\"KNIFE_CUTTER_FLAG\"  |\"SUPERVISING_OFFICER_RANK\"  |\"STOP_LOCATION_FULL_ADDRESS\"  |\"OTHER_CONTRABAND_FLAG\"  |\"SUSPECT_BODY_BUILD_TYPE\"  |\"PHYSICAL_FORCE_DRAW_POINT_FIREARM_FLAG\"  |\"DEMEANOR_OF_PERSON_STOPPED\"  |\"SUSPECT_ARRESTED_FLAG\"  |\"SUSPECT_RACE_DESCRIPTION\"  |\"SUSPECT_REPORTED_AGE\"  |\"SUSPECT_EYE_COLOR\"  |\"STOP_FRISK_TIME\"  |\"OBSERVED_DURATION_MINUTES\"  |\"CONSENT_GIVEN_FLG\"  |\"STOP_WAS_INITIATED\"  |\"SEARCH_BASIS_OUTLINE_FLAG\"  |\"SHIELD_IDENTIFIES_OFFICER_FLAG\"  |\"ISSUING_OFFICER_RANK\"  |\"OFFICER_EXPLAINED_STOP_FLAG\"  |\"STOP_LOCATION_PRECINCT\"  |\"SUSPECT_OTHER_DESCRIPTION\"  |\"SUSPECTS_ACTIONS_IDENTIFY_CRIME_PATTERN_FLAG\"  |\"SUSPECTS_ACTIONS_LOOKOUT_FLAG\"  |\"STOP_LOCATION_PATROL_BORO_NAME\"  |\"STOP_LOCATION_BORO_NAME\"  |\"YEAR2\"   |\n",
      "----------------------------------------------------------------------------------------------------------------------------------------------------------------------------------------------------------------------------------------------------------------------------------------------------------------------------------------------------------------------------------------------------------------------------------------------------------------------------------------------------------------------------------------------------------------------------------------------------------------------------------------------------------------------------------------------------------------------------------------------------------------------------------------------------------------------------------------------------------------------------------------------------------------------------------------------------------------------------------------------------------------------------------------------------------------------------------------------------------------------------------------------------------------------------------------------------------------------------------------------------------------------------------------------------------------------------------------------------------------------------------------------------------------------------------------------------------------------------------------------------------------------------------------------------------------------------------------------------------------------------------------------------------------------------------------------------------------------------------------------------------------------\n",
      "|0.000000                             |0.000000                         |1.673700          |0.050000                     |0.000000             |0.000000                             |0.017600                     |0.000000                 |0.000000           |0.000000                     |0.000000       |21.772000              |0.000000                       |0.000000           |0.000000                                            |0.000000                       |0.000000                   |0.000000           |0.000000  |0.000000        |0.000000             |0.000000  |0.000000                                  |0.000000                                   |0.000000                                      |0.000000        |0.000000              |0.000000                  |0.000000                   |0.000000                   |0.000000             |0.000000         |0.000000                       |1.434500          |0.000000                            |0.000000             |0.000000                    |0.000000                      |0.000000                 |0.000000                   |0.000000                                  |0.000000                      |0.000000                 |0.000000                    |1.031500                |0.000000             |10.793300          |0.000000                     |21.772000            |0.001000              |0.000000                     |0.000000                          |0.000000                |0.000000                       |0.000000                  |0.000000                     |0.000000                                        |0.000000                         |0.000000                          |0.000000                   |0.000000  |\n",
      "----------------------------------------------------------------------------------------------------------------------------------------------------------------------------------------------------------------------------------------------------------------------------------------------------------------------------------------------------------------------------------------------------------------------------------------------------------------------------------------------------------------------------------------------------------------------------------------------------------------------------------------------------------------------------------------------------------------------------------------------------------------------------------------------------------------------------------------------------------------------------------------------------------------------------------------------------------------------------------------------------------------------------------------------------------------------------------------------------------------------------------------------------------------------------------------------------------------------------------------------------------------------------------------------------------------------------------------------------------------------------------------------------------------------------------------------------------------------------------------------------------------------------------------------------------------------------------------------------------------------------------------------------------------------------------------------------------------------------------------------------------------------\n",
      "\n"
     ]
    }
   ],
   "source": [
    "total_rows = preprocessed_sqf_df.count()\n",
    "\n",
    "# Calculate the count of missing values for each column\n",
    "missing_counts = preprocessed_sqf_df.select([sum(col(c).isNull().cast(\"int\")).alias(c) for c in preprocessed_sqf_df.columns])\n",
    "\n",
    "# Calculate the percentage of missing values for each column\n",
    "missing_percentages = missing_counts.select([(col(c) / total_rows * 100).alias(c) for c in missing_counts.columns])\n",
    "\n",
    "# Display the result\n",
    "missing_percentages.show()"
   ]
  },
  {
   "cell_type": "code",
   "execution_count": 25,
   "metadata": {},
   "outputs": [
    {
     "data": {
      "text/plain": [
       "['PHYSICAL_FORCE_OC_SPRAY_USED_FLAG',\n",
       " 'SEARCH_BASIS_HARD_OBJECT_FLAG',\n",
       " 'SUSPECT_WEIGHT',\n",
       " 'STOP_LOCATION_SECTOR_CODE',\n",
       " 'OTHER_WEAPON_FLAG',\n",
       " 'PHYSICAL_FORCE_WEAPON_IMPACT_FLAG',\n",
       " 'STOP_LOCATION_STREET_NAME',\n",
       " 'STOP_DURATION_MINUTES',\n",
       " 'STOP_FRISK_DATE',\n",
       " 'PHYSICAL_FORCE_OTHER_FLAG',\n",
       " 'SUSPECT_SEX',\n",
       " 'ASK_FOR_CONSENT_FLG',\n",
       " 'SUMMONS_OFFENSE_DESCRIPTION',\n",
       " 'STOP_LOCATION_X',\n",
       " 'SUSPECTS_ACTIONS_CONCEALED_POSSESSION_WEAPON_FLAG',\n",
       " 'SUSPECTS_ACTIONS_OTHER_FLAG',\n",
       " 'PHYSICAL_FORCE_CEW_FLAG',\n",
       " 'STOP_LOCATION_Y',\n",
       " 'DAY2',\n",
       " 'FIREARM_FLAG',\n",
       " 'WEAPON_FOUND_FLAG',\n",
       " 'MONTH2',\n",
       " 'SEARCH_BASIS_INCIDENTAL_TO_ARREST_FLAG',\n",
       " 'SUSPECTS_ACTIONS_DRUG_TRANSACTIONS_FLAG',\n",
       " 'BACKROUND_CIRCUMSTANCES_VIOLENT_CRIME_FLAG',\n",
       " 'FRISKED_FLAG',\n",
       " 'SUSPECT_HAIR_COLOR',\n",
       " 'SUSPECT_ARREST_OFFENSE',\n",
       " 'OFFICER_IN_UNIFORM_FLAG',\n",
       " 'STOP_LOCATION_APARTMENT',\n",
       " 'JURISDICTION_CODE',\n",
       " 'SEARCHED_FLAG',\n",
       " 'SUSPECTED_CRIME_DESCRIPTION',\n",
       " 'SUSPECT_HEIGHT',\n",
       " 'SUSPECTS_ACTIONS_DECRIPTION_FLAG',\n",
       " 'KNIFE_CUTTER_FLAG',\n",
       " 'SUPERVISING_OFFICER_RANK',\n",
       " 'STOP_LOCATION_FULL_ADDRESS',\n",
       " 'OTHER_CONTRABAND_FLAG',\n",
       " 'SUSPECT_BODY_BUILD_TYPE',\n",
       " 'PHYSICAL_FORCE_DRAW_POINT_FIREARM_FLAG',\n",
       " 'DEMEANOR_OF_PERSON_STOPPED',\n",
       " 'SUSPECT_ARRESTED_FLAG',\n",
       " 'SUSPECT_RACE_DESCRIPTION',\n",
       " 'SUSPECT_REPORTED_AGE',\n",
       " 'SUSPECT_EYE_COLOR',\n",
       " 'STOP_FRISK_TIME',\n",
       " 'OBSERVED_DURATION_MINUTES',\n",
       " 'CONSENT_GIVEN_FLG',\n",
       " 'STOP_WAS_INITIATED',\n",
       " 'SEARCH_BASIS_OUTLINE_FLAG',\n",
       " 'SHIELD_IDENTIFIES_OFFICER_FLAG',\n",
       " 'ISSUING_OFFICER_RANK',\n",
       " 'OFFICER_EXPLAINED_STOP_FLAG',\n",
       " 'STOP_LOCATION_PRECINCT',\n",
       " 'SUSPECT_OTHER_DESCRIPTION',\n",
       " 'SUSPECTS_ACTIONS_IDENTIFY_CRIME_PATTERN_FLAG',\n",
       " 'SUSPECTS_ACTIONS_LOOKOUT_FLAG',\n",
       " 'STOP_LOCATION_PATROL_BORO_NAME',\n",
       " 'STOP_LOCATION_BORO_NAME',\n",
       " 'YEAR2']"
      ]
     },
     "execution_count": 25,
     "metadata": {},
     "output_type": "execute_result"
    }
   ],
   "source": [
    "preprocessed_sqf_df.columns"
   ]
  },
  {
   "cell_type": "code",
   "execution_count": 26,
   "metadata": {},
   "outputs": [
    {
     "name": "stdout",
     "output_type": "stream",
     "text": [
      "--------------------------------------------------------------------------------------------------------------------------------------------------------------------------------------------------------------------------------------------------------------------------------------------------------------------------------------------------------------------------------------------------------------------------------------------------------------------------------------------------------------------------------------------------------------------------------------------------------------------------------------------------------------------------------------------------------------------------------------------------------------------------------------------------------------------------------------------------------------------------------------------------------------------------------------------------------------------------------------------------------------------------------------------------------------------------------------------------\n",
      "|\"SUSPECT_WEIGHT\"  |\"STOP_LOCATION_SECTOR_CODE\"  |\"STOP_LOCATION_STREET_NAME\"  |\"STOP_DURATION_MINUTES\"  |\"STOP_FRISK_DATE\"  |\"SUSPECT_SEX\"  |\"ASK_FOR_CONSENT_FLG\"  |\"STOP_LOCATION_X\"  |\"STOP_LOCATION_Y\"  |\"DAY2\"    |\"WEAPON_FOUND_FLAG\"  |\"MONTH2\"  |\"FRISKED_FLAG\"  |\"SUSPECT_HAIR_COLOR\"  |\"SUSPECT_ARREST_OFFENSE\"  |\"OFFICER_IN_UNIFORM_FLAG\"  |\"JURISDICTION_CODE\"  |\"SEARCHED_FLAG\"  |\"SUSPECTED_CRIME_DESCRIPTION\"  |\"SUSPECT_HEIGHT\"  |\"SUSPECTS_ACTIONS_DECRIPTION_FLAG\"  |\"SUPERVISING_OFFICER_RANK\"  |\"STOP_LOCATION_FULL_ADDRESS\"  |\"OTHER_CONTRABAND_FLAG\"  |\"SUSPECT_BODY_BUILD_TYPE\"  |\"DEMEANOR_OF_PERSON_STOPPED\"  |\"SUSPECT_ARRESTED_FLAG\"  |\"SUSPECT_RACE_DESCRIPTION\"  |\"SUSPECT_REPORTED_AGE\"  |\"SUSPECT_EYE_COLOR\"  |\"STOP_FRISK_TIME\"  |\"OBSERVED_DURATION_MINUTES\"  |\"CONSENT_GIVEN_FLG\"  |\"STOP_WAS_INITIATED\"     |\"SEARCH_BASIS_OUTLINE_FLAG\"  |\"ISSUING_OFFICER_RANK\"  |\"OFFICER_EXPLAINED_STOP_FLAG\"  |\"STOP_LOCATION_PRECINCT\"  |\"SUSPECT_OTHER_DESCRIPTION\"                         |\"STOP_LOCATION_PATROL_BORO_NAME\"  |\"STOP_LOCATION_BORO_NAME\"  |\"YEAR2\"  |\n",
      "--------------------------------------------------------------------------------------------------------------------------------------------------------------------------------------------------------------------------------------------------------------------------------------------------------------------------------------------------------------------------------------------------------------------------------------------------------------------------------------------------------------------------------------------------------------------------------------------------------------------------------------------------------------------------------------------------------------------------------------------------------------------------------------------------------------------------------------------------------------------------------------------------------------------------------------------------------------------------------------------------------------------------------------------------------------------------------------------------\n",
      "|140               |D                            |ROOSEVELT AVE                |12                       |2021-07-29         |MALE           |N                      |1024332            |213185             |Thursday  |N                    |July      |Y               |BRO                   |ASSAULT                   |Y                          |T                    |Y                |ASSAULT                        |5.6               |Y                                   |SGT                         |ROOSEVELT AVE && 111 ST       |N                        |HEA                        |ANGRY                         |Y                        |WHITE                       |47                      |BRO                  |21:28:00           |4                            |N                    |Based on Radio Run       |(null)                       |POM                     |Y                              |115                       |TATTOO ON RIGHT SHOULDER SCABS ON SHINS LONG MA...  |QUEENS                            |QUEENS                     |2021     |\n",
      "|(null)            |D                            |W 34 ST                      |2                        |2021-07-29         |MALE           |Y                      |986727             |212657             |Thursday  |N                    |July      |Y               |BLK                   |(null)                    |Y                          |T                    |N                |CPW                            |6.1               |Y                                   |SGT                         |W 34 ST && 7 AVE              |N                        |(null)                     |CALM UNDERSTANDING            |N                        |BLACK                       |29                      |BRO                  |00:32:00           |0                            |Y                    |Based on Radio Run       |(null)                       |POM                     |Y                              |014                       |BLACK SWEAT PANTS WHITE POLO GREY SNEAKERS GREY...  |MANHATTAN                         |MANHATTAN                  |2021     |\n",
      "|150               |B                            |W 141 ST                     |2                        |2021-07-29         |MALE           |N                      |999174             |238490             |Thursday  |N                    |July      |Y               |BLK                   |(null)                    |Y                          |(null)               |N                |CPW                            |5.8               |(null)                              |SGT                         |W 141 ST && ST NICHOLAS AVE   |N                        |MED                        |IRRATE                        |N                        |BLACK                       |22                      |BRO                  |22:50:00           |1                            |N                    |Based on Self Initiated  |(null)                       |POM                     |Y                              |030                       |BLACK SWEATSHIRT BLACK SWEATPANTS WHITE SHOES       |MANHATTAN                         |MANHATTAN                  |2021     |\n",
      "|200               |D                            |MARCY AVE                    |10                       |2021-07-29         |MALE           |N                      |997888             |193840             |Thursday  |N                    |July      |N               |BLK                   |OTHER                     |Y                          |(null)               |N                |CPW                            |5.9               |Y                                   |LT                          |472 MARCY AVE                 |Y                        |U                          |UNCOOP                        |Y                        |BLACK                       |34                      |BRO                  |09:00:00           |1                            |N                    |Based on Radio Run       |(null)                       |POM                     |N                              |079                       |(null)                                              |BROOKLYN                          |BROOKLYN                   |2021     |\n",
      "|160               |D                            |NEVINS ST                    |10                       |2021-07-29         |FEMALE         |N                      |988939             |189005             |Thursday  |N                    |July      |N               |BRO                   |ASSAULT                   |Y                          |P                    |N                |ASSAULT                        |5.5               |Y                                   |LT                          |NEVINS ST && PACIFIC ST       |N                        |MED                        |AGITATED                      |Y                        |WHITE HISPANIC              |53                      |BRO                  |12:24:00           |1                            |N                    |Based on C/W on Scene    |(null)                       |POF                     |Y                              |084                       |GREEN T-SHIRT BLUE JEAN PANTS AND BLACK SANDALS     |BROOKLYN                          |BROOKLYN                   |2021     |\n",
      "|200               |B                            |QUEENS BLVD                  |25                       |2021-07-29         |MALE           |N                      |1021099            |205878             |Thursday  |N                    |July      |N               |BRO                   |BURGLARY                  |Y                          |(null)               |N                |BURGLARY                       |6.4               |Y                                   |SGT                         |92-68 QUEENS BLVD             |N                        |U                          |SCARED                        |Y                        |BLACK                       |17                      |BRO                  |02:19:00           |1                            |N                    |Based on Radio Run       |(null)                       |POM                     |Y                              |112                       |(null)                                              |QUEENS                            |QUEENS                     |2021     |\n",
      "|175               |B                            |W 34 ST                      |1                        |2021-07-29         |MALE           |N                      |986727             |212657             |Thursday  |N                    |July      |N               |BLK                   |(null)                    |N                          |T                    |N                |CPW                            |5.7               |Y                                   |SGT                         |W 34 ST && 7 AVE              |N                        |THN                        |A/N                           |N                        |BLACK                       |30                      |BLK                  |00:36:00           |1                            |N                    |Based on Radio Run       |(null)                       |POM                     |Y                              |014                       |UNK                                                 |MANHATTAN                         |MANHATTAN                  |2021     |\n",
      "|(null)            |A                            |LENOX RD                     |5                        |2021-07-29         |MALE           |N                      |998947             |177674             |Thursday  |N                    |July      |Y               |BLK                   |(null)                    |Y                          |P                    |N                |CPW                            |(null)            |Y                                   |LT                          |LENOX RD && NEW YORK AVE      |N                        |THN                        |UNDERSTANDING                 |N                        |BLACK                       |(null)                  |BRO                  |21:56:00           |0                            |N                    |Based on Radio Run       |(null)                       |SGT                     |Y                              |067                       |(null)                                              |BROOKLYN                          |BROOKLYN                   |2021     |\n",
      "|165               |C                            |BOTANICAL SQ                 |10                       |2021-07-30         |MALE           |N                      |1016961            |255452             |Friday    |Y                    |July      |Y               |BLK                   |CPW                       |Y                          |P                    |Y                |CPW                            |5.11              |(null)                              |LT                          |2995 BOTANICAL SQ             |N                        |THN                        |#N/A                          |Y                        |BLACK                       |23                      |BLK                  |00:40:00           |5                            |N                    |Based on Self Initiated  |Y                            |POM                     |Y                              |052                       |(null)                                              |BRONX                             |BRONX                      |2021     |\n",
      "|110               |D                            |PENNSYLVANIA AVE             |5                        |2021-07-30         |MALE           |Y                      |1014956            |178457             |Friday    |Y                    |July      |Y               |BLK                   |(null)                    |Y                          |P                    |Y                |CPW                            |5.8               |Y                                   |SGT                         |864 PENNSYLVANIA AVE          |N                        |THN                        |CAPM                          |N                        |BLACK                       |22                      |BRO                  |19:35:00           |25                           |Y                    |Based on Radio Run       |(null)                       |POM                     |Y                              |075                       |RED SHIRT TAN PANTS                                 |BROOKLYN                          |BROOKLYN                   |2021     |\n",
      "--------------------------------------------------------------------------------------------------------------------------------------------------------------------------------------------------------------------------------------------------------------------------------------------------------------------------------------------------------------------------------------------------------------------------------------------------------------------------------------------------------------------------------------------------------------------------------------------------------------------------------------------------------------------------------------------------------------------------------------------------------------------------------------------------------------------------------------------------------------------------------------------------------------------------------------------------------------------------------------------------------------------------------------------------------------------------------------------------\n",
      "\n"
     ]
    }
   ],
   "source": [
    "columns_to_drop= ['PHYSICAL_FORCE_OC_SPRAY_USED_FLAG', 'SEARCH_BASIS_HARD_OBJECT_FLAG', 'OTHER_WEAPON_FLAG', 'PHYSICAL_FORCE_WEAPON_IMPACT_FLAG',\\\n",
    "                'PHYSICAL_FORCE_OTHER_FLAG', 'SUMMONS_OFFENSE_DESCRIPTION', 'SUSPECTS_ACTIONS_CONCEALED_POSSESSION_WEAPON_FLAG', 'SUSPECTS_ACTIONS_OTHER_FLAG',\\\n",
    "                'PHYSICAL_FORCE_CEW_FLAG', 'FIREARM_FLAG', 'SEARCH_BASIS_INCIDENTAL_TO_ARREST_FLAG', 'SUSPECTS_ACTIONS_DRUG_TRANSACTIONS_FLAG', \\\n",
    "                'BACKROUND_CIRCUMSTANCES_VIOLENT_CRIME_FLAG', 'STOP_LOCATION_APARTMENT', 'KNIFE_CUTTER_FLAG', 'KNIFE_CUTTER_FLAG',\\\n",
    "                'PHYSICAL_FORCE_DRAW_POINT_FIREARM_FLAG', 'SHIELD_IDENTIFIES_OFFICER_FLAG',\\\n",
    "                'SUSPECTS_ACTIONS_IDENTIFY_CRIME_PATTERN_FLAG', 'SUSPECTS_ACTIONS_LOOKOUT_FLAG']\n",
    "preprocessed_sqf_df = preprocessed_sqf_df.drop(*columns_to_drop)\n",
    "preprocessed_sqf_df.show()"
   ]
  },
  {
   "cell_type": "code",
   "execution_count": 27,
   "metadata": {},
   "outputs": [
    {
     "name": "stdout",
     "output_type": "stream",
     "text": [
      "----------------------------------------------------------------------------------------------------------------------------------------------------------------------------------------------------------------------------------------------------------------------------------------------------------------------------------------------------------------------------------------------------------------------------------------------------------------------------------------------------------------------------------------------------------------------------------------------------------------------------------------------------------------------------------------------------------------------------------------------------------------------------------------------------------------------------------------------------------------------------------------------------------------------------------------------------------------------------------------------------------------------------------------------------------------------------------------\n",
      "|\"STOP_FRISK_DATE\"  |\"SUSPECT_WEIGHT\"  |\"STOP_LOCATION_SECTOR_CODE\"  |\"STOP_LOCATION_STREET_NAME\"  |\"STOP_DURATION_MINUTES\"  |\"SUSPECT_SEX\"  |\"ASK_FOR_CONSENT_FLG\"  |\"STOP_LOCATION_X\"  |\"STOP_LOCATION_Y\"  |\"DAY2\"  |\"WEAPON_FOUND_FLAG\"  |\"MONTH2\"  |\"FRISKED_FLAG\"  |\"SUSPECT_HAIR_COLOR\"  |\"SUSPECT_ARREST_OFFENSE\"  |\"OFFICER_IN_UNIFORM_FLAG\"  |\"JURISDICTION_CODE\"  |\"SEARCHED_FLAG\"  |\"SUSPECTED_CRIME_DESCRIPTION\"  |\"SUSPECT_HEIGHT\"  |\"SUSPECTS_ACTIONS_DECRIPTION_FLAG\"  |\"SUPERVISING_OFFICER_RANK\"  |\"STOP_LOCATION_FULL_ADDRESS\"                 |\"OTHER_CONTRABAND_FLAG\"  |\"SUSPECT_BODY_BUILD_TYPE\"  |\"DEMEANOR_OF_PERSON_STOPPED\"  |\"SUSPECT_ARRESTED_FLAG\"  |\"SUSPECT_RACE_DESCRIPTION\"  |\"SUSPECT_REPORTED_AGE\"  |\"SUSPECT_EYE_COLOR\"  |\"STOP_FRISK_TIME\"  |\"OBSERVED_DURATION_MINUTES\"  |\"CONSENT_GIVEN_FLG\"  |\"STOP_WAS_INITIATED\"     |\"SEARCH_BASIS_OUTLINE_FLAG\"  |\"ISSUING_OFFICER_RANK\"  |\"OFFICER_EXPLAINED_STOP_FLAG\"  |\"STOP_LOCATION_PRECINCT\"  |\"SUSPECT_OTHER_DESCRIPTION\"  |\"STOP_LOCATION_PATROL_BORO_NAME\"  |\"STOP_LOCATION_BORO_NAME\"  |\"YEAR2\"  |\n",
      "----------------------------------------------------------------------------------------------------------------------------------------------------------------------------------------------------------------------------------------------------------------------------------------------------------------------------------------------------------------------------------------------------------------------------------------------------------------------------------------------------------------------------------------------------------------------------------------------------------------------------------------------------------------------------------------------------------------------------------------------------------------------------------------------------------------------------------------------------------------------------------------------------------------------------------------------------------------------------------------------------------------------------------------------------------------------------------------\n",
      "|10/10/2022         |180               |A                            |W FORDHAM RD                 |2                        |MALE           |N                      |1008387            |253290             |Monday  |N                    |October   |Y               |BLK                   |NULL                      |Y                          |P                    |N                |CPW                            |6.2               |NULL                                |SGT                         |W FORDHAM RD && MAJOR DEEGAN EXPY            |N                        |MED                        |CALM                          |N                        |BLACK                       |25                      |BRO                  |18:23:00           |4                            |N                    |Based on Self Initiated  |NULL                         |POM                     |Y                              |52                        |NULL                         |BRONX                             |BRONX                      |2022     |\n",
      "|10/10/2022         |225               |B                            |QUEENS BLVD                  |1                        |MALE           |N                      |1005238            |210275             |Monday  |N                    |October   |N               |BLK                   |PETIT LARCENY             |Y                          |P                    |Y                |PETIT LARCENY                  |6                 |Y                                   |SGT                         |QUEENS BLVD && 40 ST                         |N                        |MED                        |AGGITATED                     |Y                        |BLACK                       |46                      |BLK                  |14:05:00           |1                            |NULL                 |Based on C/W on Scene    |NULL                         |POF                     |N                              |108                       |NULL                         |QUEENS                            |QUEENS                     |2022     |\n",
      "|10/10/2022         |235               |D                            |GUY R BREWER BLVD            |5                        |MALE           |N                      |1041970            |193322             |Monday  |N                    |October   |N               |BLK                   |NULL                      |Y                          |NULL                 |N                |BURGLARY                       |5.11              |Y                                   |SGT                         |107-38 GUY R BREWER BLVD                     |N                        |MED                        |CALM                          |N                        |BLACK                       |28                      |BRO                  |12:00:00           |1                            |N                    |Based on Radio Run       |NULL                         |POM                     |Y                              |103                       |NULL                         |QUEENS                            |QUEENS                     |2022     |\n",
      "|10/10/2022         |160               |A                            |LONG ISLAND EXPRESSWAY       |6                        |MALE           |N                      |1035491            |208651             |Monday  |N                    |October   |Y               |BLK                   |NULL                      |Y                          |P                    |N                |ROBBERY                        |5.9               |Y                                   |SGT                         |LONG ISLAND EXPRESSWAY && KISSENA BOULEVARD  |N                        |THN                        |NERVOUS                       |N                        |ASIAN / PACIFIC ISLANDER    |21                      |BRO                  |23:22:00           |1                            |N                    |Based on Radio Run       |NULL                         |POM                     |Y                              |109                       |NULL                         |QUEENS                            |QUEENS                     |2022     |\n",
      "|10/10/2022         |NULL              |D                            |E 98 ST                      |1                        |MALE           |N                      |1008104            |178652             |Monday  |Y                    |October   |Y               |BLK                   |CPW                       |Y                          |P                    |Y                |CPW                            |NULL              |NULL                                |SGT                         |E 98 ST && LOTT AVE                          |N                        |THN                        |NERVOUS                       |Y                        |BLACK                       |NULL                    |BRO                  |0:52:00            |1                            |N                    |Based on Self Initiated  |NULL                         |POM                     |N                              |73                        |NULL                         |BROOKLYN                          |BROOKLYN                   |2022     |\n",
      "|10/10/2022         |NULL              |B                            |43 ST                        |5                        |MALE           |N                      |1005772            |208900             |Monday  |Y                    |October   |Y               |GRY                   |NULL                      |Y                          |P                    |Y                |MENACING                       |NULL              |Y                                   |SGT                         |47-52 43 ST                                  |N                        |MED                        |ARGUMENTATIVE                 |N                        |WHITE                       |50                      |NULL                 |18:53:00           |1                            |N                    |Based on Radio Run       |Y                            |POM                     |Y                              |108                       |NULL                         |QUEENS                            |QUEENS                     |2022     |\n",
      "|10/10/2022         |210               |A                            |CENTER DR                    |17                       |MALE           |N                      |990168             |218969             |Monday  |N                    |October   |Y               |BLK                   |ASSAULT                   |Y                          |NULL                 |Y                |ASSAULT                        |6.6               |Y                                   |SGT                         |CENTER DR && WEST DR                         |N                        |THN                        |CALM                          |Y                        |BLACK                       |40                      |BLK                  |14:21:00           |0                            |N                    |Based on Radio Run       |NULL                         |POM                     |Y                              |22                        |NULL                         |MANHATTAN                         |MANHATTAN                  |2022     |\n",
      "|10/10/2022         |175               |C                            |COLUMBUS AVE                 |14                       |MALE           |NULL                   |994531             |230462             |Monday  |N                    |October   |Y               |BLK                   |CRIMINAL MISCHIEF         |Y                          |P                    |Y                |MENACING                       |5.9               |NULL                                |SGT                         |COLUMBUS AVE && W 106 ST                     |N                        |MED                        |#N/A                          |Y                        |NULL                        |28                      |BRO                  |1:12:00            |1                            |NULL                 |Based on Radio Run       |NULL                         |POM                     |Y                              |24                        |NULL                         |MANHATTAN                         |MANHATTAN                  |2022     |\n",
      "|10/10/2022         |180               |B                            |E FORDHAM RD                 |1                        |MALE           |N                      |1013342            |253369             |Monday  |Y                    |October   |Y               |BLK                   |NULL                      |Y                          |NULL                 |Y                |CPW                            |6                 |NULL                                |SGT                         |E FORDHAM RD && TIEBOUT AVE                  |N                        |MED                        |AGITATED AND AGGRESSIVE       |N                        |BLACK                       |20                      |BRO                  |19:47:00           |1                            |N                    |Based on Self Initiated  |NULL                         |POM                     |Y                              |46                        |NULL                         |BRONX                             |BRONX                      |2022     |\n",
      "|10/10/2022         |120               |B                            |VALENTINE AVE                |7                        |MALE           |N                      |1011770            |249446             |Monday  |N                    |October   |Y               |BLK                   |NULL                      |Y                          |NULL                 |N                |RECKLESS ENDANGERMENT          |5.8               |Y                                   |LT                          |2033 VALENTINE AVE                           |N                        |THN                        |NERVOUS                       |N                        |BLACK                       |20                      |BRO                  |1:14:00            |0                            |N                    |Based on C/W on Scene    |NULL                         |POM                     |Y                              |46                        |NULL                         |BRONX                             |BRONX                      |2022     |\n",
      "----------------------------------------------------------------------------------------------------------------------------------------------------------------------------------------------------------------------------------------------------------------------------------------------------------------------------------------------------------------------------------------------------------------------------------------------------------------------------------------------------------------------------------------------------------------------------------------------------------------------------------------------------------------------------------------------------------------------------------------------------------------------------------------------------------------------------------------------------------------------------------------------------------------------------------------------------------------------------------------------------------------------------------------------------------------------------------------\n",
      "\n"
     ]
    }
   ],
   "source": [
    "columns_to_convert_null_values = ['SUSPECT_WEIGHT', 'STOP_LOCATION_SECTOR_CODE', 'STOP_LOCATION_STREET_NAME', 'STOP_DURATION_MINUTES',\\\n",
    " 'SUSPECT_SEX', 'ASK_FOR_CONSENT_FLG', 'STOP_LOCATION_X', 'STOP_LOCATION_Y', 'DAY2', 'WEAPON_FOUND_FLAG', 'MONTH2', 'FRISKED_FLAG',\\\n",
    " 'SUSPECT_HAIR_COLOR', 'SUSPECT_ARREST_OFFENSE', 'OFFICER_IN_UNIFORM_FLAG', 'JURISDICTION_CODE', 'SEARCHED_FLAG', 'SUSPECTED_CRIME_DESCRIPTION',\\\n",
    " 'SUSPECT_HEIGHT', 'SUSPECTS_ACTIONS_DECRIPTION_FLAG', 'SUPERVISING_OFFICER_RANK', 'STOP_LOCATION_FULL_ADDRESS', 'OTHER_CONTRABAND_FLAG',\\\n",
    " 'SUSPECT_BODY_BUILD_TYPE', 'DEMEANOR_OF_PERSON_STOPPED', 'SUSPECT_ARRESTED_FLAG', 'SUSPECT_RACE_DESCRIPTION', 'SUSPECT_REPORTED_AGE',\\\n",
    " 'SUSPECT_EYE_COLOR', 'STOP_FRISK_TIME', 'OBSERVED_DURATION_MINUTES', 'CONSENT_GIVEN_FLG', 'STOP_WAS_INITIATED', 'SEARCH_BASIS_OUTLINE_FLAG',\\\n",
    " 'ISSUING_OFFICER_RANK', 'OFFICER_EXPLAINED_STOP_FLAG', 'STOP_LOCATION_PRECINCT', 'SUSPECT_OTHER_DESCRIPTION', 'STOP_LOCATION_PATROL_BORO_NAME',\\\n",
    " 'STOP_LOCATION_BORO_NAME', 'YEAR2']\n",
    "\n",
    "for column in columns_to_convert_null_values:\n",
    "    for key, value in null_value_mapping.items():\n",
    "        preprocessed_sqf_df = preprocessed_sqf_df.withColumn(column, when(col(column) == key, value).otherwise(col(column)))\n",
    "\n",
    "preprocessed_sqf_df.show()"
   ]
  },
  {
   "cell_type": "code",
   "execution_count": 28,
   "metadata": {},
   "outputs": [
    {
     "name": "stdout",
     "output_type": "stream",
     "text": [
      "-------------------------------------------------------------------------------------------------------------------------------------------------------------------------------------------------------------------------------------------------------------------------------------------------------------------------------------------------------------------------------------------------------------------------------------------------------------------------------------------------------------------------------------------------------------------------------------------------------------------------------------------------------------------------------------------------------------------------------------------------------------------------------------------------------------------------------------------------------------------------------------------------------------------------------------------------------------------------------------------------------------------------------------------------------------------------\n",
      "|\"STOP_FRISK_DATE\"  |\"SUSPECT_WEIGHT\"  |\"STOP_LOCATION_SECTOR_CODE\"  |\"STOP_LOCATION_STREET_NAME\"  |\"STOP_DURATION_MINUTES\"  |\"SUSPECT_SEX\"  |\"ASK_FOR_CONSENT_FLG\"  |\"STOP_LOCATION_X\"  |\"STOP_LOCATION_Y\"  |\"DAY2\"    |\"WEAPON_FOUND_FLAG\"  |\"MONTH2\"  |\"FRISKED_FLAG\"  |\"SUSPECT_HAIR_COLOR\"  |\"SUSPECT_ARREST_OFFENSE\"  |\"OFFICER_IN_UNIFORM_FLAG\"  |\"JURISDICTION_CODE\"  |\"SEARCHED_FLAG\"  |\"SUSPECTED_CRIME_DESCRIPTION\"  |\"SUSPECT_HEIGHT\"  |\"SUSPECTS_ACTIONS_DECRIPTION_FLAG\"  |\"SUPERVISING_OFFICER_RANK\"  |\"STOP_LOCATION_FULL_ADDRESS\"  |\"OTHER_CONTRABAND_FLAG\"  |\"SUSPECT_BODY_BUILD_TYPE\"  |\"DEMEANOR_OF_PERSON_STOPPED\"  |\"SUSPECT_ARRESTED_FLAG\"  |\"SUSPECT_RACE_DESCRIPTION\"  |\"SUSPECT_REPORTED_AGE\"  |\"SUSPECT_EYE_COLOR\"  |\"STOP_FRISK_TIME\"  |\"OBSERVED_DURATION_MINUTES\"  |\"CONSENT_GIVEN_FLG\"  |\"STOP_WAS_INITIATED\"  |\"SEARCH_BASIS_OUTLINE_FLAG\"  |\"ISSUING_OFFICER_RANK\"  |\"OFFICER_EXPLAINED_STOP_FLAG\"  |\"STOP_LOCATION_PRECINCT\"  |\"SUSPECT_OTHER_DESCRIPTION\"  |\"STOP_LOCATION_PATROL_BORO_NAME\"  |\"STOP_LOCATION_BORO_NAME\"  |\"YEAR2\"   |\n",
      "-------------------------------------------------------------------------------------------------------------------------------------------------------------------------------------------------------------------------------------------------------------------------------------------------------------------------------------------------------------------------------------------------------------------------------------------------------------------------------------------------------------------------------------------------------------------------------------------------------------------------------------------------------------------------------------------------------------------------------------------------------------------------------------------------------------------------------------------------------------------------------------------------------------------------------------------------------------------------------------------------------------------------------------------------------------------------\n",
      "|0.000000           |4.922100          |0.543200                     |0.018600                     |0.000000                 |0.610900       |24.139900              |0.005900           |0.005900           |0.000000  |0.005900             |0.000000  |0.000000        |2.264000              |67.203300                 |0.000000                   |33.633000            |0.000000         |0.000000                       |4.031800          |42.181000                           |1.816900                    |0.000000                      |0.000000                 |2.277700                   |0.147100                      |0.000000                 |1.050100                    |8.662700                |3.168000             |10.793300          |0.000000                     |30.437600            |0.006900              |97.627200                    |0.003900                |0.000000                       |0.000000                  |58.290600                    |0.000000                          |0.000000                   |0.000000  |\n",
      "-------------------------------------------------------------------------------------------------------------------------------------------------------------------------------------------------------------------------------------------------------------------------------------------------------------------------------------------------------------------------------------------------------------------------------------------------------------------------------------------------------------------------------------------------------------------------------------------------------------------------------------------------------------------------------------------------------------------------------------------------------------------------------------------------------------------------------------------------------------------------------------------------------------------------------------------------------------------------------------------------------------------------------------------------------------------------\n",
      "\n"
     ]
    }
   ],
   "source": [
    "total_rows = preprocessed_sqf_df.count()\n",
    "\n",
    "# Calculate the count of missing values for each column\n",
    "missing_counts = preprocessed_sqf_df.select([sum(col(c).isNull().cast(\"int\")).alias(c) for c in preprocessed_sqf_df.columns])\n",
    "\n",
    "# Calculate the percentage of missing values for each column\n",
    "missing_percentages = missing_counts.select([(col(c) / total_rows * 100).alias(c) for c in missing_counts.columns])\n",
    "\n",
    "# Display the result\n",
    "missing_percentages.show()"
   ]
  },
  {
   "cell_type": "code",
   "execution_count": 29,
   "metadata": {},
   "outputs": [],
   "source": [
    "distinct_values_cols_check = ['STOP_LOCATION_SECTOR_CODE', 'SUSPECT_SEX', 'ASK_FOR_CONSENT_FLG', 'WEAPON_FOUND_FLAG', 'MONTH2', 'FRISKED_FLAG',\\\n",
    " 'SUSPECT_HAIR_COLOR', 'SUSPECT_ARREST_OFFENSE', 'OFFICER_IN_UNIFORM_FLAG', 'JURISDICTION_CODE', 'SEARCHED_FLAG', 'SUSPECTS_ACTIONS_DECRIPTION_FLAG',\\\n",
    " 'SUPERVISING_OFFICER_RANK', 'OTHER_CONTRABAND_FLAG', 'SUSPECT_BODY_BUILD_TYPE', 'DEMEANOR_OF_PERSON_STOPPED', 'SUSPECT_ARRESTED_FLAG',\\\n",
    " 'SUSPECT_EYE_COLOR', 'CONSENT_GIVEN_FLG', 'STOP_WAS_INITIATED', 'ISSUING_OFFICER_RANK', 'OFFICER_EXPLAINED_STOP_FLAG',\\\n",
    " 'STOP_LOCATION_PATROL_BORO_NAME', 'STOP_LOCATION_BORO_NAME', 'YEAR2', 'SUSPECT_RACE_DESCRIPTION']"
   ]
  },
  {
   "cell_type": "code",
   "execution_count": 28,
   "metadata": {},
   "outputs": [
    {
     "name": "stdout",
     "output_type": "stream",
     "text": [
      "Number of distinct values in STOP_LOCATION_SECTOR_CODE: 18\n",
      "Number of distinct values in SUSPECT_SEX: 3\n",
      "Number of distinct values in ASK_FOR_CONSENT_FLG: 3\n",
      "Number of distinct values in WEAPON_FOUND_FLAG: 3\n",
      "Number of distinct values in MONTH2: 12\n",
      "Number of distinct values in FRISKED_FLAG: 2\n",
      "Number of distinct values in SUSPECT_HAIR_COLOR: 17\n",
      "Number of distinct values in SUSPECT_ARREST_OFFENSE: 32\n",
      "Number of distinct values in OFFICER_IN_UNIFORM_FLAG: 2\n",
      "Number of distinct values in JURISDICTION_CODE: 5\n",
      "Number of distinct values in SEARCHED_FLAG: 2\n",
      "Number of distinct values in SUSPECTS_ACTIONS_DECRIPTION_FLAG: 2\n",
      "Number of distinct values in SUPERVISING_OFFICER_RANK: 16\n",
      "Number of distinct values in OTHER_CONTRABAND_FLAG: 2\n",
      "Number of distinct values in SUSPECT_BODY_BUILD_TYPE: 10\n",
      "Number of distinct values in DEMEANOR_OF_PERSON_STOPPED: 6326\n",
      "Number of distinct values in SUSPECT_ARRESTED_FLAG: 2\n",
      "Number of distinct values in SUSPECT_EYE_COLOR: 13\n",
      "Number of distinct values in CONSENT_GIVEN_FLG: 3\n",
      "Number of distinct values in STOP_WAS_INITIATED: 4\n",
      "Number of distinct values in ISSUING_OFFICER_RANK: 18\n",
      "Number of distinct values in OFFICER_EXPLAINED_STOP_FLAG: 2\n",
      "Number of distinct values in STOP_LOCATION_PATROL_BORO_NAME: 5\n",
      "Number of distinct values in STOP_LOCATION_BORO_NAME: 5\n",
      "Number of distinct values in YEAR2: 6\n",
      "Number of distinct values in SUSPECT_RACE_DESCRIPTION: 12\n"
     ]
    }
   ],
   "source": [
    "for column in distinct_values_cols_check:\n",
    "    distinct_count = preprocessed_sqf_df.select(column).distinct().count()\n",
    "    print(f\"Number of distinct values in {column}: {distinct_count}\")"
   ]
  },
  {
   "cell_type": "code",
   "execution_count": 30,
   "metadata": {},
   "outputs": [
    {
     "name": "stdout",
     "output_type": "stream",
     "text": [
      "Distinct values in STOP_LOCATION_SECTOR_CODE:\n",
      "-------------------------------\n",
      "|\"STOP_LOCATION_SECTOR_CODE\"  |\n",
      "-------------------------------\n",
      "|D                            |\n",
      "|C                            |\n",
      "|A                            |\n",
      "|J                            |\n",
      "|1                            |\n",
      "|M                            |\n",
      "|I                            |\n",
      "|K                            |\n",
      "|B                            |\n",
      "|NULL                         |\n",
      "-------------------------------\n",
      "\n",
      "Distinct values in SUSPECT_SEX:\n",
      "-----------------\n",
      "|\"SUSPECT_SEX\"  |\n",
      "-----------------\n",
      "|MALE           |\n",
      "|FEMALE         |\n",
      "|NULL           |\n",
      "-----------------\n",
      "\n",
      "Distinct values in ASK_FOR_CONSENT_FLG:\n",
      "-------------------------\n",
      "|\"ASK_FOR_CONSENT_FLG\"  |\n",
      "-------------------------\n",
      "|N                      |\n",
      "|NULL                   |\n",
      "|Y                      |\n",
      "-------------------------\n",
      "\n",
      "Distinct values in WEAPON_FOUND_FLAG:\n",
      "-----------------------\n",
      "|\"WEAPON_FOUND_FLAG\"  |\n",
      "-----------------------\n",
      "|N                    |\n",
      "|Y                    |\n",
      "|NULL                 |\n",
      "-----------------------\n",
      "\n",
      "Distinct values in MONTH2:\n",
      "-------------\n",
      "|\"MONTH2\"   |\n",
      "-------------\n",
      "|October    |\n",
      "|December   |\n",
      "|June       |\n",
      "|January    |\n",
      "|April      |\n",
      "|May        |\n",
      "|July       |\n",
      "|August     |\n",
      "|September  |\n",
      "|February   |\n",
      "-------------\n",
      "\n",
      "Distinct values in FRISKED_FLAG:\n",
      "------------------\n",
      "|\"FRISKED_FLAG\"  |\n",
      "------------------\n",
      "|N               |\n",
      "|Y               |\n",
      "------------------\n",
      "\n",
      "Distinct values in SUSPECT_HAIR_COLOR:\n",
      "------------------------\n",
      "|\"SUSPECT_HAIR_COLOR\"  |\n",
      "------------------------\n",
      "|BLD                   |\n",
      "|WHI                   |\n",
      "|SDY                   |\n",
      "|ZZZ                   |\n",
      "|BLK                   |\n",
      "|GRY                   |\n",
      "|BLN                   |\n",
      "|XXX                   |\n",
      "|ORG                   |\n",
      "|BRO                   |\n",
      "------------------------\n",
      "\n",
      "Distinct values in SUSPECT_ARREST_OFFENSE:\n",
      "----------------------------\n",
      "|\"SUSPECT_ARREST_OFFENSE\"  |\n",
      "----------------------------\n",
      "|PETIT LARCENY             |\n",
      "|ROBBERY                   |\n",
      "|MENACING                  |\n",
      "|GRAND LARCENY AUTO        |\n",
      "|GRAND LARCENY             |\n",
      "|MURDER                    |\n",
      "|CPW                       |\n",
      "|ASSAULT                   |\n",
      "|RAPE                      |\n",
      "|CRIMINAL TRESPASS         |\n",
      "----------------------------\n",
      "\n",
      "Distinct values in OFFICER_IN_UNIFORM_FLAG:\n",
      "-----------------------------\n",
      "|\"OFFICER_IN_UNIFORM_FLAG\"  |\n",
      "-----------------------------\n",
      "|Y                          |\n",
      "|N                          |\n",
      "-----------------------------\n",
      "\n",
      "Distinct values in JURISDICTION_CODE:\n",
      "-----------------------\n",
      "|\"JURISDICTION_CODE\"  |\n",
      "-----------------------\n",
      "|T                    |\n",
      "|NULL                 |\n",
      "|H                    |\n",
      "|P                    |\n",
      "|A                    |\n",
      "-----------------------\n",
      "\n",
      "Distinct values in SEARCHED_FLAG:\n",
      "-------------------\n",
      "|\"SEARCHED_FLAG\"  |\n",
      "-------------------\n",
      "|N                |\n",
      "|Y                |\n",
      "-------------------\n",
      "\n",
      "Distinct values in SUSPECTS_ACTIONS_DECRIPTION_FLAG:\n",
      "--------------------------------------\n",
      "|\"SUSPECTS_ACTIONS_DECRIPTION_FLAG\"  |\n",
      "--------------------------------------\n",
      "|Y                                   |\n",
      "|NULL                                |\n",
      "--------------------------------------\n",
      "\n",
      "Distinct values in SUPERVISING_OFFICER_RANK:\n",
      "------------------------------\n",
      "|\"SUPERVISING_OFFICER_RANK\"  |\n",
      "------------------------------\n",
      "|POF                         |\n",
      "|CPT                         |\n",
      "|DI                          |\n",
      "|DI                          |\n",
      "|LT                          |\n",
      "|INS                         |\n",
      "|DTS                         |\n",
      "|LT                          |\n",
      "|LSA                         |\n",
      "|LCD                         |\n",
      "------------------------------\n",
      "\n",
      "Distinct values in OTHER_CONTRABAND_FLAG:\n",
      "---------------------------\n",
      "|\"OTHER_CONTRABAND_FLAG\"  |\n",
      "---------------------------\n",
      "|N                        |\n",
      "|Y                        |\n",
      "---------------------------\n",
      "\n",
      "Distinct values in SUSPECT_BODY_BUILD_TYPE:\n",
      "-----------------------------\n",
      "|\"SUSPECT_BODY_BUILD_TYPE\"  |\n",
      "-----------------------------\n",
      "|MED                        |\n",
      "|M                          |\n",
      "|HEA                        |\n",
      "|U                          |\n",
      "|THN                        |\n",
      "|NULL                       |\n",
      "|T                          |\n",
      "|U                          |\n",
      "|H                          |\n",
      "|XXX                        |\n",
      "-----------------------------\n",
      "\n",
      "Distinct values in DEMEANOR_OF_PERSON_STOPPED:\n",
      "---------------------------------------\n",
      "|\"DEMEANOR_OF_PERSON_STOPPED\"         |\n",
      "---------------------------------------\n",
      "|UNDERSTANDING                        |\n",
      "|SWEATING, AGITATED.                  |\n",
      "|HAPPY                                |\n",
      "|QUIET                                |\n",
      "|NERVOUS, VERBALLY EVASIVE            |\n",
      "|SCARED                               |\n",
      "|IRRITTATED                           |\n",
      "|SWEATING/ NERVOUS                    |\n",
      "|AGITATED, UNCOOPERATIVE AND NERVOUS  |\n",
      "|CALM/ UNDERSTANDING                  |\n",
      "---------------------------------------\n",
      "\n",
      "Distinct values in SUSPECT_ARRESTED_FLAG:\n",
      "---------------------------\n",
      "|\"SUSPECT_ARRESTED_FLAG\"  |\n",
      "---------------------------\n",
      "|N                        |\n",
      "|Y                        |\n",
      "---------------------------\n",
      "\n",
      "Distinct values in SUSPECT_EYE_COLOR:\n",
      "-----------------------\n",
      "|\"SUSPECT_EYE_COLOR\"  |\n",
      "-----------------------\n",
      "|BLU                  |\n",
      "|ZZZ                  |\n",
      "|HAZ                  |\n",
      "|OTH                  |\n",
      "|BRO                  |\n",
      "|NULL                 |\n",
      "|MAR                  |\n",
      "|BLK                  |\n",
      "|MUL                  |\n",
      "|PNK                  |\n",
      "-----------------------\n",
      "\n",
      "Distinct values in CONSENT_GIVEN_FLG:\n",
      "-----------------------\n",
      "|\"CONSENT_GIVEN_FLG\"  |\n",
      "-----------------------\n",
      "|N                    |\n",
      "|Y                    |\n",
      "|NULL                 |\n",
      "-----------------------\n",
      "\n",
      "Distinct values in STOP_WAS_INITIATED:\n",
      "---------------------------\n",
      "|\"STOP_WAS_INITIATED\"     |\n",
      "---------------------------\n",
      "|Based on Self Initiated  |\n",
      "|Based on C/W on Scene    |\n",
      "|NULL                     |\n",
      "|Based on Radio Run       |\n",
      "---------------------------\n",
      "\n",
      "Distinct values in ISSUING_OFFICER_RANK:\n",
      "--------------------------\n",
      "|\"ISSUING_OFFICER_RANK\"  |\n",
      "--------------------------\n",
      "|DT2                     |\n",
      "|SGT                     |\n",
      "|SDS                     |\n",
      "|POM                     |\n",
      "|DT3                     |\n",
      "|LT                      |\n",
      "|LSA                     |\n",
      "|SSA                     |\n",
      "|DT1                     |\n",
      "|DTS                     |\n",
      "--------------------------\n",
      "\n",
      "Distinct values in OFFICER_EXPLAINED_STOP_FLAG:\n",
      "---------------------------------\n",
      "|\"OFFICER_EXPLAINED_STOP_FLAG\"  |\n",
      "---------------------------------\n",
      "|Y                              |\n",
      "|N                              |\n",
      "---------------------------------\n",
      "\n",
      "Distinct values in STOP_LOCATION_PATROL_BORO_NAME:\n",
      "------------------------------------\n",
      "|\"STOP_LOCATION_PATROL_BORO_NAME\"  |\n",
      "------------------------------------\n",
      "|MANHATTAN                         |\n",
      "|BRONX                             |\n",
      "|BROOKLYN                          |\n",
      "|QUEENS                            |\n",
      "|STATEN ISLAND                     |\n",
      "------------------------------------\n",
      "\n",
      "Distinct values in STOP_LOCATION_BORO_NAME:\n",
      "-----------------------------\n",
      "|\"STOP_LOCATION_BORO_NAME\"  |\n",
      "-----------------------------\n",
      "|BRONX                      |\n",
      "|BROOKLYN                   |\n",
      "|QUEENS                     |\n",
      "|STATEN ISLAND              |\n",
      "|MANHATTAN                  |\n",
      "-----------------------------\n",
      "\n",
      "Distinct values in YEAR2:\n",
      "-----------\n",
      "|\"YEAR2\"  |\n",
      "-----------\n",
      "|2021     |\n",
      "|2017     |\n",
      "|2019     |\n",
      "|2020     |\n",
      "|2018     |\n",
      "|2022     |\n",
      "-----------\n",
      "\n",
      "Distinct values in SUSPECT_RACE_DESCRIPTION:\n",
      "----------------------------------\n",
      "|\"SUSPECT_RACE_DESCRIPTION\"      |\n",
      "----------------------------------\n",
      "|WHITE HISPANIC                  |\n",
      "|ASIAN / PACIFIC ISLANDER        |\n",
      "|AMERICAN INDIAN/ALASKAN NATIVE  |\n",
      "|MIDDLE EASTERN/SOUTHWEST        |\n",
      "|WHITE                           |\n",
      "|NULL                            |\n",
      "|AMERICAN INDIAN/ALASKAN N       |\n",
      "|BLACK HISPANIC                  |\n",
      "|AMER IND                        |\n",
      "|BLACK                           |\n",
      "----------------------------------\n",
      "\n"
     ]
    }
   ],
   "source": [
    "for col in distinct_values_cols_check:\n",
    "    distinct_values = preprocessed_sqf_df.select(col).distinct()\n",
    "    print(f\"Distinct values in {col}:\")\n",
    "    #print('=' * 35)\n",
    "    distinct_values.show()"
   ]
  },
  {
   "cell_type": "code",
   "execution_count": 30,
   "metadata": {},
   "outputs": [
    {
     "name": "stdout",
     "output_type": "stream",
     "text": [
      "--------------------------------------------\n",
      "|\"SUSPECT_RACE_DESCRIPTION\"      |\"COUNT\"  |\n",
      "--------------------------------------------\n",
      "|BLACK HISPANIC                  |9007     |\n",
      "|AMER IND                        |9        |\n",
      "|WHITE                           |8563     |\n",
      "|NULL                            |1071     |\n",
      "|AMERICAN INDIAN/ALASKAN N       |41       |\n",
      "|ASIAN / PACIFIC ISLANDER        |1961     |\n",
      "|WHITE HISPANIC                  |21084    |\n",
      "|AMERICAN INDIAN/ALASKAN NATIVE  |74       |\n",
      "|MIDDLE EASTERN/SOUTHWEST        |183      |\n",
      "|BLACK                           |59426    |\n",
      "--------------------------------------------\n",
      "\n"
     ]
    }
   ],
   "source": [
    "preprocessed_sqf_df.group_by('SUSPECT_RACE_DESCRIPTION')\\\n",
    "        .count()\\\n",
    "        .show()"
   ]
  },
  {
   "cell_type": "code",
   "execution_count": 30,
   "metadata": {},
   "outputs": [],
   "source": [
    "mapping_expr = when(col('SUSPECT_RACE_DESCRIPTION') == 'AMER IND', 'AMERICAN INDIAN/ALASKAN NATIVE')\n",
    "for key, value in race_mapping.items():\n",
    "    mapping_expr = mapping_expr.when(col(\"SUSPECT_RACE_DESCRIPTION\") == key, value)\n",
    "\n",
    "preprocessed_sqf_df = preprocessed_sqf_df.withColumn(\"SUSPECT_RACE_DESCRIPTION\", mapping_expr.otherwise(col(\"SUSPECT_RACE_DESCRIPTION\")))"
   ]
  },
  {
   "cell_type": "code",
   "execution_count": 31,
   "metadata": {},
   "outputs": [
    {
     "name": "stdout",
     "output_type": "stream",
     "text": [
      "----------------------------------------------------------------------------------------------------------------------------------------------------------------------------------------------------------------------------------------------------------------------------------------------------------------------------------------------------------------------------------------------------------------------------------------------------------------------------------------------------------------------------------------------------------------------------------------------------------------------------------------------------------------------------------------------------------------------------------------------------------------------------------------------------------------------------------------------------------------------------------------------------------------------------------------------------------------------------------------------------------------------------------------------------------------------------------------\n",
      "|\"STOP_FRISK_DATE\"  |\"SUSPECT_WEIGHT\"  |\"STOP_LOCATION_SECTOR_CODE\"  |\"STOP_LOCATION_STREET_NAME\"  |\"STOP_DURATION_MINUTES\"  |\"SUSPECT_SEX\"  |\"ASK_FOR_CONSENT_FLG\"  |\"STOP_LOCATION_X\"  |\"STOP_LOCATION_Y\"  |\"DAY2\"  |\"WEAPON_FOUND_FLAG\"  |\"MONTH2\"  |\"FRISKED_FLAG\"  |\"SUSPECT_HAIR_COLOR\"  |\"SUSPECT_ARREST_OFFENSE\"  |\"OFFICER_IN_UNIFORM_FLAG\"  |\"JURISDICTION_CODE\"  |\"SEARCHED_FLAG\"  |\"SUSPECTED_CRIME_DESCRIPTION\"  |\"SUSPECT_HEIGHT\"  |\"SUSPECTS_ACTIONS_DECRIPTION_FLAG\"  |\"SUPERVISING_OFFICER_RANK\"  |\"STOP_LOCATION_FULL_ADDRESS\"                 |\"OTHER_CONTRABAND_FLAG\"  |\"SUSPECT_BODY_BUILD_TYPE\"  |\"DEMEANOR_OF_PERSON_STOPPED\"  |\"SUSPECT_ARRESTED_FLAG\"  |\"SUSPECT_REPORTED_AGE\"  |\"SUSPECT_EYE_COLOR\"  |\"STOP_FRISK_TIME\"  |\"OBSERVED_DURATION_MINUTES\"  |\"CONSENT_GIVEN_FLG\"  |\"STOP_WAS_INITIATED\"     |\"SEARCH_BASIS_OUTLINE_FLAG\"  |\"ISSUING_OFFICER_RANK\"  |\"OFFICER_EXPLAINED_STOP_FLAG\"  |\"STOP_LOCATION_PRECINCT\"  |\"SUSPECT_OTHER_DESCRIPTION\"  |\"STOP_LOCATION_PATROL_BORO_NAME\"  |\"STOP_LOCATION_BORO_NAME\"  |\"YEAR2\"  |\"SUSPECT_RACE_DESCRIPTION\"  |\n",
      "----------------------------------------------------------------------------------------------------------------------------------------------------------------------------------------------------------------------------------------------------------------------------------------------------------------------------------------------------------------------------------------------------------------------------------------------------------------------------------------------------------------------------------------------------------------------------------------------------------------------------------------------------------------------------------------------------------------------------------------------------------------------------------------------------------------------------------------------------------------------------------------------------------------------------------------------------------------------------------------------------------------------------------------------------------------------------------------\n",
      "|10/10/2022         |180               |A                            |W FORDHAM RD                 |2                        |MALE           |N                      |1008387            |253290             |Monday  |N                    |October   |Y               |BLK                   |NULL                      |Y                          |P                    |N                |CPW                            |6.2               |NULL                                |SGT                         |W FORDHAM RD && MAJOR DEEGAN EXPY            |N                        |MED                        |CALM                          |N                        |25                      |BRO                  |18:23:00           |4                            |N                    |Based on Self Initiated  |NULL                         |POM                     |Y                              |52                        |NULL                         |BRONX                             |BRONX                      |2022     |BLACK                       |\n",
      "|10/10/2022         |225               |B                            |QUEENS BLVD                  |1                        |MALE           |N                      |1005238            |210275             |Monday  |N                    |October   |N               |BLK                   |PETIT LARCENY             |Y                          |P                    |Y                |PETIT LARCENY                  |6                 |Y                                   |SGT                         |QUEENS BLVD && 40 ST                         |N                        |MED                        |AGGITATED                     |Y                        |46                      |BLK                  |14:05:00           |1                            |NULL                 |Based on C/W on Scene    |NULL                         |POF                     |N                              |108                       |NULL                         |QUEENS                            |QUEENS                     |2022     |BLACK                       |\n",
      "|10/10/2022         |235               |D                            |GUY R BREWER BLVD            |5                        |MALE           |N                      |1041970            |193322             |Monday  |N                    |October   |N               |BLK                   |NULL                      |Y                          |NULL                 |N                |BURGLARY                       |5.11              |Y                                   |SGT                         |107-38 GUY R BREWER BLVD                     |N                        |MED                        |CALM                          |N                        |28                      |BRO                  |12:00:00           |1                            |N                    |Based on Radio Run       |NULL                         |POM                     |Y                              |103                       |NULL                         |QUEENS                            |QUEENS                     |2022     |BLACK                       |\n",
      "|10/10/2022         |160               |A                            |LONG ISLAND EXPRESSWAY       |6                        |MALE           |N                      |1035491            |208651             |Monday  |N                    |October   |Y               |BLK                   |NULL                      |Y                          |P                    |N                |ROBBERY                        |5.9               |Y                                   |SGT                         |LONG ISLAND EXPRESSWAY && KISSENA BOULEVARD  |N                        |THN                        |NERVOUS                       |N                        |21                      |BRO                  |23:22:00           |1                            |N                    |Based on Radio Run       |NULL                         |POM                     |Y                              |109                       |NULL                         |QUEENS                            |QUEENS                     |2022     |ASIAN/PACIFIC ISLANDER      |\n",
      "|10/10/2022         |NULL              |D                            |E 98 ST                      |1                        |MALE           |N                      |1008104            |178652             |Monday  |Y                    |October   |Y               |BLK                   |CPW                       |Y                          |P                    |Y                |CPW                            |NULL              |NULL                                |SGT                         |E 98 ST && LOTT AVE                          |N                        |THN                        |NERVOUS                       |Y                        |NULL                    |BRO                  |0:52:00            |1                            |N                    |Based on Self Initiated  |NULL                         |POM                     |N                              |73                        |NULL                         |BROOKLYN                          |BROOKLYN                   |2022     |BLACK                       |\n",
      "|10/10/2022         |NULL              |B                            |43 ST                        |5                        |MALE           |N                      |1005772            |208900             |Monday  |Y                    |October   |Y               |GRY                   |NULL                      |Y                          |P                    |Y                |MENACING                       |NULL              |Y                                   |SGT                         |47-52 43 ST                                  |N                        |MED                        |ARGUMENTATIVE                 |N                        |50                      |NULL                 |18:53:00           |1                            |N                    |Based on Radio Run       |Y                            |POM                     |Y                              |108                       |NULL                         |QUEENS                            |QUEENS                     |2022     |WHITE                       |\n",
      "|10/10/2022         |210               |A                            |CENTER DR                    |17                       |MALE           |N                      |990168             |218969             |Monday  |N                    |October   |Y               |BLK                   |ASSAULT                   |Y                          |NULL                 |Y                |ASSAULT                        |6.6               |Y                                   |SGT                         |CENTER DR && WEST DR                         |N                        |THN                        |CALM                          |Y                        |40                      |BLK                  |14:21:00           |0                            |N                    |Based on Radio Run       |NULL                         |POM                     |Y                              |22                        |NULL                         |MANHATTAN                         |MANHATTAN                  |2022     |BLACK                       |\n",
      "|10/10/2022         |175               |C                            |COLUMBUS AVE                 |14                       |MALE           |NULL                   |994531             |230462             |Monday  |N                    |October   |Y               |BLK                   |CRIMINAL MISCHIEF         |Y                          |P                    |Y                |MENACING                       |5.9               |NULL                                |SGT                         |COLUMBUS AVE && W 106 ST                     |N                        |MED                        |#N/A                          |Y                        |28                      |BRO                  |1:12:00            |1                            |NULL                 |Based on Radio Run       |NULL                         |POM                     |Y                              |24                        |NULL                         |MANHATTAN                         |MANHATTAN                  |2022     |NULL                        |\n",
      "|10/10/2022         |180               |B                            |E FORDHAM RD                 |1                        |MALE           |N                      |1013342            |253369             |Monday  |Y                    |October   |Y               |BLK                   |NULL                      |Y                          |NULL                 |Y                |CPW                            |6                 |NULL                                |SGT                         |E FORDHAM RD && TIEBOUT AVE                  |N                        |MED                        |AGITATED AND AGGRESSIVE       |N                        |20                      |BRO                  |19:47:00           |1                            |N                    |Based on Self Initiated  |NULL                         |POM                     |Y                              |46                        |NULL                         |BRONX                             |BRONX                      |2022     |BLACK                       |\n",
      "|10/10/2022         |120               |B                            |VALENTINE AVE                |7                        |MALE           |N                      |1011770            |249446             |Monday  |N                    |October   |Y               |BLK                   |NULL                      |Y                          |NULL                 |N                |RECKLESS ENDANGERMENT          |5.8               |Y                                   |LT                          |2033 VALENTINE AVE                           |N                        |THN                        |NERVOUS                       |N                        |20                      |BRO                  |1:14:00            |0                            |N                    |Based on C/W on Scene    |NULL                         |POM                     |Y                              |46                        |NULL                         |BRONX                             |BRONX                      |2022     |BLACK                       |\n",
      "----------------------------------------------------------------------------------------------------------------------------------------------------------------------------------------------------------------------------------------------------------------------------------------------------------------------------------------------------------------------------------------------------------------------------------------------------------------------------------------------------------------------------------------------------------------------------------------------------------------------------------------------------------------------------------------------------------------------------------------------------------------------------------------------------------------------------------------------------------------------------------------------------------------------------------------------------------------------------------------------------------------------------------------------------------------------------------------\n",
      "\n"
     ]
    }
   ],
   "source": [
    "preprocessed_sqf_df.show()"
   ]
  },
  {
   "cell_type": "code",
   "execution_count": 32,
   "metadata": {},
   "outputs": [
    {
     "name": "stdout",
     "output_type": "stream",
     "text": [
      "--------------------------------------------\n",
      "|\"SUSPECT_RACE_DESCRIPTION\"      |\"COUNT\"  |\n",
      "--------------------------------------------\n",
      "|WHITE HISPANIC                  |21084    |\n",
      "|AMERICAN INDIAN/ALASKAN NATIVE  |124      |\n",
      "|WHITE                           |8563     |\n",
      "|NULL                            |1071     |\n",
      "|BLACK                           |59426    |\n",
      "|ASIAN/PACIFIC ISLANDER          |2164     |\n",
      "|MIDDLE EASTERN/SOUTHWEST ASIAN  |550      |\n",
      "|BLACK HISPANIC                  |9007     |\n",
      "--------------------------------------------\n",
      "\n"
     ]
    }
   ],
   "source": [
    "preprocessed_sqf_df.group_by('SUSPECT_RACE_DESCRIPTION')\\\n",
    "        .count()\\\n",
    "        .show()"
   ]
  },
  {
   "cell_type": "code",
   "execution_count": 33,
   "metadata": {},
   "outputs": [
    {
     "name": "stdout",
     "output_type": "stream",
     "text": [
      "---------------------------\n",
      "|\"SUSPECT_SEX\"  |\"COUNT\"  |\n",
      "---------------------------\n",
      "|MALE           |92676    |\n",
      "|FEMALE         |8690     |\n",
      "|NULL           |623      |\n",
      "---------------------------\n",
      "\n"
     ]
    }
   ],
   "source": [
    "preprocessed_sqf_df.group_by('SUSPECT_SEX')\\\n",
    "        .count()\\\n",
    "        .show()"
   ]
  },
  {
   "cell_type": "code",
   "execution_count": 35,
   "metadata": {},
   "outputs": [
    {
     "name": "stdout",
     "output_type": "stream",
     "text": [
      "---------------------\n",
      "|\"STOP_FRISK_DATE\"  |\n",
      "---------------------\n",
      "|1/2/2019           |\n",
      "|1/23/2019          |\n",
      "|1/24/2019          |\n",
      "|2/4/2019           |\n",
      "|3/10/2019          |\n",
      "|4/2/2019           |\n",
      "|6/20/2019          |\n",
      "|9/5/2019           |\n",
      "|12/27/2019         |\n",
      "|3/19/2019          |\n",
      "---------------------\n",
      "\n"
     ]
    }
   ],
   "source": [
    "preprocessed_sqf_df.select('STOP_FRISK_DATE').distinct().show()"
   ]
  },
  {
   "cell_type": "code",
   "execution_count": 34,
   "metadata": {},
   "outputs": [
    {
     "name": "stdout",
     "output_type": "stream",
     "text": [
      "--------------------------------------------------------------------------------------------------------------------------------------------------------------------------------------------------------------------------------------------------------------------------------------------------------------------------------------------------------------------------------------------------------------------------------------------------------------------------------------------------------------------------------------------------------------------------------------------------------------------------------------------------------------------------------------------------------------------------------------------------------------------------------------------------------------------------------------------------------------------------------------------------------------------------------------------------------------------------------------------------------------------------------------------------------------------------------\n",
      "|\"SUSPECT_WEIGHT\"  |\"STOP_LOCATION_SECTOR_CODE\"  |\"STOP_LOCATION_STREET_NAME\"  |\"STOP_DURATION_MINUTES\"  |\"SUSPECT_SEX\"  |\"ASK_FOR_CONSENT_FLG\"  |\"STOP_LOCATION_X\"  |\"STOP_LOCATION_Y\"  |\"DAY2\"     |\"WEAPON_FOUND_FLAG\"  |\"MONTH2\"  |\"FRISKED_FLAG\"  |\"SUSPECT_HAIR_COLOR\"  |\"SUSPECT_ARREST_OFFENSE\"  |\"OFFICER_IN_UNIFORM_FLAG\"  |\"JURISDICTION_CODE\"  |\"SEARCHED_FLAG\"  |\"SUSPECTED_CRIME_DESCRIPTION\"  |\"SUSPECT_HEIGHT\"  |\"SUSPECTS_ACTIONS_DECRIPTION_FLAG\"  |\"SUPERVISING_OFFICER_RANK\"  |\"STOP_LOCATION_FULL_ADDRESS\"  |\"OTHER_CONTRABAND_FLAG\"  |\"SUSPECT_BODY_BUILD_TYPE\"  |\"DEMEANOR_OF_PERSON_STOPPED\"  |\"SUSPECT_ARRESTED_FLAG\"  |\"SUSPECT_REPORTED_AGE\"  |\"SUSPECT_EYE_COLOR\"  |\"STOP_FRISK_TIME\"  |\"OBSERVED_DURATION_MINUTES\"  |\"CONSENT_GIVEN_FLG\"  |\"STOP_WAS_INITIATED\"   |\"SEARCH_BASIS_OUTLINE_FLAG\"  |\"ISSUING_OFFICER_RANK\"  |\"OFFICER_EXPLAINED_STOP_FLAG\"  |\"STOP_LOCATION_PRECINCT\"  |\"SUSPECT_OTHER_DESCRIPTION\"    |\"STOP_LOCATION_PATROL_BORO_NAME\"  |\"STOP_LOCATION_BORO_NAME\"  |\"YEAR2\"  |\"SUSPECT_RACE_DESCRIPTION\"      |\"STOP_FRISK_DATE\"  |\n",
      "--------------------------------------------------------------------------------------------------------------------------------------------------------------------------------------------------------------------------------------------------------------------------------------------------------------------------------------------------------------------------------------------------------------------------------------------------------------------------------------------------------------------------------------------------------------------------------------------------------------------------------------------------------------------------------------------------------------------------------------------------------------------------------------------------------------------------------------------------------------------------------------------------------------------------------------------------------------------------------------------------------------------------------------------------------------------------------\n",
      "|160               |D                            |SEAVER WAY                   |7                        |MALE           |N                      |1027679            |214505             |Friday     |N                    |June      |N               |BRO                   |ROBBERY                   |Y                          |P                    |Y                |ROBBERY                        |5.11              |Y                                   |SGT                         |SEAVER WAY && ROOSEVELT AVE   |N                        |THN                        |CALM                          |Y                        |40                      |BRO                  |17:24:00           |1                            |N                    |Based on Radio Run     |NULL                         |POM                     |Y                              |110                       |GREY SHIRT KHAKI PANTS DARK B  |QUEENS                            |QUEENS                     |2020     |WHITE HISPANIC                  |2020-06-19         |\n",
      "|110               |D                            |1 AVE                        |33                       |FEMALE         |Y                      |999396             |224456             |Sunday     |N                    |June      |N               |RED                   |NULL                      |Y                          |P                    |Y                |PETIT LARCENY                  |5.3               |Y                                   |SGT                         |1841 1 AVE                    |N                        |THN                        |NOT ABLE TO SIT STILL         |N                        |NULL                    |BRO                  |11:50:00           |1                            |Y                    |Based on Radio Run     |NULL                         |POM                     |Y                              |19                        |ORANGE SHIRT                   |MANHATTAN                         |MANHATTAN                  |2020     |WHITE                           |2020-06-07         |\n",
      "|130               |D                            |SHORE PKWY                   |14                       |MALE           |N                      |1003694            |152650             |Monday     |N                    |June      |N               |BLK                   |NULL                      |Y                          |P                    |N                |OTHER                          |5.7               |Y                                   |SGT                         |SHORE PKWY && KNAPP ST        |N                        |THN                        |NERVOUS, LOOKING AROUND.      |N                        |17                      |BLK                  |1:09:00            |0                            |N                    |Based on C/W on Scene  |NULL                         |POM                     |Y                              |61                        |N/A                            |BROOKLYN                          |BROOKLYN                   |2020     |MIDDLE EASTERN/SOUTHWEST ASIAN  |2020-06-15         |\n",
      "|170               |B                            |W 13 ST                      |22                       |MALE           |Y                      |984603             |207840             |Friday     |N                    |June      |N               |BLK                   |NULL                      |Y                          |NULL                 |N                |PETIT LARCENY                  |6                 |Y                                   |SSA                         |130 W 13 ST                   |N                        |THN                        |COMPLIANT                     |N                        |42                      |BLK                  |22:20:00           |1                            |Y                    |Based on Radio Run     |NULL                         |POM                     |Y                              |6                         |GREEN LEOTARD  BLACK SHORTS R  |MANHATTAN                         |MANHATTAN                  |2020     |WHITE HISPANIC                  |2020-06-19         |\n",
      "|140               |C                            |E 128 ST                     |3                        |MALE           |N                      |1001515            |233286             |Monday     |N                    |June      |Y               |BLK                   |NULL                      |Y                          |P                    |N                |ROBBERY                        |5.1               |Y                                   |SGT                         |E 128 ST && PARK AVE          |N                        |THN                        |NERVOUS                       |N                        |30                      |BRO                  |4:05:00            |1                            |N                    |Based on Radio Run     |NULL                         |POF                     |Y                              |25                        |NULL                           |MANHATTAN                         |MANHATTAN                  |2020     |BLACK HISPANIC                  |2020-06-15         |\n",
      "|110               |A                            |FULTON ST                    |10                       |FEMALE         |N                      |994019             |188128             |Wednesday  |N                    |June      |N               |BRO                   |NULL                      |Y                          |P                    |Y                |PETIT LARCENY                  |5.4               |Y                                   |SGT                         |FULTON ST && WASHINGTON AVE   |N                        |THN                        |APOLOGETIC                    |N                        |51                      |BRO                  |11:30:00           |1                            |N                    |Based on C/W on Scene  |NULL                         |POM                     |Y                              |88                        |NULL                           |BROOKLYN                          |BROOKLYN                   |2020     |WHITE HISPANIC                  |2020-06-03         |\n",
      "|165               |B                            |E 125 ST                     |5                        |MALE           |N                      |1001575            |232339             |Sunday     |N                    |June      |N               |BLK                   |NULL                      |Y                          |NULL                 |N                |ASSAULT                        |5.7               |Y                                   |SGT                         |E 125 ST && LEXINGTON AVE     |N                        |THN                        |#N/A                          |N                        |25                      |BRO                  |0:42:00            |5                            |N                    |Based on C/W on Scene  |NULL                         |POM                     |Y                              |25                        |NULL                           |MANHATTAN                         |MANHATTAN                  |2020     |WHITE HISPANIC                  |2020-06-21         |\n",
      "|NULL              |A                            |WASHINGTON AVE               |10                       |MALE           |N                      |1010168            |243011             |Sunday     |N                    |June      |Y               |BLK                   |NULL                      |Y                          |H                    |N                |OTHER                          |NULL              |Y                                   |SGT                         |1309 WASHINGTON AVE           |N                        |MED                        |UPSET                         |N                        |NULL                    |BRO                  |18:38:00           |3                            |N                    |Based on C/W on Scene  |NULL                         |POM                     |Y                              |42                        |NEON GREEN SWEATER             |BRONX                             |BRONX                      |2020     |BLACK                           |2020-06-14         |\n",
      "|170               |C                            |MERMAID AVE                  |7                        |NULL           |Y                      |988480             |149357             |Monday     |N                    |June      |N               |BLK                   |NULL                      |Y                          |NULL                 |N                |BURGLARY                       |6.4               |Y                                   |SGT                         |MERMAID AVE && W 17 ST        |N                        |THN                        |UPSET                         |N                        |NULL                    |BRO                  |4:30:00            |1                            |Y                    |Based on Radio Run     |NULL                         |POM                     |Y                              |60                        |NULL                           |BROOKLYN                          |BROOKLYN                   |2020     |BLACK                           |2020-06-15         |\n",
      "|120               |D                            |HARWAY AVE                   |10                       |MALE           |N                      |986616             |154918             |Thursday   |N                    |June      |Y               |BLK                   |PETIT LARCENY             |Y                          |P                    |Y                |PETIT LARCENY                  |5.6               |Y                                   |SGT                         |2544 HARWAY AVE               |N                        |THN                        |CALM                          |Y                        |44                      |BRO                  |11:50:00           |1                            |N                    |Based on Radio Run     |NULL                         |POM                     |Y                              |62                        |NULL                           |BROOKLYN                          |BROOKLYN                   |2020     |WHITE HISPANIC                  |2020-06-04         |\n",
      "--------------------------------------------------------------------------------------------------------------------------------------------------------------------------------------------------------------------------------------------------------------------------------------------------------------------------------------------------------------------------------------------------------------------------------------------------------------------------------------------------------------------------------------------------------------------------------------------------------------------------------------------------------------------------------------------------------------------------------------------------------------------------------------------------------------------------------------------------------------------------------------------------------------------------------------------------------------------------------------------------------------------------------------------------------------------------------\n",
      "\n"
     ]
    }
   ],
   "source": [
    "sql_expr_for_date_conversion = \"\"\"\n",
    "    TO_DATE(STOP_FRISK_DATE)\n",
    "\"\"\"\n",
    "\n",
    "preprocessed_sqf_df = preprocessed_sqf_df.withColumn(\"STOP_FRISK_DATE\", expr(sql_expr_for_date_conversion))\n",
    "preprocessed_sqf_df.show()\n"
   ]
  },
  {
   "cell_type": "code",
   "execution_count": 35,
   "metadata": {},
   "outputs": [
    {
     "name": "stdout",
     "output_type": "stream",
     "text": [
      "---------------------\n",
      "|\"STOP_FRISK_DATE\"  |\n",
      "---------------------\n",
      "|2020-06-19         |\n",
      "|2020-06-16         |\n",
      "|2020-06-08         |\n",
      "|2021-07-30         |\n",
      "|2021-08-02         |\n",
      "---------------------\n",
      "\n"
     ]
    }
   ],
   "source": [
    "preprocessed_sqf_df.select('STOP_FRISK_DATE').distinct().limit(5).show()"
   ]
  },
  {
   "cell_type": "code",
   "execution_count": 39,
   "metadata": {},
   "outputs": [
    {
     "name": "stdout",
     "output_type": "stream",
     "text": [
      "[SUCCESS] Data saved successfully in SAFEGUARDING_NYC_SCHEMA_SILVER.SQF_DATA table in Snowflake!\n"
     ]
    }
   ],
   "source": [
    "table_name = 'SQF_DATA'\n",
    "schema_name = 'SAFEGUARDING_NYC_SCHEMA_SILVER'\n",
    "snowflake_helper.save_data_in_snowflake(session, schema_name, table_name, preprocessed_sqf_df, mode=\"overwrite\")"
   ]
  },
  {
   "cell_type": "code",
   "execution_count": null,
   "metadata": {},
   "outputs": [],
   "source": []
  }
 ],
 "metadata": {
  "kernelspec": {
   "display_name": "Python 3",
   "language": "python",
   "name": "python3"
  },
  "language_info": {
   "codemirror_mode": {
    "name": "ipython",
    "version": 3
   },
   "file_extension": ".py",
   "mimetype": "text/x-python",
   "name": "python",
   "nbconvert_exporter": "python",
   "pygments_lexer": "ipython3",
   "version": "3.10.10"
  }
 },
 "nbformat": 4,
 "nbformat_minor": 2
}
